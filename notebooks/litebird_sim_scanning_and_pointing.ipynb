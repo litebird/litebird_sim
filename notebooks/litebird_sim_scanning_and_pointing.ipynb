{
 "cells": [
  {
   "cell_type": "code",
   "execution_count": 1,
   "id": "406643c5-00a9-4fe0-b901-7cfd34afa70e",
   "metadata": {},
   "outputs": [],
   "source": [
    "# Colab Setup (Run this first)"
   ]
  },
  {
   "cell_type": "code",
   "execution_count": 2,
   "id": "04986fa9-1774-4573-9c36-efb8359a9f5e",
   "metadata": {},
   "outputs": [
    {
     "name": "stdout",
     "output_type": "stream",
     "text": [
      "Requirement already satisfied: litebird_sim in /opt/homebrew/Caskroom/miniconda/base/envs/litebird_sim/lib/python3.11/site-packages (0.15.0)\n",
      "Requirement already satisfied: rich in /opt/homebrew/Caskroom/miniconda/base/envs/litebird_sim/lib/python3.11/site-packages (14.0.0)\n",
      "Requirement already satisfied: PyGithub<3.0.0,>=2.6.1 in /opt/homebrew/Caskroom/miniconda/base/envs/litebird_sim/lib/python3.11/site-packages (from litebird_sim) (2.6.1)\n",
      "Requirement already satisfied: asciimatics<2.0.0,>=1.15.0 in /opt/homebrew/Caskroom/miniconda/base/envs/litebird_sim/lib/python3.11/site-packages (from litebird_sim) (1.15.0)\n",
      "Requirement already satisfied: astropy==6.1.7 in /opt/homebrew/Caskroom/miniconda/base/envs/litebird_sim/lib/python3.11/site-packages (from litebird_sim) (6.1.7)\n",
      "Requirement already satisfied: deprecation<3.0.0,>=2.1.0 in /opt/homebrew/Caskroom/miniconda/base/envs/litebird_sim/lib/python3.11/site-packages (from litebird_sim) (2.1.0)\n",
      "Requirement already satisfied: ducc0<0.39.0,>=0.38.0 in /opt/homebrew/Caskroom/miniconda/base/envs/litebird_sim/lib/python3.11/site-packages (from litebird_sim) (0.38.0)\n",
      "Requirement already satisfied: h5py<4.0,>=3.9 in /opt/homebrew/Caskroom/miniconda/base/envs/litebird_sim/lib/python3.11/site-packages (from litebird_sim) (3.13.0)\n",
      "Requirement already satisfied: healpy<2.0.0,>=1.18.1 in /opt/homebrew/Caskroom/miniconda/base/envs/litebird_sim/lib/python3.11/site-packages (from litebird_sim) (1.18.1)\n",
      "Requirement already satisfied: jinja2<4.0,>=3.1 in /opt/homebrew/Caskroom/miniconda/base/envs/litebird_sim/lib/python3.11/site-packages (from litebird_sim) (3.1.6)\n",
      "Requirement already satisfied: jplephem<3.0,>=2.22 in /opt/homebrew/Caskroom/miniconda/base/envs/litebird_sim/lib/python3.11/site-packages (from litebird_sim) (2.22)\n",
      "Requirement already satisfied: libinsdb<0.9.0,>=0.8.0 in /opt/homebrew/Caskroom/miniconda/base/envs/litebird_sim/lib/python3.11/site-packages (from litebird_sim) (0.8.0)\n",
      "Requirement already satisfied: markdown<4.0,>=3.8 in /opt/homebrew/Caskroom/miniconda/base/envs/litebird_sim/lib/python3.11/site-packages (from litebird_sim) (3.8)\n",
      "Requirement already satisfied: markdown-katex<202407.0,>=202406.1035 in /opt/homebrew/Caskroom/miniconda/base/envs/litebird_sim/lib/python3.11/site-packages (from litebird_sim) (202406.1035)\n",
      "Requirement already satisfied: matplotlib<4.0.0,>=3.10.3 in /opt/homebrew/Caskroom/miniconda/base/envs/litebird_sim/lib/python3.11/site-packages (from litebird_sim) (3.10.3)\n",
      "Requirement already satisfied: numba<0.62.0,>=0.61.2 in /opt/homebrew/Caskroom/miniconda/base/envs/litebird_sim/lib/python3.11/site-packages (from litebird_sim) (0.61.2)\n",
      "Requirement already satisfied: numpy<2.0.0,>=1.26.4 in /opt/homebrew/Caskroom/miniconda/base/envs/litebird_sim/lib/python3.11/site-packages (from litebird_sim) (1.26.4)\n",
      "Requirement already satisfied: poetry-plugin-export<2.0.0,>=1.9.0 in /opt/homebrew/Caskroom/miniconda/base/envs/litebird_sim/lib/python3.11/site-packages (from litebird_sim) (1.9.0)\n",
      "Requirement already satisfied: pre-commit<5.0.0,>=4.2.0 in /opt/homebrew/Caskroom/miniconda/base/envs/litebird_sim/lib/python3.11/site-packages (from litebird_sim) (4.2.0)\n",
      "Requirement already satisfied: pydata-sphinx-theme<0.17.0,>=0.16.1 in /opt/homebrew/Caskroom/miniconda/base/envs/litebird_sim/lib/python3.11/site-packages (from litebird_sim) (0.16.1)\n",
      "Requirement already satisfied: pyperclip<2.0.0,>=1.9.0 in /opt/homebrew/Caskroom/miniconda/base/envs/litebird_sim/lib/python3.11/site-packages (from litebird_sim) (1.9.0)\n",
      "Requirement already satisfied: pysm3<4.0.0,>=3.4.2 in /opt/homebrew/Caskroom/miniconda/base/envs/litebird_sim/lib/python3.11/site-packages (from litebird_sim) (3.4.2)\n",
      "Requirement already satisfied: pytest<9.0.0,>=8.3.5 in /opt/homebrew/Caskroom/miniconda/base/envs/litebird_sim/lib/python3.11/site-packages (from litebird_sim) (8.3.5)\n",
      "Requirement already satisfied: pyyaml<7.0,>=6.0 in /opt/homebrew/Caskroom/miniconda/base/envs/litebird_sim/lib/python3.11/site-packages (from litebird_sim) (6.0.2)\n",
      "Requirement already satisfied: requests<3.0.0,>=2.32.0 in /opt/homebrew/Caskroom/miniconda/base/envs/litebird_sim/lib/python3.11/site-packages (from litebird_sim) (2.32.3)\n",
      "Requirement already satisfied: ruff<0.12.0,>=0.11.11 in /opt/homebrew/Caskroom/miniconda/base/envs/litebird_sim/lib/python3.11/site-packages (from litebird_sim) (0.11.11)\n",
      "Requirement already satisfied: scipy<2.0.0,>=1.14.0 in /opt/homebrew/Caskroom/miniconda/base/envs/litebird_sim/lib/python3.11/site-packages (from litebird_sim) (1.14.1)\n",
      "Requirement already satisfied: sphinx<9.0.0,>=8.1.3 in /opt/homebrew/Caskroom/miniconda/base/envs/litebird_sim/lib/python3.11/site-packages (from litebird_sim) (8.2.3)\n",
      "Requirement already satisfied: sphinxcontrib-bibtex<3.0.0,>=2.6.3 in /opt/homebrew/Caskroom/miniconda/base/envs/litebird_sim/lib/python3.11/site-packages (from litebird_sim) (2.6.3)\n",
      "Requirement already satisfied: sphinxcontrib-contentui<0.3.0,>=0.2.5 in /opt/homebrew/Caskroom/miniconda/base/envs/litebird_sim/lib/python3.11/site-packages (from litebird_sim) (0.2.5)\n",
      "Requirement already satisfied: sphinxcontrib.asciinema<0.4.0,>=0.3.7 in /opt/homebrew/Caskroom/miniconda/base/envs/litebird_sim/lib/python3.11/site-packages (from litebird_sim) (0.3.8)\n",
      "Requirement already satisfied: tomlkit<0.13.0,>=0.12.1 in /opt/homebrew/Caskroom/miniconda/base/envs/litebird_sim/lib/python3.11/site-packages (from litebird_sim) (0.12.5)\n",
      "Requirement already satisfied: pyerfa>=2.0.1.1 in /opt/homebrew/Caskroom/miniconda/base/envs/litebird_sim/lib/python3.11/site-packages (from astropy==6.1.7->litebird_sim) (2.0.1.5)\n",
      "Requirement already satisfied: astropy-iers-data>=0.2024.10.28.0.34.7 in /opt/homebrew/Caskroom/miniconda/base/envs/litebird_sim/lib/python3.11/site-packages (from astropy==6.1.7->litebird_sim) (0.2025.5.26.0.37.21)\n",
      "Requirement already satisfied: packaging>=19.0 in /opt/homebrew/Caskroom/miniconda/base/envs/litebird_sim/lib/python3.11/site-packages (from astropy==6.1.7->litebird_sim) (25.0)\n",
      "Requirement already satisfied: markdown-it-py>=2.2.0 in /opt/homebrew/Caskroom/miniconda/base/envs/litebird_sim/lib/python3.11/site-packages (from rich) (3.0.0)\n",
      "Requirement already satisfied: pygments<3.0.0,>=2.13.0 in /opt/homebrew/Caskroom/miniconda/base/envs/litebird_sim/lib/python3.11/site-packages (from rich) (2.19.1)\n",
      "Requirement already satisfied: pyfiglet>=0.7.2 in /opt/homebrew/Caskroom/miniconda/base/envs/litebird_sim/lib/python3.11/site-packages (from asciimatics<2.0.0,>=1.15.0->litebird_sim) (1.0.2)\n",
      "Requirement already satisfied: Pillow>=2.7.0 in /opt/homebrew/Caskroom/miniconda/base/envs/litebird_sim/lib/python3.11/site-packages (from asciimatics<2.0.0,>=1.15.0->litebird_sim) (11.2.1)\n",
      "Requirement already satisfied: wcwidth in /opt/homebrew/Caskroom/miniconda/base/envs/litebird_sim/lib/python3.11/site-packages (from asciimatics<2.0.0,>=1.15.0->litebird_sim) (0.2.13)\n",
      "Requirement already satisfied: MarkupSafe>=2.0 in /opt/homebrew/Caskroom/miniconda/base/envs/litebird_sim/lib/python3.11/site-packages (from jinja2<4.0,>=3.1->litebird_sim) (3.0.2)\n",
      "Requirement already satisfied: coverage<8.0.0,>=7.3.0 in /opt/homebrew/Caskroom/miniconda/base/envs/litebird_sim/lib/python3.11/site-packages (from libinsdb<0.9.0,>=0.8.0->litebird_sim) (7.8.2)\n",
      "Requirement already satisfied: python-dateutil<3.0.0,>=2.8.2 in /opt/homebrew/Caskroom/miniconda/base/envs/litebird_sim/lib/python3.11/site-packages (from libinsdb<0.9.0,>=0.8.0->litebird_sim) (2.9.0.post0)\n",
      "Requirement already satisfied: requests-mock<2.0.0,>=1.11.0 in /opt/homebrew/Caskroom/miniconda/base/envs/litebird_sim/lib/python3.11/site-packages (from libinsdb<0.9.0,>=0.8.0->litebird_sim) (1.12.1)\n",
      "Requirement already satisfied: types-pyyaml<7.0.0.0,>=6.0.12.12 in /opt/homebrew/Caskroom/miniconda/base/envs/litebird_sim/lib/python3.11/site-packages (from libinsdb<0.9.0,>=0.8.0->litebird_sim) (6.0.12.20250516)\n",
      "Requirement already satisfied: setuptools in /opt/homebrew/Caskroom/miniconda/base/envs/litebird_sim/lib/python3.11/site-packages (from markdown-katex<202407.0,>=202406.1035->litebird_sim) (80.8.0)\n",
      "Requirement already satisfied: contourpy>=1.0.1 in /opt/homebrew/Caskroom/miniconda/base/envs/litebird_sim/lib/python3.11/site-packages (from matplotlib<4.0.0,>=3.10.3->litebird_sim) (1.3.2)\n",
      "Requirement already satisfied: cycler>=0.10 in /opt/homebrew/Caskroom/miniconda/base/envs/litebird_sim/lib/python3.11/site-packages (from matplotlib<4.0.0,>=3.10.3->litebird_sim) (0.12.1)\n",
      "Requirement already satisfied: fonttools>=4.22.0 in /opt/homebrew/Caskroom/miniconda/base/envs/litebird_sim/lib/python3.11/site-packages (from matplotlib<4.0.0,>=3.10.3->litebird_sim) (4.58.0)\n",
      "Requirement already satisfied: kiwisolver>=1.3.1 in /opt/homebrew/Caskroom/miniconda/base/envs/litebird_sim/lib/python3.11/site-packages (from matplotlib<4.0.0,>=3.10.3->litebird_sim) (1.4.8)\n",
      "Requirement already satisfied: pyparsing>=2.3.1 in /opt/homebrew/Caskroom/miniconda/base/envs/litebird_sim/lib/python3.11/site-packages (from matplotlib<4.0.0,>=3.10.3->litebird_sim) (3.2.3)\n",
      "Requirement already satisfied: llvmlite<0.45,>=0.44.0dev0 in /opt/homebrew/Caskroom/miniconda/base/envs/litebird_sim/lib/python3.11/site-packages (from numba<0.62.0,>=0.61.2->litebird_sim) (0.44.0)\n",
      "Requirement already satisfied: poetry<3.0.0,>=2.0.0 in /opt/homebrew/Caskroom/miniconda/base/envs/litebird_sim/lib/python3.11/site-packages (from poetry-plugin-export<2.0.0,>=1.9.0->litebird_sim) (2.1.3)\n",
      "Requirement already satisfied: poetry-core<3.0.0,>=1.7.0 in /opt/homebrew/Caskroom/miniconda/base/envs/litebird_sim/lib/python3.11/site-packages (from poetry-plugin-export<2.0.0,>=1.9.0->litebird_sim) (2.1.3)\n",
      "Requirement already satisfied: build<2.0.0,>=1.2.1 in /opt/homebrew/Caskroom/miniconda/base/envs/litebird_sim/lib/python3.11/site-packages (from poetry<3.0.0,>=2.0.0->poetry-plugin-export<2.0.0,>=1.9.0->litebird_sim) (1.2.2.post1)\n",
      "Requirement already satisfied: cachecontrol<0.15.0,>=0.14.0 in /opt/homebrew/Caskroom/miniconda/base/envs/litebird_sim/lib/python3.11/site-packages (from cachecontrol[filecache]<0.15.0,>=0.14.0->poetry<3.0.0,>=2.0.0->poetry-plugin-export<2.0.0,>=1.9.0->litebird_sim) (0.14.3)\n",
      "Requirement already satisfied: cleo<3.0.0,>=2.1.0 in /opt/homebrew/Caskroom/miniconda/base/envs/litebird_sim/lib/python3.11/site-packages (from poetry<3.0.0,>=2.0.0->poetry-plugin-export<2.0.0,>=1.9.0->litebird_sim) (2.1.0)\n",
      "Requirement already satisfied: dulwich<0.23.0,>=0.22.6 in /opt/homebrew/Caskroom/miniconda/base/envs/litebird_sim/lib/python3.11/site-packages (from poetry<3.0.0,>=2.0.0->poetry-plugin-export<2.0.0,>=1.9.0->litebird_sim) (0.22.8)\n",
      "Requirement already satisfied: fastjsonschema<3.0.0,>=2.18.0 in /opt/homebrew/Caskroom/miniconda/base/envs/litebird_sim/lib/python3.11/site-packages (from poetry<3.0.0,>=2.0.0->poetry-plugin-export<2.0.0,>=1.9.0->litebird_sim) (2.21.1)\n",
      "Requirement already satisfied: findpython<0.7.0,>=0.6.2 in /opt/homebrew/Caskroom/miniconda/base/envs/litebird_sim/lib/python3.11/site-packages (from poetry<3.0.0,>=2.0.0->poetry-plugin-export<2.0.0,>=1.9.0->litebird_sim) (0.6.3)\n",
      "Requirement already satisfied: installer<0.8.0,>=0.7.0 in /opt/homebrew/Caskroom/miniconda/base/envs/litebird_sim/lib/python3.11/site-packages (from poetry<3.0.0,>=2.0.0->poetry-plugin-export<2.0.0,>=1.9.0->litebird_sim) (0.7.0)\n",
      "Requirement already satisfied: keyring<26.0.0,>=25.1.0 in /opt/homebrew/Caskroom/miniconda/base/envs/litebird_sim/lib/python3.11/site-packages (from poetry<3.0.0,>=2.0.0->poetry-plugin-export<2.0.0,>=1.9.0->litebird_sim) (25.6.0)\n",
      "Requirement already satisfied: pbs-installer<2026.0.0,>=2025.1.6 in /opt/homebrew/Caskroom/miniconda/base/envs/litebird_sim/lib/python3.11/site-packages (from pbs-installer[download,install]<2026.0.0,>=2025.1.6->poetry<3.0.0,>=2.0.0->poetry-plugin-export<2.0.0,>=1.9.0->litebird_sim) (2025.5.17)\n",
      "Requirement already satisfied: pkginfo<2.0,>=1.12 in /opt/homebrew/Caskroom/miniconda/base/envs/litebird_sim/lib/python3.11/site-packages (from poetry<3.0.0,>=2.0.0->poetry-plugin-export<2.0.0,>=1.9.0->litebird_sim) (1.12.1.2)\n",
      "Requirement already satisfied: platformdirs<5,>=3.0.0 in /opt/homebrew/Caskroom/miniconda/base/envs/litebird_sim/lib/python3.11/site-packages (from poetry<3.0.0,>=2.0.0->poetry-plugin-export<2.0.0,>=1.9.0->litebird_sim) (4.3.8)\n",
      "Requirement already satisfied: pyproject-hooks<2.0.0,>=1.0.0 in /opt/homebrew/Caskroom/miniconda/base/envs/litebird_sim/lib/python3.11/site-packages (from poetry<3.0.0,>=2.0.0->poetry-plugin-export<2.0.0,>=1.9.0->litebird_sim) (1.2.0)\n",
      "Requirement already satisfied: requests-toolbelt<2.0.0,>=1.0.0 in /opt/homebrew/Caskroom/miniconda/base/envs/litebird_sim/lib/python3.11/site-packages (from poetry<3.0.0,>=2.0.0->poetry-plugin-export<2.0.0,>=1.9.0->litebird_sim) (1.0.0)\n",
      "Requirement already satisfied: shellingham<2.0,>=1.5 in /opt/homebrew/Caskroom/miniconda/base/envs/litebird_sim/lib/python3.11/site-packages (from poetry<3.0.0,>=2.0.0->poetry-plugin-export<2.0.0,>=1.9.0->litebird_sim) (1.5.4)\n",
      "Requirement already satisfied: trove-classifiers>=2022.5.19 in /opt/homebrew/Caskroom/miniconda/base/envs/litebird_sim/lib/python3.11/site-packages (from poetry<3.0.0,>=2.0.0->poetry-plugin-export<2.0.0,>=1.9.0->litebird_sim) (2025.5.9.12)\n",
      "Requirement already satisfied: virtualenv<21.0.0,>=20.26.6 in /opt/homebrew/Caskroom/miniconda/base/envs/litebird_sim/lib/python3.11/site-packages (from poetry<3.0.0,>=2.0.0->poetry-plugin-export<2.0.0,>=1.9.0->litebird_sim) (20.31.2)\n",
      "Requirement already satisfied: xattr<2.0.0,>=1.0.0 in /opt/homebrew/Caskroom/miniconda/base/envs/litebird_sim/lib/python3.11/site-packages (from poetry<3.0.0,>=2.0.0->poetry-plugin-export<2.0.0,>=1.9.0->litebird_sim) (1.1.4)\n",
      "Requirement already satisfied: msgpack<2.0.0,>=0.5.2 in /opt/homebrew/Caskroom/miniconda/base/envs/litebird_sim/lib/python3.11/site-packages (from cachecontrol<0.15.0,>=0.14.0->cachecontrol[filecache]<0.15.0,>=0.14.0->poetry<3.0.0,>=2.0.0->poetry-plugin-export<2.0.0,>=1.9.0->litebird_sim) (1.1.0)\n",
      "Requirement already satisfied: filelock>=3.8.0 in /opt/homebrew/Caskroom/miniconda/base/envs/litebird_sim/lib/python3.11/site-packages (from cachecontrol[filecache]<0.15.0,>=0.14.0->poetry<3.0.0,>=2.0.0->poetry-plugin-export<2.0.0,>=1.9.0->litebird_sim) (3.18.0)\n",
      "Requirement already satisfied: crashtest<0.5.0,>=0.4.1 in /opt/homebrew/Caskroom/miniconda/base/envs/litebird_sim/lib/python3.11/site-packages (from cleo<3.0.0,>=2.1.0->poetry<3.0.0,>=2.0.0->poetry-plugin-export<2.0.0,>=1.9.0->litebird_sim) (0.4.1)\n",
      "Requirement already satisfied: rapidfuzz<4.0.0,>=3.0.0 in /opt/homebrew/Caskroom/miniconda/base/envs/litebird_sim/lib/python3.11/site-packages (from cleo<3.0.0,>=2.1.0->poetry<3.0.0,>=2.0.0->poetry-plugin-export<2.0.0,>=1.9.0->litebird_sim) (3.13.0)\n",
      "Requirement already satisfied: urllib3>=1.25 in /opt/homebrew/Caskroom/miniconda/base/envs/litebird_sim/lib/python3.11/site-packages (from dulwich<0.23.0,>=0.22.6->poetry<3.0.0,>=2.0.0->poetry-plugin-export<2.0.0,>=1.9.0->litebird_sim) (2.4.0)\n",
      "Requirement already satisfied: importlib_metadata>=4.11.4 in /opt/homebrew/Caskroom/miniconda/base/envs/litebird_sim/lib/python3.11/site-packages (from keyring<26.0.0,>=25.1.0->poetry<3.0.0,>=2.0.0->poetry-plugin-export<2.0.0,>=1.9.0->litebird_sim) (8.7.0)\n",
      "Requirement already satisfied: jaraco.classes in /opt/homebrew/Caskroom/miniconda/base/envs/litebird_sim/lib/python3.11/site-packages (from keyring<26.0.0,>=25.1.0->poetry<3.0.0,>=2.0.0->poetry-plugin-export<2.0.0,>=1.9.0->litebird_sim) (3.4.0)\n",
      "Requirement already satisfied: jaraco.functools in /opt/homebrew/Caskroom/miniconda/base/envs/litebird_sim/lib/python3.11/site-packages (from keyring<26.0.0,>=25.1.0->poetry<3.0.0,>=2.0.0->poetry-plugin-export<2.0.0,>=1.9.0->litebird_sim) (4.1.0)\n",
      "Requirement already satisfied: jaraco.context in /opt/homebrew/Caskroom/miniconda/base/envs/litebird_sim/lib/python3.11/site-packages (from keyring<26.0.0,>=25.1.0->poetry<3.0.0,>=2.0.0->poetry-plugin-export<2.0.0,>=1.9.0->litebird_sim) (6.0.1)\n",
      "Requirement already satisfied: httpx<1,>=0.27.0 in /opt/homebrew/Caskroom/miniconda/base/envs/litebird_sim/lib/python3.11/site-packages (from pbs-installer[download,install]<2026.0.0,>=2025.1.6->poetry<3.0.0,>=2.0.0->poetry-plugin-export<2.0.0,>=1.9.0->litebird_sim) (0.28.1)\n",
      "Requirement already satisfied: zstandard>=0.21.0 in /opt/homebrew/Caskroom/miniconda/base/envs/litebird_sim/lib/python3.11/site-packages (from pbs-installer[download,install]<2026.0.0,>=2025.1.6->poetry<3.0.0,>=2.0.0->poetry-plugin-export<2.0.0,>=1.9.0->litebird_sim) (0.23.0)\n",
      "Requirement already satisfied: anyio in /opt/homebrew/Caskroom/miniconda/base/envs/litebird_sim/lib/python3.11/site-packages (from httpx<1,>=0.27.0->pbs-installer[download,install]<2026.0.0,>=2025.1.6->poetry<3.0.0,>=2.0.0->poetry-plugin-export<2.0.0,>=1.9.0->litebird_sim) (4.9.0)\n",
      "Requirement already satisfied: certifi in /opt/homebrew/Caskroom/miniconda/base/envs/litebird_sim/lib/python3.11/site-packages (from httpx<1,>=0.27.0->pbs-installer[download,install]<2026.0.0,>=2025.1.6->poetry<3.0.0,>=2.0.0->poetry-plugin-export<2.0.0,>=1.9.0->litebird_sim) (2025.4.26)\n",
      "Requirement already satisfied: httpcore==1.* in /opt/homebrew/Caskroom/miniconda/base/envs/litebird_sim/lib/python3.11/site-packages (from httpx<1,>=0.27.0->pbs-installer[download,install]<2026.0.0,>=2025.1.6->poetry<3.0.0,>=2.0.0->poetry-plugin-export<2.0.0,>=1.9.0->litebird_sim) (1.0.9)\n",
      "Requirement already satisfied: idna in /opt/homebrew/Caskroom/miniconda/base/envs/litebird_sim/lib/python3.11/site-packages (from httpx<1,>=0.27.0->pbs-installer[download,install]<2026.0.0,>=2025.1.6->poetry<3.0.0,>=2.0.0->poetry-plugin-export<2.0.0,>=1.9.0->litebird_sim) (3.10)\n",
      "Requirement already satisfied: h11>=0.16 in /opt/homebrew/Caskroom/miniconda/base/envs/litebird_sim/lib/python3.11/site-packages (from httpcore==1.*->httpx<1,>=0.27.0->pbs-installer[download,install]<2026.0.0,>=2025.1.6->poetry<3.0.0,>=2.0.0->poetry-plugin-export<2.0.0,>=1.9.0->litebird_sim) (0.16.0)\n",
      "Requirement already satisfied: cfgv>=2.0.0 in /opt/homebrew/Caskroom/miniconda/base/envs/litebird_sim/lib/python3.11/site-packages (from pre-commit<5.0.0,>=4.2.0->litebird_sim) (3.4.0)\n",
      "Requirement already satisfied: identify>=1.0.0 in /opt/homebrew/Caskroom/miniconda/base/envs/litebird_sim/lib/python3.11/site-packages (from pre-commit<5.0.0,>=4.2.0->litebird_sim) (2.6.12)\n",
      "Requirement already satisfied: nodeenv>=0.11.1 in /opt/homebrew/Caskroom/miniconda/base/envs/litebird_sim/lib/python3.11/site-packages (from pre-commit<5.0.0,>=4.2.0->litebird_sim) (1.9.1)\n",
      "Requirement already satisfied: beautifulsoup4 in /opt/homebrew/Caskroom/miniconda/base/envs/litebird_sim/lib/python3.11/site-packages (from pydata-sphinx-theme<0.17.0,>=0.16.1->litebird_sim) (4.13.4)\n",
      "Requirement already satisfied: docutils!=0.17.0 in /opt/homebrew/Caskroom/miniconda/base/envs/litebird_sim/lib/python3.11/site-packages (from pydata-sphinx-theme<0.17.0,>=0.16.1->litebird_sim) (0.21.2)\n",
      "Requirement already satisfied: Babel in /opt/homebrew/Caskroom/miniconda/base/envs/litebird_sim/lib/python3.11/site-packages (from pydata-sphinx-theme<0.17.0,>=0.16.1->litebird_sim) (2.17.0)\n",
      "Requirement already satisfied: accessible-pygments in /opt/homebrew/Caskroom/miniconda/base/envs/litebird_sim/lib/python3.11/site-packages (from pydata-sphinx-theme<0.17.0,>=0.16.1->litebird_sim) (0.0.5)\n",
      "Requirement already satisfied: typing-extensions in /opt/homebrew/Caskroom/miniconda/base/envs/litebird_sim/lib/python3.11/site-packages (from pydata-sphinx-theme<0.17.0,>=0.16.1->litebird_sim) (4.13.2)\n",
      "Requirement already satisfied: pynacl>=1.4.0 in /opt/homebrew/Caskroom/miniconda/base/envs/litebird_sim/lib/python3.11/site-packages (from PyGithub<3.0.0,>=2.6.1->litebird_sim) (1.5.0)\n",
      "Requirement already satisfied: pyjwt>=2.4.0 in /opt/homebrew/Caskroom/miniconda/base/envs/litebird_sim/lib/python3.11/site-packages (from pyjwt[crypto]>=2.4.0->PyGithub<3.0.0,>=2.6.1->litebird_sim) (2.10.1)\n",
      "Requirement already satisfied: Deprecated in /opt/homebrew/Caskroom/miniconda/base/envs/litebird_sim/lib/python3.11/site-packages (from PyGithub<3.0.0,>=2.6.1->litebird_sim) (1.2.18)\n",
      "Requirement already satisfied: toml in /opt/homebrew/Caskroom/miniconda/base/envs/litebird_sim/lib/python3.11/site-packages (from pysm3<4.0.0,>=3.4.2->litebird_sim) (0.10.2)\n",
      "Requirement already satisfied: iniconfig in /opt/homebrew/Caskroom/miniconda/base/envs/litebird_sim/lib/python3.11/site-packages (from pytest<9.0.0,>=8.3.5->litebird_sim) (2.1.0)\n",
      "Requirement already satisfied: pluggy<2,>=1.5 in /opt/homebrew/Caskroom/miniconda/base/envs/litebird_sim/lib/python3.11/site-packages (from pytest<9.0.0,>=8.3.5->litebird_sim) (1.6.0)\n",
      "Requirement already satisfied: six>=1.5 in /opt/homebrew/Caskroom/miniconda/base/envs/litebird_sim/lib/python3.11/site-packages (from python-dateutil<3.0.0,>=2.8.2->libinsdb<0.9.0,>=0.8.0->litebird_sim) (1.17.0)\n",
      "Requirement already satisfied: charset-normalizer<4,>=2 in /opt/homebrew/Caskroom/miniconda/base/envs/litebird_sim/lib/python3.11/site-packages (from requests<3.0.0,>=2.32.0->litebird_sim) (3.4.2)\n",
      "Requirement already satisfied: sphinxcontrib-applehelp>=1.0.7 in /opt/homebrew/Caskroom/miniconda/base/envs/litebird_sim/lib/python3.11/site-packages (from sphinx<9.0.0,>=8.1.3->litebird_sim) (2.0.0)\n",
      "Requirement already satisfied: sphinxcontrib-devhelp>=1.0.6 in /opt/homebrew/Caskroom/miniconda/base/envs/litebird_sim/lib/python3.11/site-packages (from sphinx<9.0.0,>=8.1.3->litebird_sim) (2.0.0)\n",
      "Requirement already satisfied: sphinxcontrib-htmlhelp>=2.0.6 in /opt/homebrew/Caskroom/miniconda/base/envs/litebird_sim/lib/python3.11/site-packages (from sphinx<9.0.0,>=8.1.3->litebird_sim) (2.1.0)\n",
      "Requirement already satisfied: sphinxcontrib-jsmath>=1.0.1 in /opt/homebrew/Caskroom/miniconda/base/envs/litebird_sim/lib/python3.11/site-packages (from sphinx<9.0.0,>=8.1.3->litebird_sim) (1.0.1)\n",
      "Requirement already satisfied: sphinxcontrib-qthelp>=1.0.6 in /opt/homebrew/Caskroom/miniconda/base/envs/litebird_sim/lib/python3.11/site-packages (from sphinx<9.0.0,>=8.1.3->litebird_sim) (2.0.0)\n",
      "Requirement already satisfied: sphinxcontrib-serializinghtml>=1.1.9 in /opt/homebrew/Caskroom/miniconda/base/envs/litebird_sim/lib/python3.11/site-packages (from sphinx<9.0.0,>=8.1.3->litebird_sim) (2.0.0)\n",
      "Requirement already satisfied: snowballstemmer>=2.2 in /opt/homebrew/Caskroom/miniconda/base/envs/litebird_sim/lib/python3.11/site-packages (from sphinx<9.0.0,>=8.1.3->litebird_sim) (3.0.1)\n",
      "Requirement already satisfied: alabaster>=0.7.14 in /opt/homebrew/Caskroom/miniconda/base/envs/litebird_sim/lib/python3.11/site-packages (from sphinx<9.0.0,>=8.1.3->litebird_sim) (1.0.0)\n",
      "Requirement already satisfied: imagesize>=1.3 in /opt/homebrew/Caskroom/miniconda/base/envs/litebird_sim/lib/python3.11/site-packages (from sphinx<9.0.0,>=8.1.3->litebird_sim) (1.4.1)\n",
      "Requirement already satisfied: roman-numerals-py>=1.0.0 in /opt/homebrew/Caskroom/miniconda/base/envs/litebird_sim/lib/python3.11/site-packages (from sphinx<9.0.0,>=8.1.3->litebird_sim) (3.1.0)\n",
      "Requirement already satisfied: pybtex>=0.24 in /opt/homebrew/Caskroom/miniconda/base/envs/litebird_sim/lib/python3.11/site-packages (from sphinxcontrib-bibtex<3.0.0,>=2.6.3->litebird_sim) (0.24.0)\n",
      "Requirement already satisfied: pybtex-docutils>=1.0.0 in /opt/homebrew/Caskroom/miniconda/base/envs/litebird_sim/lib/python3.11/site-packages (from sphinxcontrib-bibtex<3.0.0,>=2.6.3->litebird_sim) (1.0.3)\n",
      "Requirement already satisfied: distlib<1,>=0.3.7 in /opt/homebrew/Caskroom/miniconda/base/envs/litebird_sim/lib/python3.11/site-packages (from virtualenv<21.0.0,>=20.26.6->poetry<3.0.0,>=2.0.0->poetry-plugin-export<2.0.0,>=1.9.0->litebird_sim) (0.3.9)\n",
      "Requirement already satisfied: cffi>=1.16.0 in /opt/homebrew/Caskroom/miniconda/base/envs/litebird_sim/lib/python3.11/site-packages (from xattr<2.0.0,>=1.0.0->poetry<3.0.0,>=2.0.0->poetry-plugin-export<2.0.0,>=1.9.0->litebird_sim) (1.17.1)\n",
      "Requirement already satisfied: pycparser in /opt/homebrew/Caskroom/miniconda/base/envs/litebird_sim/lib/python3.11/site-packages (from cffi>=1.16.0->xattr<2.0.0,>=1.0.0->poetry<3.0.0,>=2.0.0->poetry-plugin-export<2.0.0,>=1.9.0->litebird_sim) (2.22)\n",
      "Requirement already satisfied: zipp>=3.20 in /opt/homebrew/Caskroom/miniconda/base/envs/litebird_sim/lib/python3.11/site-packages (from importlib_metadata>=4.11.4->keyring<26.0.0,>=25.1.0->poetry<3.0.0,>=2.0.0->poetry-plugin-export<2.0.0,>=1.9.0->litebird_sim) (3.21.0)\n",
      "Requirement already satisfied: mdurl~=0.1 in /opt/homebrew/Caskroom/miniconda/base/envs/litebird_sim/lib/python3.11/site-packages (from markdown-it-py>=2.2.0->rich) (0.1.2)\n",
      "Requirement already satisfied: latexcodec>=1.0.4 in /opt/homebrew/Caskroom/miniconda/base/envs/litebird_sim/lib/python3.11/site-packages (from pybtex>=0.24->sphinxcontrib-bibtex<3.0.0,>=2.6.3->litebird_sim) (3.0.0)\n",
      "Requirement already satisfied: cryptography>=3.4.0 in /opt/homebrew/Caskroom/miniconda/base/envs/litebird_sim/lib/python3.11/site-packages (from pyjwt[crypto]>=2.4.0->PyGithub<3.0.0,>=2.6.1->litebird_sim) (45.0.3)\n",
      "Requirement already satisfied: sniffio>=1.1 in /opt/homebrew/Caskroom/miniconda/base/envs/litebird_sim/lib/python3.11/site-packages (from anyio->httpx<1,>=0.27.0->pbs-installer[download,install]<2026.0.0,>=2025.1.6->poetry<3.0.0,>=2.0.0->poetry-plugin-export<2.0.0,>=1.9.0->litebird_sim) (1.3.1)\n",
      "Requirement already satisfied: soupsieve>1.2 in /opt/homebrew/Caskroom/miniconda/base/envs/litebird_sim/lib/python3.11/site-packages (from beautifulsoup4->pydata-sphinx-theme<0.17.0,>=0.16.1->litebird_sim) (2.7)\n",
      "Requirement already satisfied: wrapt<2,>=1.10 in /opt/homebrew/Caskroom/miniconda/base/envs/litebird_sim/lib/python3.11/site-packages (from Deprecated->PyGithub<3.0.0,>=2.6.1->litebird_sim) (1.17.2)\n",
      "Requirement already satisfied: more-itertools in /opt/homebrew/Caskroom/miniconda/base/envs/litebird_sim/lib/python3.11/site-packages (from jaraco.classes->keyring<26.0.0,>=25.1.0->poetry<3.0.0,>=2.0.0->poetry-plugin-export<2.0.0,>=1.9.0->litebird_sim) (10.7.0)\n",
      "Requirement already satisfied: backports.tarfile in /opt/homebrew/Caskroom/miniconda/base/envs/litebird_sim/lib/python3.11/site-packages (from jaraco.context->keyring<26.0.0,>=25.1.0->poetry<3.0.0,>=2.0.0->poetry-plugin-export<2.0.0,>=1.9.0->litebird_sim) (1.2.0)\n"
     ]
    }
   ],
   "source": [
    "!pip install litebird_sim rich"
   ]
  },
  {
   "cell_type": "markdown",
   "id": "2fef1472",
   "metadata": {},
   "source": [
    "# `litebird_sim` scanning and pointing\n"
   ]
  },
  {
   "cell_type": "markdown",
   "id": "76badba7",
   "metadata": {},
   "source": [
    "To run this notebook, you have several options:\n",
    "\n",
    "-   If you are running this under Binder, you should already be set!\n",
    "-   If you are running this under Google Colab, be sure to run the cell with `!pip install…` that is right above the title.\n",
    "-   If you are running this locally, you should first create and activate a new virtual environment with the commands\n",
    "\n",
    "    ```\n",
    "    python -m venv ./my_venv\n",
    "    source ./my_venv/bin/activate\n",
    "    ```\n",
    "\n",
    "    (you can use Conda environments, if you prefer) and install Jupyter and litebird_sim in it:\n",
    "\n",
    "    ```\n",
    "    pip install jupyter litebird_sim\n",
    "    ```\n",
    "\n",
    "    If you have a local copy of the `litebird_sim` repository cloned from <https://github.com/litebird/litebird_sim> (e.g., because you're part of the Simulation Team!), you can use a _development install_ instead:\n",
    "\n",
    "    ```\n",
    "    cd /my/local/copy/litebird_sim\n",
    "    pip install -e .\n",
    "    ```\n"
   ]
  },
  {
   "cell_type": "markdown",
   "id": "75a9928a",
   "metadata": {},
   "source": [
    "## Set up the environment\n"
   ]
  },
  {
   "cell_type": "code",
   "execution_count": 37,
   "id": "36d9bfd4-dcc9-4693-829a-9ca7ca5d1f09",
   "metadata": {},
   "outputs": [],
   "source": [
    "# Using this file, we can use \"import litebird_sim\" even if it is not installed system-wide"
   ]
  },
  {
   "cell_type": "markdown",
   "id": "095f7f30",
   "metadata": {},
   "source": [
    "We start by importing a few libraries that will be useful in this notebook.\n"
   ]
  },
  {
   "cell_type": "code",
   "execution_count": 38,
   "id": "26987fcc",
   "metadata": {},
   "outputs": [],
   "source": [
    "import litebird_sim as lbs\n",
    "import numpy as np\n",
    "import astropy\n",
    "\n",
    "import inspect\n",
    "\n",
    "%matplotlib inline"
   ]
  },
  {
   "cell_type": "code",
   "execution_count": 39,
   "id": "5fbc668e-ab71-45c6-a80c-8bbd213493cb",
   "metadata": {},
   "outputs": [
    {
     "data": {
      "text/plain": [
       "PosixPath('/Users/luca/Documents/Universita/litebird/simteam/codes/litebird_sim/litebird_sim/default_imo/schema.json.gz')"
      ]
     },
     "execution_count": 39,
     "metadata": {},
     "output_type": "execute_result"
    }
   ],
   "source": [
    "lbs.PTEP_IMO_LOCATION"
   ]
  },
  {
   "cell_type": "markdown",
   "id": "4373f9f2",
   "metadata": {},
   "source": [
    "## Parameters of the simulation\n",
    "\n",
    "We will simulate one hour of the full 140 GHz LFT channel. Their definition will be taken from the LiteBIRD Instrument MOdel (IMO) version vPTEP (**new!**). See the [documentation](https://litebird-sim.readthedocs.io/en/latest/simulations.html#simulations) for more details about the input parameters.\n"
   ]
  },
  {
   "cell_type": "code",
   "execution_count": 6,
   "id": "bd3a8c68",
   "metadata": {},
   "outputs": [],
   "source": [
    "telescope = \"LFT\"\n",
    "channel = \"L4-140\"\n",
    "\n",
    "start_time = astropy.time.Time(\"2025-01-01T00:00:00\")\n",
    "mission_time_hrs = 1\n",
    "\n",
    "imo_version = \"vPTEP\"\n",
    "\n",
    "# Resolution of the output maps\n",
    "nside = 64"
   ]
  },
  {
   "cell_type": "markdown",
   "id": "8b1079c1",
   "metadata": {},
   "source": [
    "## Scanning strategy"
   ]
  },
  {
   "cell_type": "markdown",
   "id": "f4856815",
   "metadata": {},
   "source": [
    "To use the IMO bundled in `litebird_sim`, one needs to do the following:\n"
   ]
  },
  {
   "cell_type": "code",
   "execution_count": 7,
   "id": "05624b49",
   "metadata": {},
   "outputs": [],
   "source": [
    "# This is the folder where the final report with the results of the simulation will be saved\n",
    "base_path = \".test\"\n",
    "\n",
    "imo = lbs.Imo(flatfile_location=lbs.PTEP_IMO_LOCATION)\n",
    "\n",
    "# initializing the simulation\n",
    "sim = lbs.Simulation(\n",
    "    base_path=base_path,\n",
    "    imo=imo,\n",
    "    start_time=start_time,\n",
    "    duration_s=mission_time_hrs * 3600.0,\n",
    "    random_seed=12345,  # seed for the random number generator (MANDATORY parameter!!!)\n",
    ")"
   ]
  },
  {
   "cell_type": "markdown",
   "id": "39227859",
   "metadata": {},
   "source": [
    "The following command will take some time: it needs to compute the ephemerides of the Earth with respect to the Ecliptic reference frame and derive the orientation of the LFT instrument as a function of time for the whole duration of the simulation. This step will be needed later, when we will obtain the pointings for the detectors involved in the simulation. See the [documentation](https://litebird-sim.readthedocs.io/en/latest/scanning.html#scanning-strategy) for more details about the scanning strategy.\n"
   ]
  },
  {
   "cell_type": "code",
   "execution_count": 8,
   "id": "17384fac",
   "metadata": {},
   "outputs": [],
   "source": [
    "# Generate the quaternions describing how the instrument moves in the Ecliptic reference frame\n",
    "sim.set_scanning_strategy(\n",
    "    imo_url=f\"/releases/{imo_version}/satellite/scanning_parameters/\", delta_time_s=1\n",
    ")\n",
    "# The parameter `delta_time_s` specifies how often should quaternions be computed"
   ]
  },
  {
   "cell_type": "markdown",
   "id": "4d8c1b2d",
   "metadata": {},
   "source": [
    "Once the scanning strategy has been set the class [spin2ecliptic_quats](https://litebird-sim.readthedocs.io/en/master/scanning.html) contains the quaterions describing the scanning of the spin axis"
   ]
  },
  {
   "cell_type": "code",
   "execution_count": 9,
   "id": "5deea565",
   "metadata": {},
   "outputs": [
    {
     "name": "stdout",
     "output_type": "stream",
     "text": [
      "(3601, 4)\n"
     ]
    }
   ],
   "source": [
    "print(sim.spin2ecliptic_quats.quats.shape)\n",
    "# ``(N_scanning_samples, 4)`` array"
   ]
  },
  {
   "cell_type": "markdown",
   "id": "8185f0a1",
   "metadata": {},
   "source": [
    "The following instructions load from the IMO the information about the [instrument](https://litebird-sim.readthedocs.io/en/latest/detectors.html#detectors-channels-and-instruments) and the [detectors](https://litebird-sim.readthedocs.io/en/latest/detectors.html#detectors-channels-and-instruments) used in the simulation.\n"
   ]
  },
  {
   "cell_type": "code",
   "execution_count": 10,
   "id": "84c04631",
   "metadata": {},
   "outputs": [],
   "source": [
    "# Load the definition of the instrument (MFT)\n",
    "sim.set_instrument(\n",
    "    lbs.InstrumentInfo.from_imo(\n",
    "        imo,\n",
    "        f\"/releases/{imo_version}/satellite/{telescope}/instrument_info\",\n",
    "    )\n",
    ")"
   ]
  },
  {
   "cell_type": "markdown",
   "id": "bb806f0d",
   "metadata": {},
   "source": [
    "When setting the instrument, the simulation acquires information about the spin-to-boresight rotation for the selected instrument, as well as any additional rotation of the boresight, if present"
   ]
  },
  {
   "cell_type": "code",
   "execution_count": 11,
   "id": "67e59cea",
   "metadata": {},
   "outputs": [
    {
     "name": "stdout",
     "output_type": "stream",
     "text": [
      "0.8726646259971648\n",
      "0.0\n"
     ]
    }
   ],
   "source": [
    "print(sim.instrument.spin_boresight_angle_rad)\n",
    "print(sim.instrument.boresight_rotangle_rad)"
   ]
  },
  {
   "cell_type": "markdown",
   "id": "5048d58e",
   "metadata": {},
   "source": [
    "The spin to boresight angle can be easly customized initializing a new instrance of the instrument class"
   ]
  },
  {
   "cell_type": "code",
   "execution_count": 12,
   "id": "49feb07d",
   "metadata": {},
   "outputs": [],
   "source": [
    "instrument = lbs.InstrumentInfo(\n",
    "    name=\"Instrument_A\", spin_boresight_angle_rad=np.deg2rad(40.0)\n",
    ")\n",
    "sim.set_instrument(instrument=instrument)"
   ]
  },
  {
   "cell_type": "markdown",
   "id": "c3aaa9c1",
   "metadata": {},
   "source": [
    "We are now ready to set the hwp. For this we have an abstract container, i.e. [HWP](https://litebird-sim.readthedocs.io/en/master/hwp.html#litebird_sim.hwp.HWP). \n",
    "Here we use the derved class [lbs.IdealHWP](https://litebird-sim.readthedocs.io/en/master/hwp.html#)"
   ]
  },
  {
   "cell_type": "code",
   "execution_count": 13,
   "id": "adca8d1f",
   "metadata": {},
   "outputs": [],
   "source": [
    "# Here we set the hwp speed\n",
    "sim.set_hwp(\n",
    "    lbs.IdealHWP(\n",
    "        sim.instrument.hwp_rpm * 2 * np.pi / 60,\n",
    "    ),  # sets the hwp\n",
    ")"
   ]
  },
  {
   "cell_type": "markdown",
   "id": "fea8a5ce",
   "metadata": {},
   "source": [
    "The final step in computing the pointings requires specifying a list of detectors. Each detector contributes the final rotation in the pointing chain, namely the transformation from the boresight to the detector reference frame\n",
    "\n",
    "For getting the list of detectors in a Frequeny channel we can initialize the class [lbs.FreqChannelInfo](https://litebird-sim.readthedocs.io/en/master/detectors.html#litebird_sim.detectors.FreqChannelInfo) using the IMo."
   ]
  },
  {
   "cell_type": "code",
   "execution_count": 14,
   "id": "6123da07",
   "metadata": {},
   "outputs": [],
   "source": [
    "chinfo = lbs.FreqChannelInfo.from_imo(\n",
    "    url=f\"/releases/{imo_version}/satellite/{telescope}/{channel}/channel_info\",\n",
    "    imo=imo,\n",
    ")\n",
    "\n",
    "# filling dets with info and detquats with quaternions of the detectors in the channel\n",
    "dets = []  # type: List[lbs.DetectorInfo]\n",
    "for n_det in chinfo.detector_names:\n",
    "    det = lbs.DetectorInfo.from_imo(\n",
    "        url=f\"/releases/{imo_version}/satellite/{telescope}/{channel}/{n_det}/detector_info\",\n",
    "        imo=imo,\n",
    "    )\n",
    "    dets.append(det)"
   ]
  },
  {
   "cell_type": "markdown",
   "id": "f6ef5e36",
   "metadata": {},
   "source": [
    "We are now ready to create a set of «[observations](https://litebird-sim.readthedocs.io/en/latest/observations.html#observations)» providing the list of detectors we have just created"
   ]
  },
  {
   "cell_type": "code",
   "execution_count": 15,
   "id": "3ae0a32b",
   "metadata": {},
   "outputs": [],
   "source": [
    "# creating one observation\n",
    "(obs,) = sim.create_observations(\n",
    "    detectors=dets,\n",
    "    n_blocks_det=1,\n",
    "    n_blocks_time=1,  # blocks different from one if parallelizing\n",
    ")"
   ]
  },
  {
   "cell_type": "markdown",
   "id": "8d25fa54",
   "metadata": {},
   "source": [
    "So, here comes the part where we need to simulate the pointings. Much of the work has already been done, as the ephemerides were already computed in the call to `sim.set_scanning_strategy` (see above), but this step is going to take its time too, because we are now deriving the pointings for **each** detector and store them in the list `pointings`.\n",
    "\n",
    "The first step is done by [sim.prepare_pointings()](https://litebird-sim.readthedocs.io/en/master/simulations.html#litebird_sim.simulations.Simulation.prepare_pointings):\n"
   ]
  },
  {
   "cell_type": "code",
   "execution_count": 16,
   "id": "4590482d",
   "metadata": {},
   "outputs": [],
   "source": [
    "sim.prepare_pointings()"
   ]
  },
  {
   "cell_type": "markdown",
   "id": "e44c976a",
   "metadata": {},
   "source": [
    "This method initializes a function in each observation that allows to compute the pointing on the fly "
   ]
  },
  {
   "cell_type": "code",
   "execution_count": 17,
   "id": "e3ca5f4c",
   "metadata": {},
   "outputs": [],
   "source": [
    "pointing_matrix, hwp_angle = obs.get_pointings()"
   ]
  },
  {
   "cell_type": "markdown",
   "id": "298096b6",
   "metadata": {},
   "source": [
    "This returns two vectors"
   ]
  },
  {
   "cell_type": "code",
   "execution_count": 18,
   "id": "2aca4574",
   "metadata": {},
   "outputs": [
    {
     "name": "stdout",
     "output_type": "stream",
     "text": [
      "(144, 111600, 3)\n",
      "(111600,)\n"
     ]
    }
   ],
   "source": [
    "print(pointing_matrix.shape)  # [n_detectors, n_samples, 3]\n",
    "# θ (colatitude, in radians), φ (longitude, in radians), and ψ (orientation angle, in radians)\n",
    "\n",
    "print(hwp_angle.shape)  # [n_samples]"
   ]
  },
  {
   "cell_type": "markdown",
   "id": "a7274d02",
   "metadata": {},
   "source": [
    "get_pointings() supports three different syntaxes:\n",
    "- Returns the pointing information for all the detectors with \"get_pointings(\"all\") or get_pointings()\"\n",
    "\n",
    "- Returns the pointing information for a list of detectors with something like \"get_pointings([0,1])\n",
    "\n",
    "- Returns the pointing information for one detector with something like \"get_pointings(0)"
   ]
  },
  {
   "cell_type": "code",
   "execution_count": 19,
   "id": "39da6117",
   "metadata": {},
   "outputs": [
    {
     "name": "stdout",
     "output_type": "stream",
     "text": [
      "(144, 111600, 3)\n",
      "(2, 111600, 3)\n",
      "(111600, 3)\n"
     ]
    }
   ],
   "source": [
    "# All the detectors are included\n",
    "pointings, hwp_angle = obs.get_pointings(\"all\")\n",
    "# This returns ``(N_det, N_samples, 3)`` array\n",
    "print(pointings.shape)\n",
    "\n",
    "# Only the first and last detectors are included\n",
    "pointings, hwp_angle = obs.get_pointings([0, 3])\n",
    "# This returns ``(2, N_samples, 3)`` array\n",
    "print(pointings.shape)\n",
    "\n",
    "# Only the first detector is used\n",
    "pointings, hwp_angle = obs.get_pointings(0)\n",
    "# This returns ``(N_samples, 3)`` array\n",
    "print(pointings.shape)"
   ]
  },
  {
   "cell_type": "markdown",
   "id": "13af3f19",
   "metadata": {},
   "source": [
    "Pointing information can be precomputed and stored in the observations"
   ]
  },
  {
   "cell_type": "code",
   "execution_count": 20,
   "id": "8c25b31f",
   "metadata": {},
   "outputs": [],
   "source": [
    "sim.precompute_pointings()"
   ]
  },
  {
   "cell_type": "markdown",
   "id": "f17679e1",
   "metadata": {},
   "source": [
    "Now all the observations have two new fields"
   ]
  },
  {
   "cell_type": "code",
   "execution_count": 21,
   "id": "b29dcb5d",
   "metadata": {},
   "outputs": [
    {
     "name": "stdout",
     "output_type": "stream",
     "text": [
      "(144, 111600, 3)\n",
      "(111600,)\n"
     ]
    }
   ],
   "source": [
    "print(obs.pointing_matrix.shape)\n",
    "print(obs.hwp_angle.shape)"
   ]
  },
  {
   "cell_type": "markdown",
   "id": "01b909b6",
   "metadata": {},
   "source": [
    "The pointing type can be explicitly selected by specifying it in either get_pointings() or precompute_pointings()"
   ]
  },
  {
   "cell_type": "code",
   "execution_count": 22,
   "id": "24de7f3a",
   "metadata": {},
   "outputs": [
    {
     "name": "stdout",
     "output_type": "stream",
     "text": [
      "float32\n",
      "float32\n"
     ]
    }
   ],
   "source": [
    "pointings, hwp_angle = obs.get_pointings(0, pointings_dtype=np.float32)\n",
    "print(pointings.dtype)\n",
    "\n",
    "sim.precompute_pointings(pointings_dtype=np.float32)\n",
    "print(obs.pointing_matrix.dtype)"
   ]
  },
  {
   "cell_type": "markdown",
   "id": "9f3e15e0",
   "metadata": {},
   "source": [
    "A method is also provided to convert the pointing of a single detector on the fly into Galactic coordinates."
   ]
  },
  {
   "cell_type": "code",
   "execution_count": 23,
   "id": "8c61ab73",
   "metadata": {},
   "outputs": [],
   "source": [
    "pointing_gal = lbs.rotate_coordinates_e2g(obs.pointing_matrix[0])"
   ]
  },
  {
   "cell_type": "markdown",
   "id": "6e73f3a6",
   "metadata": {},
   "source": [
    "This allows both to scan or convolve a map and to return maps in Galactic coordinates. Rotation is always performed on-the-fly.\n",
    "For example see the signatures for these functions:"
   ]
  },
  {
   "cell_type": "code",
   "execution_count": null,
   "id": "0ec48fcd",
   "metadata": {},
   "outputs": [
    {
     "name": "stdout",
     "output_type": "stream",
     "text": [
      "fill_tods\n",
      "---------\n",
      "maps: Union[numpy.ndarray, Dict[str, numpy.ndarray], NoneType] = None\n",
      "input_map_in_galactic: bool = True\n",
      "component: str = 'tod'\n",
      "interpolation: Optional[str] = ''\n",
      "pointings_dtype=<class 'numpy.float64'>\n",
      "append_to_report: bool = True\n",
      "\n",
      "convolve_sky\n",
      "---------\n",
      "sky_alms: Union[litebird_sim.spherical_harmonics.SphericalHarmonics, Dict[str, litebird_sim.spherical_harmonics.SphericalHarmonics], NoneType] = None\n",
      "beam_alms: Union[litebird_sim.spherical_harmonics.SphericalHarmonics, Dict[str, litebird_sim.spherical_harmonics.SphericalHarmonics], NoneType] = None\n",
      "input_sky_alms_in_galactic: bool = True\n",
      "convolution_params: Optional[litebird_sim.beam_convolution.BeamConvolutionParameters] = None\n",
      "component: str = 'tod'\n",
      "pointings_dtype=<class 'numpy.float64'>\n",
      "nside_centering: Optional[int] = None\n",
      "append_to_report: bool = True\n",
      "nthreads: Optional[int] = None\n",
      "\n",
      "make_binned_map\n",
      "---------\n",
      "nside: int\n",
      "output_coordinate_system: litebird_sim.coordinates.CoordinateSystem = <CoordinateSystem.Galactic: 2>\n",
      "components: Optional[List[str]] = None\n",
      "detector_split: str = 'full'\n",
      "time_split: str = 'full'\n",
      "pointings_dtype=<class 'numpy.float64'>\n",
      "append_to_report: bool = True\n"
     ]
    }
   ],
   "source": [
    "print(\"fill_tods\")\n",
    "print(\"---------\")\n",
    "sig = inspect.signature(sim.fill_tods)\n",
    "for param in sig.parameters.values():\n",
    "    print(param)\n",
    "\n",
    "print(\"\")\n",
    "\n",
    "print(\"convolve_sky\")\n",
    "print(\"---------\")\n",
    "sig = inspect.signature(sim.convolve_sky)\n",
    "for param in sig.parameters.values():\n",
    "    print(param)\n",
    "\n",
    "print(\"\")\n",
    "\n",
    "print(\"make_binned_map\")\n",
    "print(\"---------\")\n",
    "sig = inspect.signature(sim.make_binned_map)\n",
    "for param in sig.parameters.values():\n",
    "    print(param)"
   ]
  }
 ],
 "metadata": {
  "kernelspec": {
   "display_name": "litebird_sim",
   "language": "python",
   "name": "python3"
  },
  "language_info": {
   "codemirror_mode": {
    "name": "ipython",
    "version": 3
   },
   "file_extension": ".py",
   "mimetype": "text/x-python",
   "name": "python",
   "nbconvert_exporter": "python",
   "pygments_lexer": "ipython3",
   "version": "3.11.12"
  }
 },
 "nbformat": 4,
 "nbformat_minor": 5
}
