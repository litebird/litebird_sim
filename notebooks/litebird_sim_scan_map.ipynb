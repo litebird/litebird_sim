{
 "cells": [
  {
   "cell_type": "code",
   "execution_count": 1,
   "id": "406643c5-00a9-4fe0-b901-7cfd34afa70e",
   "metadata": {},
   "outputs": [],
   "source": [
    "# Colab Setup (Run this first)"
   ]
  },
  {
   "cell_type": "code",
   "execution_count": 2,
   "id": "04986fa9-1774-4573-9c36-efb8359a9f5e",
   "metadata": {},
   "outputs": [
    {
     "name": "stdout",
     "output_type": "stream",
     "text": [
      "Requirement already satisfied: litebird_sim in /opt/homebrew/Caskroom/miniconda/base/envs/litebird_sim/lib/python3.11/site-packages (0.15.1)\n",
      "Requirement already satisfied: rich in /opt/homebrew/Caskroom/miniconda/base/envs/litebird_sim/lib/python3.11/site-packages (14.0.0)\n",
      "Requirement already satisfied: PyGithub<3.0.0,>=2.6.1 in /opt/homebrew/Caskroom/miniconda/base/envs/litebird_sim/lib/python3.11/site-packages (from litebird_sim) (2.6.1)\n",
      "Requirement already satisfied: asciimatics<2.0.0,>=1.15.0 in /opt/homebrew/Caskroom/miniconda/base/envs/litebird_sim/lib/python3.11/site-packages (from litebird_sim) (1.15.0)\n",
      "Requirement already satisfied: astropy==6.1.7 in /opt/homebrew/Caskroom/miniconda/base/envs/litebird_sim/lib/python3.11/site-packages (from litebird_sim) (6.1.7)\n",
      "Requirement already satisfied: deprecation<3.0.0,>=2.1.0 in /opt/homebrew/Caskroom/miniconda/base/envs/litebird_sim/lib/python3.11/site-packages (from litebird_sim) (2.1.0)\n",
      "Requirement already satisfied: ducc0<0.39.0,>=0.38.0 in /opt/homebrew/Caskroom/miniconda/base/envs/litebird_sim/lib/python3.11/site-packages (from litebird_sim) (0.38.0)\n",
      "Requirement already satisfied: h5py<4.0,>=3.9 in /opt/homebrew/Caskroom/miniconda/base/envs/litebird_sim/lib/python3.11/site-packages (from litebird_sim) (3.13.0)\n",
      "Requirement already satisfied: healpy<2.0.0,>=1.18.1 in /opt/homebrew/Caskroom/miniconda/base/envs/litebird_sim/lib/python3.11/site-packages (from litebird_sim) (1.18.1)\n",
      "Requirement already satisfied: jinja2<4.0,>=3.1 in /opt/homebrew/Caskroom/miniconda/base/envs/litebird_sim/lib/python3.11/site-packages (from litebird_sim) (3.1.6)\n",
      "Requirement already satisfied: jplephem<3.0,>=2.22 in /opt/homebrew/Caskroom/miniconda/base/envs/litebird_sim/lib/python3.11/site-packages (from litebird_sim) (2.22)\n",
      "Requirement already satisfied: libinsdb<0.9.0,>=0.8.0 in /opt/homebrew/Caskroom/miniconda/base/envs/litebird_sim/lib/python3.11/site-packages (from litebird_sim) (0.8.0)\n",
      "Requirement already satisfied: markdown<4.0,>=3.8 in /opt/homebrew/Caskroom/miniconda/base/envs/litebird_sim/lib/python3.11/site-packages (from litebird_sim) (3.8)\n",
      "Requirement already satisfied: markdown-katex<202407.0,>=202406.1035 in /opt/homebrew/Caskroom/miniconda/base/envs/litebird_sim/lib/python3.11/site-packages (from litebird_sim) (202406.1035)\n",
      "Requirement already satisfied: matplotlib<4.0.0,>=3.10.3 in /opt/homebrew/Caskroom/miniconda/base/envs/litebird_sim/lib/python3.11/site-packages (from litebird_sim) (3.10.3)\n",
      "Requirement already satisfied: numba<0.62.0,>=0.61.2 in /opt/homebrew/Caskroom/miniconda/base/envs/litebird_sim/lib/python3.11/site-packages (from litebird_sim) (0.61.2)\n",
      "Requirement already satisfied: numpy<2.0.0,>=1.26.4 in /opt/homebrew/Caskroom/miniconda/base/envs/litebird_sim/lib/python3.11/site-packages (from litebird_sim) (1.26.4)\n",
      "Requirement already satisfied: poetry-plugin-export<2.0.0,>=1.9.0 in /opt/homebrew/Caskroom/miniconda/base/envs/litebird_sim/lib/python3.11/site-packages (from litebird_sim) (1.9.0)\n",
      "Requirement already satisfied: pre-commit<5.0.0,>=4.2.0 in /opt/homebrew/Caskroom/miniconda/base/envs/litebird_sim/lib/python3.11/site-packages (from litebird_sim) (4.2.0)\n",
      "Requirement already satisfied: pydata-sphinx-theme<0.17.0,>=0.16.1 in /opt/homebrew/Caskroom/miniconda/base/envs/litebird_sim/lib/python3.11/site-packages (from litebird_sim) (0.16.1)\n",
      "Requirement already satisfied: pyperclip<2.0.0,>=1.9.0 in /opt/homebrew/Caskroom/miniconda/base/envs/litebird_sim/lib/python3.11/site-packages (from litebird_sim) (1.9.0)\n",
      "Requirement already satisfied: pysm3<4.0.0,>=3.4.2 in /opt/homebrew/Caskroom/miniconda/base/envs/litebird_sim/lib/python3.11/site-packages (from litebird_sim) (3.4.2)\n",
      "Requirement already satisfied: pytest<9.0.0,>=8.3.5 in /opt/homebrew/Caskroom/miniconda/base/envs/litebird_sim/lib/python3.11/site-packages (from litebird_sim) (8.3.5)\n",
      "Requirement already satisfied: pyyaml<7.0,>=6.0 in /opt/homebrew/Caskroom/miniconda/base/envs/litebird_sim/lib/python3.11/site-packages (from litebird_sim) (6.0.2)\n",
      "Requirement already satisfied: requests<3.0.0,>=2.32.0 in /opt/homebrew/Caskroom/miniconda/base/envs/litebird_sim/lib/python3.11/site-packages (from litebird_sim) (2.32.3)\n",
      "Requirement already satisfied: ruff<0.12.0,>=0.11.11 in /opt/homebrew/Caskroom/miniconda/base/envs/litebird_sim/lib/python3.11/site-packages (from litebird_sim) (0.11.11)\n",
      "Requirement already satisfied: scipy<2.0.0,>=1.14.0 in /opt/homebrew/Caskroom/miniconda/base/envs/litebird_sim/lib/python3.11/site-packages (from litebird_sim) (1.14.1)\n",
      "Requirement already satisfied: sphinx<9.0.0,>=8.1.3 in /opt/homebrew/Caskroom/miniconda/base/envs/litebird_sim/lib/python3.11/site-packages (from litebird_sim) (8.2.3)\n",
      "Requirement already satisfied: sphinxcontrib-bibtex<3.0.0,>=2.6.3 in /opt/homebrew/Caskroom/miniconda/base/envs/litebird_sim/lib/python3.11/site-packages (from litebird_sim) (2.6.3)\n",
      "Requirement already satisfied: sphinxcontrib-contentui<0.3.0,>=0.2.5 in /opt/homebrew/Caskroom/miniconda/base/envs/litebird_sim/lib/python3.11/site-packages (from litebird_sim) (0.2.5)\n",
      "Requirement already satisfied: sphinxcontrib.asciinema<0.4.0,>=0.3.7 in /opt/homebrew/Caskroom/miniconda/base/envs/litebird_sim/lib/python3.11/site-packages (from litebird_sim) (0.3.8)\n",
      "Requirement already satisfied: tomlkit<0.13.0,>=0.12.1 in /opt/homebrew/Caskroom/miniconda/base/envs/litebird_sim/lib/python3.11/site-packages (from litebird_sim) (0.12.5)\n",
      "Requirement already satisfied: pyerfa>=2.0.1.1 in /opt/homebrew/Caskroom/miniconda/base/envs/litebird_sim/lib/python3.11/site-packages (from astropy==6.1.7->litebird_sim) (2.0.1.5)\n",
      "Requirement already satisfied: astropy-iers-data>=0.2024.10.28.0.34.7 in /opt/homebrew/Caskroom/miniconda/base/envs/litebird_sim/lib/python3.11/site-packages (from astropy==6.1.7->litebird_sim) (0.2025.5.26.0.37.21)\n",
      "Requirement already satisfied: packaging>=19.0 in /opt/homebrew/Caskroom/miniconda/base/envs/litebird_sim/lib/python3.11/site-packages (from astropy==6.1.7->litebird_sim) (25.0)\n",
      "Requirement already satisfied: markdown-it-py>=2.2.0 in /opt/homebrew/Caskroom/miniconda/base/envs/litebird_sim/lib/python3.11/site-packages (from rich) (3.0.0)\n",
      "Requirement already satisfied: pygments<3.0.0,>=2.13.0 in /opt/homebrew/Caskroom/miniconda/base/envs/litebird_sim/lib/python3.11/site-packages (from rich) (2.19.1)\n",
      "Requirement already satisfied: pyfiglet>=0.7.2 in /opt/homebrew/Caskroom/miniconda/base/envs/litebird_sim/lib/python3.11/site-packages (from asciimatics<2.0.0,>=1.15.0->litebird_sim) (1.0.2)\n",
      "Requirement already satisfied: Pillow>=2.7.0 in /opt/homebrew/Caskroom/miniconda/base/envs/litebird_sim/lib/python3.11/site-packages (from asciimatics<2.0.0,>=1.15.0->litebird_sim) (11.2.1)\n",
      "Requirement already satisfied: wcwidth in /opt/homebrew/Caskroom/miniconda/base/envs/litebird_sim/lib/python3.11/site-packages (from asciimatics<2.0.0,>=1.15.0->litebird_sim) (0.2.13)\n",
      "Requirement already satisfied: MarkupSafe>=2.0 in /opt/homebrew/Caskroom/miniconda/base/envs/litebird_sim/lib/python3.11/site-packages (from jinja2<4.0,>=3.1->litebird_sim) (3.0.2)\n",
      "Requirement already satisfied: coverage<8.0.0,>=7.3.0 in /opt/homebrew/Caskroom/miniconda/base/envs/litebird_sim/lib/python3.11/site-packages (from libinsdb<0.9.0,>=0.8.0->litebird_sim) (7.8.2)\n",
      "Requirement already satisfied: python-dateutil<3.0.0,>=2.8.2 in /opt/homebrew/Caskroom/miniconda/base/envs/litebird_sim/lib/python3.11/site-packages (from libinsdb<0.9.0,>=0.8.0->litebird_sim) (2.9.0.post0)\n",
      "Requirement already satisfied: requests-mock<2.0.0,>=1.11.0 in /opt/homebrew/Caskroom/miniconda/base/envs/litebird_sim/lib/python3.11/site-packages (from libinsdb<0.9.0,>=0.8.0->litebird_sim) (1.12.1)\n",
      "Requirement already satisfied: types-pyyaml<7.0.0.0,>=6.0.12.12 in /opt/homebrew/Caskroom/miniconda/base/envs/litebird_sim/lib/python3.11/site-packages (from libinsdb<0.9.0,>=0.8.0->litebird_sim) (6.0.12.20250516)\n",
      "Requirement already satisfied: setuptools in /opt/homebrew/Caskroom/miniconda/base/envs/litebird_sim/lib/python3.11/site-packages (from markdown-katex<202407.0,>=202406.1035->litebird_sim) (80.8.0)\n",
      "Requirement already satisfied: contourpy>=1.0.1 in /opt/homebrew/Caskroom/miniconda/base/envs/litebird_sim/lib/python3.11/site-packages (from matplotlib<4.0.0,>=3.10.3->litebird_sim) (1.3.2)\n",
      "Requirement already satisfied: cycler>=0.10 in /opt/homebrew/Caskroom/miniconda/base/envs/litebird_sim/lib/python3.11/site-packages (from matplotlib<4.0.0,>=3.10.3->litebird_sim) (0.12.1)\n",
      "Requirement already satisfied: fonttools>=4.22.0 in /opt/homebrew/Caskroom/miniconda/base/envs/litebird_sim/lib/python3.11/site-packages (from matplotlib<4.0.0,>=3.10.3->litebird_sim) (4.58.0)\n",
      "Requirement already satisfied: kiwisolver>=1.3.1 in /opt/homebrew/Caskroom/miniconda/base/envs/litebird_sim/lib/python3.11/site-packages (from matplotlib<4.0.0,>=3.10.3->litebird_sim) (1.4.8)\n",
      "Requirement already satisfied: pyparsing>=2.3.1 in /opt/homebrew/Caskroom/miniconda/base/envs/litebird_sim/lib/python3.11/site-packages (from matplotlib<4.0.0,>=3.10.3->litebird_sim) (3.2.3)\n",
      "Requirement already satisfied: llvmlite<0.45,>=0.44.0dev0 in /opt/homebrew/Caskroom/miniconda/base/envs/litebird_sim/lib/python3.11/site-packages (from numba<0.62.0,>=0.61.2->litebird_sim) (0.44.0)\n",
      "Requirement already satisfied: poetry<3.0.0,>=2.0.0 in /opt/homebrew/Caskroom/miniconda/base/envs/litebird_sim/lib/python3.11/site-packages (from poetry-plugin-export<2.0.0,>=1.9.0->litebird_sim) (2.1.3)\n",
      "Requirement already satisfied: poetry-core<3.0.0,>=1.7.0 in /opt/homebrew/Caskroom/miniconda/base/envs/litebird_sim/lib/python3.11/site-packages (from poetry-plugin-export<2.0.0,>=1.9.0->litebird_sim) (2.1.3)\n",
      "Requirement already satisfied: build<2.0.0,>=1.2.1 in /opt/homebrew/Caskroom/miniconda/base/envs/litebird_sim/lib/python3.11/site-packages (from poetry<3.0.0,>=2.0.0->poetry-plugin-export<2.0.0,>=1.9.0->litebird_sim) (1.2.2.post1)\n",
      "Requirement already satisfied: cachecontrol<0.15.0,>=0.14.0 in /opt/homebrew/Caskroom/miniconda/base/envs/litebird_sim/lib/python3.11/site-packages (from cachecontrol[filecache]<0.15.0,>=0.14.0->poetry<3.0.0,>=2.0.0->poetry-plugin-export<2.0.0,>=1.9.0->litebird_sim) (0.14.3)\n",
      "Requirement already satisfied: cleo<3.0.0,>=2.1.0 in /opt/homebrew/Caskroom/miniconda/base/envs/litebird_sim/lib/python3.11/site-packages (from poetry<3.0.0,>=2.0.0->poetry-plugin-export<2.0.0,>=1.9.0->litebird_sim) (2.1.0)\n",
      "Requirement already satisfied: dulwich<0.23.0,>=0.22.6 in /opt/homebrew/Caskroom/miniconda/base/envs/litebird_sim/lib/python3.11/site-packages (from poetry<3.0.0,>=2.0.0->poetry-plugin-export<2.0.0,>=1.9.0->litebird_sim) (0.22.8)\n",
      "Requirement already satisfied: fastjsonschema<3.0.0,>=2.18.0 in /opt/homebrew/Caskroom/miniconda/base/envs/litebird_sim/lib/python3.11/site-packages (from poetry<3.0.0,>=2.0.0->poetry-plugin-export<2.0.0,>=1.9.0->litebird_sim) (2.21.1)\n",
      "Requirement already satisfied: findpython<0.7.0,>=0.6.2 in /opt/homebrew/Caskroom/miniconda/base/envs/litebird_sim/lib/python3.11/site-packages (from poetry<3.0.0,>=2.0.0->poetry-plugin-export<2.0.0,>=1.9.0->litebird_sim) (0.6.3)\n",
      "Requirement already satisfied: installer<0.8.0,>=0.7.0 in /opt/homebrew/Caskroom/miniconda/base/envs/litebird_sim/lib/python3.11/site-packages (from poetry<3.0.0,>=2.0.0->poetry-plugin-export<2.0.0,>=1.9.0->litebird_sim) (0.7.0)\n",
      "Requirement already satisfied: keyring<26.0.0,>=25.1.0 in /opt/homebrew/Caskroom/miniconda/base/envs/litebird_sim/lib/python3.11/site-packages (from poetry<3.0.0,>=2.0.0->poetry-plugin-export<2.0.0,>=1.9.0->litebird_sim) (25.6.0)\n",
      "Requirement already satisfied: pbs-installer<2026.0.0,>=2025.1.6 in /opt/homebrew/Caskroom/miniconda/base/envs/litebird_sim/lib/python3.11/site-packages (from pbs-installer[download,install]<2026.0.0,>=2025.1.6->poetry<3.0.0,>=2.0.0->poetry-plugin-export<2.0.0,>=1.9.0->litebird_sim) (2025.5.17)\n",
      "Requirement already satisfied: pkginfo<2.0,>=1.12 in /opt/homebrew/Caskroom/miniconda/base/envs/litebird_sim/lib/python3.11/site-packages (from poetry<3.0.0,>=2.0.0->poetry-plugin-export<2.0.0,>=1.9.0->litebird_sim) (1.12.1.2)\n",
      "Requirement already satisfied: platformdirs<5,>=3.0.0 in /opt/homebrew/Caskroom/miniconda/base/envs/litebird_sim/lib/python3.11/site-packages (from poetry<3.0.0,>=2.0.0->poetry-plugin-export<2.0.0,>=1.9.0->litebird_sim) (4.3.8)\n",
      "Requirement already satisfied: pyproject-hooks<2.0.0,>=1.0.0 in /opt/homebrew/Caskroom/miniconda/base/envs/litebird_sim/lib/python3.11/site-packages (from poetry<3.0.0,>=2.0.0->poetry-plugin-export<2.0.0,>=1.9.0->litebird_sim) (1.2.0)\n",
      "Requirement already satisfied: requests-toolbelt<2.0.0,>=1.0.0 in /opt/homebrew/Caskroom/miniconda/base/envs/litebird_sim/lib/python3.11/site-packages (from poetry<3.0.0,>=2.0.0->poetry-plugin-export<2.0.0,>=1.9.0->litebird_sim) (1.0.0)\n",
      "Requirement already satisfied: shellingham<2.0,>=1.5 in /opt/homebrew/Caskroom/miniconda/base/envs/litebird_sim/lib/python3.11/site-packages (from poetry<3.0.0,>=2.0.0->poetry-plugin-export<2.0.0,>=1.9.0->litebird_sim) (1.5.4)\n",
      "Requirement already satisfied: trove-classifiers>=2022.5.19 in /opt/homebrew/Caskroom/miniconda/base/envs/litebird_sim/lib/python3.11/site-packages (from poetry<3.0.0,>=2.0.0->poetry-plugin-export<2.0.0,>=1.9.0->litebird_sim) (2025.5.9.12)\n",
      "Requirement already satisfied: virtualenv<21.0.0,>=20.26.6 in /opt/homebrew/Caskroom/miniconda/base/envs/litebird_sim/lib/python3.11/site-packages (from poetry<3.0.0,>=2.0.0->poetry-plugin-export<2.0.0,>=1.9.0->litebird_sim) (20.31.2)\n",
      "Requirement already satisfied: xattr<2.0.0,>=1.0.0 in /opt/homebrew/Caskroom/miniconda/base/envs/litebird_sim/lib/python3.11/site-packages (from poetry<3.0.0,>=2.0.0->poetry-plugin-export<2.0.0,>=1.9.0->litebird_sim) (1.1.4)\n",
      "Requirement already satisfied: msgpack<2.0.0,>=0.5.2 in /opt/homebrew/Caskroom/miniconda/base/envs/litebird_sim/lib/python3.11/site-packages (from cachecontrol<0.15.0,>=0.14.0->cachecontrol[filecache]<0.15.0,>=0.14.0->poetry<3.0.0,>=2.0.0->poetry-plugin-export<2.0.0,>=1.9.0->litebird_sim) (1.1.0)\n",
      "Requirement already satisfied: filelock>=3.8.0 in /opt/homebrew/Caskroom/miniconda/base/envs/litebird_sim/lib/python3.11/site-packages (from cachecontrol[filecache]<0.15.0,>=0.14.0->poetry<3.0.0,>=2.0.0->poetry-plugin-export<2.0.0,>=1.9.0->litebird_sim) (3.18.0)\n",
      "Requirement already satisfied: crashtest<0.5.0,>=0.4.1 in /opt/homebrew/Caskroom/miniconda/base/envs/litebird_sim/lib/python3.11/site-packages (from cleo<3.0.0,>=2.1.0->poetry<3.0.0,>=2.0.0->poetry-plugin-export<2.0.0,>=1.9.0->litebird_sim) (0.4.1)\n",
      "Requirement already satisfied: rapidfuzz<4.0.0,>=3.0.0 in /opt/homebrew/Caskroom/miniconda/base/envs/litebird_sim/lib/python3.11/site-packages (from cleo<3.0.0,>=2.1.0->poetry<3.0.0,>=2.0.0->poetry-plugin-export<2.0.0,>=1.9.0->litebird_sim) (3.13.0)\n",
      "Requirement already satisfied: urllib3>=1.25 in /opt/homebrew/Caskroom/miniconda/base/envs/litebird_sim/lib/python3.11/site-packages (from dulwich<0.23.0,>=0.22.6->poetry<3.0.0,>=2.0.0->poetry-plugin-export<2.0.0,>=1.9.0->litebird_sim) (2.4.0)\n",
      "Requirement already satisfied: importlib_metadata>=4.11.4 in /opt/homebrew/Caskroom/miniconda/base/envs/litebird_sim/lib/python3.11/site-packages (from keyring<26.0.0,>=25.1.0->poetry<3.0.0,>=2.0.0->poetry-plugin-export<2.0.0,>=1.9.0->litebird_sim) (8.7.0)\n",
      "Requirement already satisfied: jaraco.classes in /opt/homebrew/Caskroom/miniconda/base/envs/litebird_sim/lib/python3.11/site-packages (from keyring<26.0.0,>=25.1.0->poetry<3.0.0,>=2.0.0->poetry-plugin-export<2.0.0,>=1.9.0->litebird_sim) (3.4.0)\n",
      "Requirement already satisfied: jaraco.functools in /opt/homebrew/Caskroom/miniconda/base/envs/litebird_sim/lib/python3.11/site-packages (from keyring<26.0.0,>=25.1.0->poetry<3.0.0,>=2.0.0->poetry-plugin-export<2.0.0,>=1.9.0->litebird_sim) (4.1.0)\n",
      "Requirement already satisfied: jaraco.context in /opt/homebrew/Caskroom/miniconda/base/envs/litebird_sim/lib/python3.11/site-packages (from keyring<26.0.0,>=25.1.0->poetry<3.0.0,>=2.0.0->poetry-plugin-export<2.0.0,>=1.9.0->litebird_sim) (6.0.1)\n",
      "Requirement already satisfied: httpx<1,>=0.27.0 in /opt/homebrew/Caskroom/miniconda/base/envs/litebird_sim/lib/python3.11/site-packages (from pbs-installer[download,install]<2026.0.0,>=2025.1.6->poetry<3.0.0,>=2.0.0->poetry-plugin-export<2.0.0,>=1.9.0->litebird_sim) (0.28.1)\n",
      "Requirement already satisfied: zstandard>=0.21.0 in /opt/homebrew/Caskroom/miniconda/base/envs/litebird_sim/lib/python3.11/site-packages (from pbs-installer[download,install]<2026.0.0,>=2025.1.6->poetry<3.0.0,>=2.0.0->poetry-plugin-export<2.0.0,>=1.9.0->litebird_sim) (0.23.0)\n",
      "Requirement already satisfied: anyio in /opt/homebrew/Caskroom/miniconda/base/envs/litebird_sim/lib/python3.11/site-packages (from httpx<1,>=0.27.0->pbs-installer[download,install]<2026.0.0,>=2025.1.6->poetry<3.0.0,>=2.0.0->poetry-plugin-export<2.0.0,>=1.9.0->litebird_sim) (4.9.0)\n",
      "Requirement already satisfied: certifi in /opt/homebrew/Caskroom/miniconda/base/envs/litebird_sim/lib/python3.11/site-packages (from httpx<1,>=0.27.0->pbs-installer[download,install]<2026.0.0,>=2025.1.6->poetry<3.0.0,>=2.0.0->poetry-plugin-export<2.0.0,>=1.9.0->litebird_sim) (2025.4.26)\n",
      "Requirement already satisfied: httpcore==1.* in /opt/homebrew/Caskroom/miniconda/base/envs/litebird_sim/lib/python3.11/site-packages (from httpx<1,>=0.27.0->pbs-installer[download,install]<2026.0.0,>=2025.1.6->poetry<3.0.0,>=2.0.0->poetry-plugin-export<2.0.0,>=1.9.0->litebird_sim) (1.0.9)\n",
      "Requirement already satisfied: idna in /opt/homebrew/Caskroom/miniconda/base/envs/litebird_sim/lib/python3.11/site-packages (from httpx<1,>=0.27.0->pbs-installer[download,install]<2026.0.0,>=2025.1.6->poetry<3.0.0,>=2.0.0->poetry-plugin-export<2.0.0,>=1.9.0->litebird_sim) (3.10)\n",
      "Requirement already satisfied: h11>=0.16 in /opt/homebrew/Caskroom/miniconda/base/envs/litebird_sim/lib/python3.11/site-packages (from httpcore==1.*->httpx<1,>=0.27.0->pbs-installer[download,install]<2026.0.0,>=2025.1.6->poetry<3.0.0,>=2.0.0->poetry-plugin-export<2.0.0,>=1.9.0->litebird_sim) (0.16.0)\n",
      "Requirement already satisfied: cfgv>=2.0.0 in /opt/homebrew/Caskroom/miniconda/base/envs/litebird_sim/lib/python3.11/site-packages (from pre-commit<5.0.0,>=4.2.0->litebird_sim) (3.4.0)\n",
      "Requirement already satisfied: identify>=1.0.0 in /opt/homebrew/Caskroom/miniconda/base/envs/litebird_sim/lib/python3.11/site-packages (from pre-commit<5.0.0,>=4.2.0->litebird_sim) (2.6.12)\n",
      "Requirement already satisfied: nodeenv>=0.11.1 in /opt/homebrew/Caskroom/miniconda/base/envs/litebird_sim/lib/python3.11/site-packages (from pre-commit<5.0.0,>=4.2.0->litebird_sim) (1.9.1)\n",
      "Requirement already satisfied: beautifulsoup4 in /opt/homebrew/Caskroom/miniconda/base/envs/litebird_sim/lib/python3.11/site-packages (from pydata-sphinx-theme<0.17.0,>=0.16.1->litebird_sim) (4.13.4)\n",
      "Requirement already satisfied: docutils!=0.17.0 in /opt/homebrew/Caskroom/miniconda/base/envs/litebird_sim/lib/python3.11/site-packages (from pydata-sphinx-theme<0.17.0,>=0.16.1->litebird_sim) (0.21.2)\n",
      "Requirement already satisfied: Babel in /opt/homebrew/Caskroom/miniconda/base/envs/litebird_sim/lib/python3.11/site-packages (from pydata-sphinx-theme<0.17.0,>=0.16.1->litebird_sim) (2.17.0)\n",
      "Requirement already satisfied: accessible-pygments in /opt/homebrew/Caskroom/miniconda/base/envs/litebird_sim/lib/python3.11/site-packages (from pydata-sphinx-theme<0.17.0,>=0.16.1->litebird_sim) (0.0.5)\n",
      "Requirement already satisfied: typing-extensions in /opt/homebrew/Caskroom/miniconda/base/envs/litebird_sim/lib/python3.11/site-packages (from pydata-sphinx-theme<0.17.0,>=0.16.1->litebird_sim) (4.13.2)\n",
      "Requirement already satisfied: pynacl>=1.4.0 in /opt/homebrew/Caskroom/miniconda/base/envs/litebird_sim/lib/python3.11/site-packages (from PyGithub<3.0.0,>=2.6.1->litebird_sim) (1.5.0)\n",
      "Requirement already satisfied: pyjwt>=2.4.0 in /opt/homebrew/Caskroom/miniconda/base/envs/litebird_sim/lib/python3.11/site-packages (from pyjwt[crypto]>=2.4.0->PyGithub<3.0.0,>=2.6.1->litebird_sim) (2.10.1)\n",
      "Requirement already satisfied: Deprecated in /opt/homebrew/Caskroom/miniconda/base/envs/litebird_sim/lib/python3.11/site-packages (from PyGithub<3.0.0,>=2.6.1->litebird_sim) (1.2.18)\n",
      "Requirement already satisfied: toml in /opt/homebrew/Caskroom/miniconda/base/envs/litebird_sim/lib/python3.11/site-packages (from pysm3<4.0.0,>=3.4.2->litebird_sim) (0.10.2)\n",
      "Requirement already satisfied: iniconfig in /opt/homebrew/Caskroom/miniconda/base/envs/litebird_sim/lib/python3.11/site-packages (from pytest<9.0.0,>=8.3.5->litebird_sim) (2.1.0)\n",
      "Requirement already satisfied: pluggy<2,>=1.5 in /opt/homebrew/Caskroom/miniconda/base/envs/litebird_sim/lib/python3.11/site-packages (from pytest<9.0.0,>=8.3.5->litebird_sim) (1.6.0)\n",
      "Requirement already satisfied: six>=1.5 in /opt/homebrew/Caskroom/miniconda/base/envs/litebird_sim/lib/python3.11/site-packages (from python-dateutil<3.0.0,>=2.8.2->libinsdb<0.9.0,>=0.8.0->litebird_sim) (1.17.0)\n",
      "Requirement already satisfied: charset-normalizer<4,>=2 in /opt/homebrew/Caskroom/miniconda/base/envs/litebird_sim/lib/python3.11/site-packages (from requests<3.0.0,>=2.32.0->litebird_sim) (3.4.2)\n",
      "Requirement already satisfied: sphinxcontrib-applehelp>=1.0.7 in /opt/homebrew/Caskroom/miniconda/base/envs/litebird_sim/lib/python3.11/site-packages (from sphinx<9.0.0,>=8.1.3->litebird_sim) (2.0.0)\n",
      "Requirement already satisfied: sphinxcontrib-devhelp>=1.0.6 in /opt/homebrew/Caskroom/miniconda/base/envs/litebird_sim/lib/python3.11/site-packages (from sphinx<9.0.0,>=8.1.3->litebird_sim) (2.0.0)\n",
      "Requirement already satisfied: sphinxcontrib-htmlhelp>=2.0.6 in /opt/homebrew/Caskroom/miniconda/base/envs/litebird_sim/lib/python3.11/site-packages (from sphinx<9.0.0,>=8.1.3->litebird_sim) (2.1.0)\n",
      "Requirement already satisfied: sphinxcontrib-jsmath>=1.0.1 in /opt/homebrew/Caskroom/miniconda/base/envs/litebird_sim/lib/python3.11/site-packages (from sphinx<9.0.0,>=8.1.3->litebird_sim) (1.0.1)\n",
      "Requirement already satisfied: sphinxcontrib-qthelp>=1.0.6 in /opt/homebrew/Caskroom/miniconda/base/envs/litebird_sim/lib/python3.11/site-packages (from sphinx<9.0.0,>=8.1.3->litebird_sim) (2.0.0)\n",
      "Requirement already satisfied: sphinxcontrib-serializinghtml>=1.1.9 in /opt/homebrew/Caskroom/miniconda/base/envs/litebird_sim/lib/python3.11/site-packages (from sphinx<9.0.0,>=8.1.3->litebird_sim) (2.0.0)\n",
      "Requirement already satisfied: snowballstemmer>=2.2 in /opt/homebrew/Caskroom/miniconda/base/envs/litebird_sim/lib/python3.11/site-packages (from sphinx<9.0.0,>=8.1.3->litebird_sim) (3.0.1)\n",
      "Requirement already satisfied: alabaster>=0.7.14 in /opt/homebrew/Caskroom/miniconda/base/envs/litebird_sim/lib/python3.11/site-packages (from sphinx<9.0.0,>=8.1.3->litebird_sim) (1.0.0)\n",
      "Requirement already satisfied: imagesize>=1.3 in /opt/homebrew/Caskroom/miniconda/base/envs/litebird_sim/lib/python3.11/site-packages (from sphinx<9.0.0,>=8.1.3->litebird_sim) (1.4.1)\n",
      "Requirement already satisfied: roman-numerals-py>=1.0.0 in /opt/homebrew/Caskroom/miniconda/base/envs/litebird_sim/lib/python3.11/site-packages (from sphinx<9.0.0,>=8.1.3->litebird_sim) (3.1.0)\n",
      "Requirement already satisfied: pybtex>=0.24 in /opt/homebrew/Caskroom/miniconda/base/envs/litebird_sim/lib/python3.11/site-packages (from sphinxcontrib-bibtex<3.0.0,>=2.6.3->litebird_sim) (0.24.0)\n",
      "Requirement already satisfied: pybtex-docutils>=1.0.0 in /opt/homebrew/Caskroom/miniconda/base/envs/litebird_sim/lib/python3.11/site-packages (from sphinxcontrib-bibtex<3.0.0,>=2.6.3->litebird_sim) (1.0.3)\n",
      "Requirement already satisfied: distlib<1,>=0.3.7 in /opt/homebrew/Caskroom/miniconda/base/envs/litebird_sim/lib/python3.11/site-packages (from virtualenv<21.0.0,>=20.26.6->poetry<3.0.0,>=2.0.0->poetry-plugin-export<2.0.0,>=1.9.0->litebird_sim) (0.3.9)\n",
      "Requirement already satisfied: cffi>=1.16.0 in /opt/homebrew/Caskroom/miniconda/base/envs/litebird_sim/lib/python3.11/site-packages (from xattr<2.0.0,>=1.0.0->poetry<3.0.0,>=2.0.0->poetry-plugin-export<2.0.0,>=1.9.0->litebird_sim) (1.17.1)\n",
      "Requirement already satisfied: pycparser in /opt/homebrew/Caskroom/miniconda/base/envs/litebird_sim/lib/python3.11/site-packages (from cffi>=1.16.0->xattr<2.0.0,>=1.0.0->poetry<3.0.0,>=2.0.0->poetry-plugin-export<2.0.0,>=1.9.0->litebird_sim) (2.22)\n",
      "Requirement already satisfied: zipp>=3.20 in /opt/homebrew/Caskroom/miniconda/base/envs/litebird_sim/lib/python3.11/site-packages (from importlib_metadata>=4.11.4->keyring<26.0.0,>=25.1.0->poetry<3.0.0,>=2.0.0->poetry-plugin-export<2.0.0,>=1.9.0->litebird_sim) (3.21.0)\n",
      "Requirement already satisfied: mdurl~=0.1 in /opt/homebrew/Caskroom/miniconda/base/envs/litebird_sim/lib/python3.11/site-packages (from markdown-it-py>=2.2.0->rich) (0.1.2)\n",
      "Requirement already satisfied: latexcodec>=1.0.4 in /opt/homebrew/Caskroom/miniconda/base/envs/litebird_sim/lib/python3.11/site-packages (from pybtex>=0.24->sphinxcontrib-bibtex<3.0.0,>=2.6.3->litebird_sim) (3.0.0)\n",
      "Requirement already satisfied: cryptography>=3.4.0 in /opt/homebrew/Caskroom/miniconda/base/envs/litebird_sim/lib/python3.11/site-packages (from pyjwt[crypto]>=2.4.0->PyGithub<3.0.0,>=2.6.1->litebird_sim) (45.0.3)\n",
      "Requirement already satisfied: sniffio>=1.1 in /opt/homebrew/Caskroom/miniconda/base/envs/litebird_sim/lib/python3.11/site-packages (from anyio->httpx<1,>=0.27.0->pbs-installer[download,install]<2026.0.0,>=2025.1.6->poetry<3.0.0,>=2.0.0->poetry-plugin-export<2.0.0,>=1.9.0->litebird_sim) (1.3.1)\n",
      "Requirement already satisfied: soupsieve>1.2 in /opt/homebrew/Caskroom/miniconda/base/envs/litebird_sim/lib/python3.11/site-packages (from beautifulsoup4->pydata-sphinx-theme<0.17.0,>=0.16.1->litebird_sim) (2.7)\n",
      "Requirement already satisfied: wrapt<2,>=1.10 in /opt/homebrew/Caskroom/miniconda/base/envs/litebird_sim/lib/python3.11/site-packages (from Deprecated->PyGithub<3.0.0,>=2.6.1->litebird_sim) (1.17.2)\n",
      "Requirement already satisfied: more-itertools in /opt/homebrew/Caskroom/miniconda/base/envs/litebird_sim/lib/python3.11/site-packages (from jaraco.classes->keyring<26.0.0,>=25.1.0->poetry<3.0.0,>=2.0.0->poetry-plugin-export<2.0.0,>=1.9.0->litebird_sim) (10.7.0)\n",
      "Requirement already satisfied: backports.tarfile in /opt/homebrew/Caskroom/miniconda/base/envs/litebird_sim/lib/python3.11/site-packages (from jaraco.context->keyring<26.0.0,>=25.1.0->poetry<3.0.0,>=2.0.0->poetry-plugin-export<2.0.0,>=1.9.0->litebird_sim) (1.2.0)\n"
     ]
    }
   ],
   "source": [
    "!pip install litebird_sim rich"
   ]
  },
  {
   "cell_type": "markdown",
   "id": "2fef1472",
   "metadata": {},
   "source": [
    "# `litebird_sim` example notebook\n"
   ]
  },
  {
   "cell_type": "markdown",
   "id": "76badba7",
   "metadata": {},
   "source": [
    "To run this notebook, you have several options:\n",
    "\n",
    "-   If you are running this under Binder, you should already be set!\n",
    "-   If you are running this under Google Colab, be sure to run the cell with `!pip install…` that is right above the title.\n",
    "-   If you are running this locally, you should first create and activate a new virtual environment with the commands\n",
    "\n",
    "    ```\n",
    "    python -m venv ./my_venv\n",
    "    source ./my_venv/bin/activate\n",
    "    ```\n",
    "\n",
    "    (you can use Conda environments, if you prefer) and install Jupyter and litebird_sim in it:\n",
    "\n",
    "    ```\n",
    "    pip install jupyter litebird_sim\n",
    "    ```\n",
    "\n",
    "    If you have a local copy of the `litebird_sim` repository cloned from <https://github.com/litebird/litebird_sim> (e.g., because you're part of the Simulation Team!), you can use a _development install_ instead:\n",
    "\n",
    "    ```\n",
    "    cd /my/local/copy/litebird_sim\n",
    "    pip install -e .\n",
    "    ```\n"
   ]
  },
  {
   "cell_type": "markdown",
   "id": "75a9928a",
   "metadata": {},
   "source": [
    "## Set up the environment\n"
   ]
  },
  {
   "cell_type": "code",
   "execution_count": 3,
   "id": "36d9bfd4-dcc9-4693-829a-9ca7ca5d1f09",
   "metadata": {},
   "outputs": [],
   "source": [
    "# Using this file, we can use \"import litebird_sim\" even if it is not installed system-wide"
   ]
  },
  {
   "cell_type": "markdown",
   "id": "095f7f30",
   "metadata": {},
   "source": [
    "We start by importing a few libraries that will be useful in this notebook.\n"
   ]
  },
  {
   "cell_type": "code",
   "execution_count": 4,
   "id": "26987fcc",
   "metadata": {},
   "outputs": [],
   "source": [
    "import litebird_sim as lbs\n",
    "import numpy as np\n",
    "\n",
    "import matplotlib.pylab as plt\n",
    "# import healpy as hp\n",
    "import astropy\n",
    "\n",
    "import inspect\n",
    "\n",
    "%matplotlib inline"
   ]
  },
  {
   "cell_type": "code",
   "execution_count": 5,
   "id": "5fbc668e-ab71-45c6-a80c-8bbd213493cb",
   "metadata": {},
   "outputs": [
    {
     "data": {
      "text/plain": [
       "PosixPath('/Users/luca/Documents/Universita/litebird/simteam/codes/litebird_sim/litebird_sim/default_imo/schema.json.gz')"
      ]
     },
     "execution_count": 5,
     "metadata": {},
     "output_type": "execute_result"
    }
   ],
   "source": [
    "lbs.PTEP_IMO_LOCATION"
   ]
  },
  {
   "cell_type": "markdown",
   "id": "4373f9f2",
   "metadata": {},
   "source": [
    "## Parameters of the simulation\n",
    "\n",
    "We will simulate a pair of 140 GHz LFT detectors. Their definition will be taken from the LiteBIRD Instrument MOdel (IMO) version vPTEP (**new!**), and we will simulate 6 months of observation. See the [documentation](https://litebird-sim.readthedocs.io/en/latest/simulations.html#simulations) for more details about the input parameters.\n"
   ]
  },
  {
   "cell_type": "code",
   "execution_count": 6,
   "id": "bd3a8c68",
   "metadata": {},
   "outputs": [],
   "source": [
    "telescope = \"LFT\"\n",
    "channel = \"L4-140\"\n",
    "detlist = [\n",
    "    \"000_001_017_QB_140_T\",\n",
    "    \"000_001_017_QB_140_B\",\n",
    "]\n",
    "\n",
    "start_time = astropy.time.Time(\"2025-01-01T00:00:00\")\n",
    "mission_time_days = 180\n",
    "\n",
    "imo_version = \"vPTEP\"\n",
    "\n",
    "# Resolution of the output maps\n",
    "nside = 64"
   ]
  },
  {
   "cell_type": "markdown",
   "id": "f4856815",
   "metadata": {},
   "source": [
    "To use the IMO bundled in `litebird_sim`, one needs to do the following:\n"
   ]
  },
  {
   "cell_type": "code",
   "execution_count": 7,
   "id": "05624b49",
   "metadata": {},
   "outputs": [],
   "source": [
    "# This is the folder where the final report with the results of the simulation will be saved\n",
    "base_path = \".test\"\n",
    "\n",
    "imo = lbs.Imo(flatfile_location=lbs.PTEP_IMO_LOCATION)\n",
    "\n",
    "# initializing the simulation\n",
    "sim = lbs.Simulation(\n",
    "    base_path=base_path,\n",
    "    imo=imo,\n",
    "    # mpi_comm=comm,  <--- needed if parallelizing\n",
    "    start_time=start_time,\n",
    "    duration_s=mission_time_days * 24 * 3600.0,\n",
    "    random_seed=12345,  # seed for the random number generator (MANDATORY parameter!!!)\n",
    ")"
   ]
  },
  {
   "cell_type": "markdown",
   "id": "8185f0a1",
   "metadata": {},
   "source": [
    "The following instructions load from the IMO the information about the [instrument](https://litebird-sim.readthedocs.io/en/latest/detectors.html#detectors-channels-and-instruments) and the [detectors](https://litebird-sim.readthedocs.io/en/latest/detectors.html#detectors-channels-and-instruments) used in the simulation.\n"
   ]
  },
  {
   "cell_type": "code",
   "execution_count": 8,
   "id": "84c04631",
   "metadata": {},
   "outputs": [],
   "source": [
    "# Load the definition of the instrument (MFT)\n",
    "sim.set_instrument(\n",
    "    lbs.InstrumentInfo.from_imo(\n",
    "        imo,\n",
    "        f\"/releases/{imo_version}/satellite/{telescope}/instrument_info\",\n",
    "    )\n",
    ")\n",
    "\n",
    "# filling dets with info and detquats with quaternions of the detectors in detlist\n",
    "dets = []  # type: List[lbs.DetectorInfo]\n",
    "for n_det in detlist:\n",
    "    det = lbs.DetectorInfo.from_imo(\n",
    "        url=f\"/releases/{imo_version}/satellite/{telescope}/{channel}/{n_det}/detector_info\",\n",
    "        imo=imo,\n",
    "    )\n",
    "\n",
    "    # we overwrite the nominal sampling rate read from IMO with a smaller one, so that\n",
    "    # we produce 12 months tod without taking too much memory\n",
    "    det.sampling_rate_hz = 2\n",
    "\n",
    "    dets.append(det)"
   ]
  },
  {
   "cell_type": "markdown",
   "id": "39227859",
   "metadata": {},
   "source": [
    "The following command will take some time: it needs to compute the ephemerides of the Earth with respect to the Ecliptic reference frame and derive the orientation of the LFT instrument as a function of time for the whole duration of the simulation. This step will be needed later, when we will obtain the pointings for the detectors involved in the simulation. See the [documentation](https://litebird-sim.readthedocs.io/en/latest/scanning.html#scanning-strategy) for more details about the scanning strategy.\n"
   ]
  },
  {
   "cell_type": "code",
   "execution_count": 9,
   "id": "17384fac",
   "metadata": {},
   "outputs": [],
   "source": [
    "# Generate the quaternions describing how the instrument moves in the Ecliptic reference frame\n",
    "sim.set_scanning_strategy(\n",
    "    imo_url=f\"/releases/{imo_version}/satellite/scanning_parameters/\"\n",
    ")"
   ]
  },
  {
   "cell_type": "markdown",
   "id": "c041f646",
   "metadata": {},
   "source": [
    "## Initialize TODs"
   ]
  },
  {
   "cell_type": "markdown",
   "id": "fea8a5ce",
   "metadata": {},
   "source": [
    "Let's now create a set of «[observations](https://litebird-sim.readthedocs.io/en/latest/observations.html#observations)». This concept was mutuated by [TOAST](https://github.com/hpc4cmb/toast), and it represents a chunk of data acquired while the instrument was in almost stable conditions (i.e., stationary noise, no thermal drifts…). For the sake of simplicity, we create just _one_ observation, but of course in realistic simulations you will have several observations spread among the available MPI processes.\n",
    "\n",
    "The method create_observations allows to specify the data type of the allocated TOD with tod_dtype"
   ]
  },
  {
   "cell_type": "code",
   "execution_count": 10,
   "id": "3ae0a32b",
   "metadata": {},
   "outputs": [
    {
     "data": {
      "text/plain": [
       "[<litebird_sim.observations.Observation at 0x30e7f71d0>]"
      ]
     },
     "execution_count": 10,
     "metadata": {},
     "output_type": "execute_result"
    }
   ],
   "source": [
    "sim.create_observations(\n",
    "    detectors=dets, n_blocks_det=1, n_blocks_time=1, tod_dtype=np.float32\n",
    ")"
   ]
  },
  {
   "cell_type": "markdown",
   "id": "200c232a",
   "metadata": {},
   "source": [
    "It is also possible to create several TODs using the same method"
   ]
  },
  {
   "cell_type": "code",
   "execution_count": 11,
   "id": "8edc1734",
   "metadata": {},
   "outputs": [
    {
     "name": "stderr",
     "output_type": "stream",
     "text": [
      "[2025-06-29 16:39:27,760 WARNING MPI#0000] Detector layer is already initialized. Reinitializing the entire RNG hierarchy.\n"
     ]
    }
   ],
   "source": [
    "(obs,) = sim.create_observations(\n",
    "    detectors=dets,\n",
    "    n_blocks_det=1,\n",
    "    n_blocks_time=1,\n",
    "    tods=[\n",
    "        lbs.TodDescription(\n",
    "            name=\"cmb_signal\",\n",
    "            description=\"CMB\",\n",
    "            dtype=np.float64,\n",
    "        ),\n",
    "        lbs.TodDescription(\n",
    "            name=\"fg_signal\",\n",
    "            description=\"FG\",\n",
    "            dtype=np.float64,\n",
    "        ),\n",
    "        lbs.TodDescription(\n",
    "            name=\"noise\", description=\"1/f+white noise\", dtype=np.float32\n",
    "        ),\n",
    "    ],\n",
    ")"
   ]
  },
  {
   "cell_type": "code",
   "execution_count": 12,
   "id": "4cf87248",
   "metadata": {},
   "outputs": [
    {
     "name": "stdout",
     "output_type": "stream",
     "text": [
      "(2, 31104000)\n",
      "(2, 31104000)\n",
      "(2, 31104000)\n",
      "float64\n",
      "float64\n",
      "float32\n"
     ]
    }
   ],
   "source": [
    "print(obs.cmb_signal.shape)\n",
    "print(obs.fg_signal.shape)\n",
    "print(obs.noise.shape)\n",
    "\n",
    "print(obs.cmb_signal.dtype)\n",
    "print(obs.fg_signal.dtype)\n",
    "print(obs.noise.dtype)"
   ]
  },
  {
   "cell_type": "markdown",
   "id": "8d25fa54",
   "metadata": {},
   "source": [
    "Let's now compute the pointings, in this case we do not initialize the HWP\n"
   ]
  },
  {
   "cell_type": "code",
   "execution_count": 13,
   "id": "4590482d",
   "metadata": {},
   "outputs": [],
   "source": [
    "sim.prepare_pointings()\n",
    "sim.precompute_pointings()"
   ]
  },
  {
   "cell_type": "markdown",
   "id": "ed8e5f19",
   "metadata": {},
   "source": [
    "## Generate inputs"
   ]
  },
  {
   "cell_type": "markdown",
   "id": "00ad6da8",
   "metadata": {},
   "source": [
    "Now we know where the detectors are looking at. Let's produce a synthetic image of the sky at the frequencies sampled by the two detectors we're simulating; for this, we need the information about the [frequency channel](https://litebird-sim.readthedocs.io/en/latest/detectors.html#detectors-channels-and-instruments) we are simulating (140 GHz), so we retrieve them from the IMO again:\n"
   ]
  },
  {
   "cell_type": "code",
   "execution_count": 14,
   "id": "daf624c0",
   "metadata": {},
   "outputs": [],
   "source": [
    "# loading channel info\n",
    "ch_info = []\n",
    "ch_info.append(\n",
    "    lbs.FreqChannelInfo.from_imo(\n",
    "        url=f\"/releases/{imo_version}/satellite/{telescope}/{channel}/channel_info\",\n",
    "        imo=imo,\n",
    "    )\n",
    ")"
   ]
  },
  {
   "cell_type": "markdown",
   "id": "bd53d75b",
   "metadata": {},
   "source": [
    "The LiteBIRD Simulation Framework provides [MBS](https://litebird-sim.readthedocs.io/en/latest/sky_maps.html#synthetic-sky-maps), which is a wrapper to PySM; we use it to produce a map of the sky including synchrotron, free-free, and dust, and we smooth the map according to the FWHM specified in the IMO. (Note that we do not need to pass this information explicitly, as MBS is able to extract it from `ch_info`.)\n"
   ]
  },
  {
   "cell_type": "code",
   "execution_count": 15,
   "id": "486ddba4",
   "metadata": {},
   "outputs": [
    {
     "name": "stderr",
     "output_type": "stream",
     "text": [
      "[2025-06-29 16:39:29,321 INFO MPI#0000] generating and saving cmb simulations\n",
      "[2025-06-29 16:39:29,332 INFO MPI#0000] Sigma is 0.000000 arcmin (0.000000 rad) \n",
      "[2025-06-29 16:39:29,332 INFO MPI#0000] -> fwhm is 0.000000 arcmin\n",
      "[2025-06-29 16:39:29,355 INFO MPI#0000] Sigma is 10.064463 arcmin (0.002928 rad) \n",
      "[2025-06-29 16:39:29,355 INFO MPI#0000] -> fwhm is 23.700000 arcmin\n",
      "[2025-06-29 16:39:29,356 INFO MPI#0000] Sigma is 0.000000 arcmin (0.000000 rad) \n",
      "[2025-06-29 16:39:29,356 INFO MPI#0000] -> fwhm is 0.000000 arcmin\n",
      "[2025-06-29 16:39:29,358 WARNING MPI#0000] seed_cmb is None. This could lead to unexpected behavior in MPI jobs.\n",
      "[2025-06-29 16:39:29,358 INFO MPI#0000] generating and saving fg simulations\n",
      "[2025-06-29 16:39:29,359 INFO MPI#0000] Retrieve data for pysm_2/synch_t_new.fits (if not cached already)\n",
      "[2025-06-29 16:39:29,374 INFO MPI#0000] NSIDE = 512\n",
      "[2025-06-29 16:39:29,375 INFO MPI#0000] ORDERING = RING in fits file\n",
      "[2025-06-29 16:39:29,375 INFO MPI#0000] INDXSCHM = IMPLICIT\n",
      "[2025-06-29 16:39:29,418 INFO MPI#0000] Retrieve data for pysm_2/synch_q_new.fits (if not cached already)\n",
      "[2025-06-29 16:39:29,420 INFO MPI#0000] NSIDE = 512\n",
      "[2025-06-29 16:39:29,420 INFO MPI#0000] ORDERING = RING in fits file\n",
      "[2025-06-29 16:39:29,421 INFO MPI#0000] INDXSCHM = IMPLICIT\n",
      "[2025-06-29 16:39:29,465 INFO MPI#0000] Retrieve data for pysm_2/synch_u_new.fits (if not cached already)\n",
      "[2025-06-29 16:39:29,467 INFO MPI#0000] NSIDE = 512\n",
      "[2025-06-29 16:39:29,467 INFO MPI#0000] ORDERING = RING in fits file\n",
      "[2025-06-29 16:39:29,467 INFO MPI#0000] INDXSCHM = IMPLICIT\n",
      "[2025-06-29 16:39:30,081 INFO MPI#0000] Sigma is 10.064463 arcmin (0.002928 rad) \n",
      "[2025-06-29 16:39:30,081 INFO MPI#0000] -> fwhm is 23.700000 arcmin\n",
      "[2025-06-29 16:39:30,082 INFO MPI#0000] Sigma is 0.000000 arcmin (0.000000 rad) \n",
      "[2025-06-29 16:39:30,082 INFO MPI#0000] -> fwhm is 0.000000 arcmin\n",
      "[2025-06-29 16:39:30,085 INFO MPI#0000] Retrieve data for pysm_2/ff_t_new.fits (if not cached already)\n",
      "[2025-06-29 16:39:30,087 INFO MPI#0000] NSIDE = 512\n",
      "[2025-06-29 16:39:30,087 INFO MPI#0000] ORDERING = RING in fits file\n",
      "[2025-06-29 16:39:30,087 INFO MPI#0000] INDXSCHM = IMPLICIT\n",
      "[2025-06-29 16:39:30,322 INFO MPI#0000] Sigma is 10.064463 arcmin (0.002928 rad) \n",
      "[2025-06-29 16:39:30,323 INFO MPI#0000] -> fwhm is 23.700000 arcmin\n",
      "[2025-06-29 16:39:30,324 INFO MPI#0000] Sigma is 0.000000 arcmin (0.000000 rad) \n",
      "[2025-06-29 16:39:30,324 INFO MPI#0000] -> fwhm is 0.000000 arcmin\n",
      "[2025-06-29 16:39:30,327 INFO MPI#0000] Retrieve data for pysm_2/dust_t_new.fits (if not cached already)\n",
      "[2025-06-29 16:39:30,328 INFO MPI#0000] NSIDE = 512\n",
      "[2025-06-29 16:39:30,329 INFO MPI#0000] ORDERING = RING in fits file\n",
      "[2025-06-29 16:39:30,329 INFO MPI#0000] INDXSCHM = IMPLICIT\n",
      "[2025-06-29 16:39:30,372 INFO MPI#0000] Retrieve data for pysm_2/dust_q_new.fits (if not cached already)\n",
      "[2025-06-29 16:39:30,374 INFO MPI#0000] NSIDE = 512\n",
      "[2025-06-29 16:39:30,374 INFO MPI#0000] ORDERING = RING in fits file\n",
      "[2025-06-29 16:39:30,375 INFO MPI#0000] INDXSCHM = IMPLICIT\n",
      "[2025-06-29 16:39:30,418 INFO MPI#0000] Retrieve data for pysm_2/dust_u_new.fits (if not cached already)\n",
      "[2025-06-29 16:39:30,419 INFO MPI#0000] NSIDE = 512\n",
      "[2025-06-29 16:39:30,419 INFO MPI#0000] ORDERING = RING in fits file\n",
      "[2025-06-29 16:39:30,419 INFO MPI#0000] INDXSCHM = IMPLICIT\n",
      "[2025-06-29 16:39:31,048 INFO MPI#0000] Sigma is 10.064463 arcmin (0.002928 rad) \n",
      "[2025-06-29 16:39:31,048 INFO MPI#0000] -> fwhm is 23.700000 arcmin\n",
      "[2025-06-29 16:39:31,049 INFO MPI#0000] Sigma is 0.000000 arcmin (0.000000 rad) \n",
      "[2025-06-29 16:39:31,049 INFO MPI#0000] -> fwhm is 0.000000 arcmin\n"
     ]
    }
   ],
   "source": [
    "# let's make an input CMB map\n",
    "\n",
    "# this sets the parameters for the generation of the map\n",
    "mbs_params = lbs.MbsParameters(\n",
    "    make_cmb=True,\n",
    "    make_fg=False,\n",
    "    seed_cmb=1,  # set this seed if you want to fix the CMB realization\n",
    "    gaussian_smooth=True,  # if True, smooths the input map by the beam of the channel\n",
    "    bandpass_int=False,  # if True, integrates over the top-hat bandpass of the channel\n",
    "    nside=nside,\n",
    "    units=\"K_CMB\",\n",
    "    maps_in_ecliptic=False,\n",
    ")\n",
    "\n",
    "cmb_sky = sim.get_sky(parameters=mbs_params, channels=ch_info)\n",
    "\n",
    "# and a FG map\n",
    "mbs_params = lbs.MbsParameters(\n",
    "    make_cmb=False,\n",
    "    make_fg=True,\n",
    "    fg_models=[\n",
    "        \"pysm_synch_0\",\n",
    "        \"pysm_freefree_1\",\n",
    "        \"pysm_dust_0\",\n",
    "    ],  # set the FG models you want\n",
    "    gaussian_smooth=True,  # if True, smooths the input map by the beam of the channel\n",
    "    bandpass_int=False,  # if True, integrates over the top-hat bandpass of the channel\n",
    "    nside=nside,\n",
    "    units=\"K_CMB\",\n",
    "    maps_in_ecliptic=False,\n",
    ")\n",
    "\n",
    "fg_sky = sim.get_sky(parameters=mbs_params, channels=ch_info)"
   ]
  },
  {
   "cell_type": "markdown",
   "id": "c1484561",
   "metadata": {},
   "source": [
    "## Fill TODs"
   ]
  },
  {
   "cell_type": "markdown",
   "id": "2306300a",
   "metadata": {},
   "source": [
    "Now we can fill the TODs with the appropriate sky signal. This is done using the `Simulation.fill_tods` method, which internally selects one of three different algebraic models depending on the HWP configuration.\n",
    "\n",
    "Three available TOD signal models:\n",
    "1. No HWP:\n",
    "\n",
    "   $$ d_t = T + \\gamma \\left(Q\\cos(2\\theta + 2\\psi_t)+U\\sin(2\\theta + 2\\psi_t)\\right), $$\n",
    "\n",
    "where $\\theta$ is the polarization angle of the detecotor, $\\psi_t$\n",
    "is the orientation of the telescope at the time $t$, and $\\gamma$\n",
    "is the polarization efficiency.\n",
    "\n",
    "2. Ideal HWP:\n",
    "\n",
    "   $$ d_t = T + \\gamma \\left(Q\\cos(4\\alpha_t - 2\\theta + 2\\psi_t)+U\\sin(4\\alpha_t - 2\\theta + 2\\psi_t)\\right), $$\n",
    "\n",
    "where $\\alpha_t$ is the HWP angle at the time $t$.\n",
    "\n",
    "3. Generic HWP:\n",
    "\n",
    "   $$ d_t = (1,0,0,0) \\times M_{\\rm pol} \\times R(\\theta) \\times R^T(\\alpha_t) \\times M_{\\rm HWP} \\times R(\\alpha_t) \\times R(\\psi_t) \\times \\vec{S}, $$\n",
    "\n",
    "where\n",
    "   - $M_{\\rm pol}$ is mueller matrix of the polarimeter;\n",
    "   - $M_{\\rm HWP}$ is mueller matrix of the HWP;\n",
    "   - $R$ is a rotation matrix;\n",
    "   - $\\vec{S}$ is the Stokes vector.\n",
    "   \n",
    "   \n",
    "The `fill_tods` method selects the correct equation automatically, based on how the simulation has been configured:\n",
    "The proper algebra is used based on the settings of the simulation:\n",
    "\n",
    "- Equation 1 is used if no HWP is defined.\n",
    "\n",
    "- Equation 2 is used if an ideal HWP is set.\n",
    "\n",
    "- Equation 3 is used if a Mueller matrix is provided, either per channel or per detector.\n",
    "\n",
    "The signature of `Simulation.fill_tods` is quite simple"
   ]
  },
  {
   "cell_type": "code",
   "execution_count": 16,
   "id": "5c934aab",
   "metadata": {},
   "outputs": [
    {
     "name": "stdout",
     "output_type": "stream",
     "text": [
      "maps: Union[numpy.ndarray, Dict[str, numpy.ndarray], NoneType] = None\n",
      "input_map_in_galactic: bool = True\n",
      "component: str = 'tod'\n",
      "interpolation: Optional[str] = ''\n",
      "pointings_dtype=<class 'numpy.float64'>\n",
      "append_to_report: bool = True\n"
     ]
    }
   ],
   "source": [
    "sig = inspect.signature(sim.fill_tods)\n",
    "for param in sig.parameters.values():\n",
    "    print(param)"
   ]
  },
  {
   "cell_type": "markdown",
   "id": "527ccb34",
   "metadata": {},
   "source": [
    "Parameters: \n",
    "- `input_map_in_galactic` allows to specify the coordinates of the input maps. Default: Galactic\n",
    "\n",
    "- `component` allows to specify to which TOD you want sum the scanned map. Default: tod\n",
    "\n",
    "- `interpolation` handles the interpolation for sub-pixel effect\n",
    "\n",
    "- `pointings_dtype` allows to specify the type of the pointing generated on the fly. Default: float64"
   ]
  },
  {
   "cell_type": "markdown",
   "id": "44cbfc6d",
   "metadata": {},
   "source": [
    "`Simulation.fill_tods()` is a wrapper around a lower level function called `litebird_sim.scan_map_in_observations`.\n",
    "\n",
    "Their signature is very similar, `scan_map_in_observations` allows for a more refined handling of the inputs. \n",
    "You can pass it any sub-set of the observations, a different pointings object or a different HWP object "
   ]
  },
  {
   "cell_type": "code",
   "execution_count": 17,
   "id": "a6aa670a",
   "metadata": {},
   "outputs": [
    {
     "name": "stdout",
     "output_type": "stream",
     "text": [
      "observations: Union[litebird_sim.observations.Observation, List[litebird_sim.observations.Observation]]\n",
      "maps: Union[numpy.ndarray, Dict[str, numpy.ndarray]]\n",
      "pointings: Union[numpy.ndarray, List[numpy.ndarray], NoneType] = None\n",
      "hwp: Optional[litebird_sim.hwp.HWP] = None\n",
      "input_map_in_galactic: bool = True\n",
      "component: str = 'tod'\n",
      "interpolation: Optional[str] = ''\n",
      "pointings_dtype=<class 'numpy.float64'>\n"
     ]
    }
   ],
   "source": [
    "sig = inspect.signature(lbs.scan_map_in_observations)\n",
    "for param in sig.parameters.values():\n",
    "    print(param)"
   ]
  },
  {
   "cell_type": "markdown",
   "id": "52936cba",
   "metadata": {},
   "source": [
    "The method `scan_map_in_observations` is built on top of a lower-level function called `scan_map`, which operates directly on individual TODs and offers maximum flexibility."
   ]
  },
  {
   "cell_type": "code",
   "execution_count": 18,
   "id": "9f8e7590",
   "metadata": {},
   "outputs": [
    {
     "name": "stdout",
     "output_type": "stream",
     "text": [
      "tod\n",
      "pointings\n",
      "maps: Dict[str, numpy.ndarray]\n",
      "pol_angle_detectors: Optional[numpy.ndarray] = None\n",
      "pol_eff_detectors: Optional[numpy.ndarray] = None\n",
      "hwp_angle: Optional[numpy.ndarray] = None\n",
      "mueller_hwp: Optional[numpy.ndarray] = None\n",
      "input_names: Optional[str] = None\n",
      "input_map_in_galactic: bool = True\n",
      "interpolation: Optional[str] = ''\n",
      "pointings_dtype=<class 'numpy.float64'>\n"
     ]
    }
   ],
   "source": [
    "sig = inspect.signature(lbs.scan_map)\n",
    "for param in sig.parameters.values():\n",
    "    print(param)"
   ]
  },
  {
   "cell_type": "markdown",
   "id": "a1c15be9",
   "metadata": {},
   "source": [
    "Let's see how to use them"
   ]
  },
  {
   "cell_type": "markdown",
   "id": "64c1b1f0",
   "metadata": {},
   "source": [
    "### No HWP"
   ]
  },
  {
   "cell_type": "markdown",
   "id": "823c6942",
   "metadata": {},
   "source": [
    "In the simplest case no HWP is initialized in the simulation. The algebra implemented is:\n",
    "\n",
    "$ d_t = T + \\gamma \\left(Q\\cos(2\\theta + 2\\psi_t)+U\\sin(2\\theta + 2\\psi_t)\\right)$\n",
    "\n",
    "$\\psi_t$ is the pointing information and the polarization angle $\\theta$ are taken from the detector information stored in the observation"
   ]
  },
  {
   "cell_type": "code",
   "execution_count": 19,
   "id": "744d95e8",
   "metadata": {},
   "outputs": [
    {
     "name": "stdout",
     "output_type": "stream",
     "text": [
      "(2,)\n",
      "(2, 31104000, 3)\n"
     ]
    }
   ],
   "source": [
    "# polarization angle\n",
    "print(obs.pol_angle_rad.shape)\n",
    "# pointing\n",
    "print(obs.pointing_matrix.shape)"
   ]
  },
  {
   "cell_type": "code",
   "execution_count": 20,
   "id": "6d0c1096",
   "metadata": {},
   "outputs": [
    {
     "name": "stdout",
     "output_type": "stream",
     "text": [
      "[[ 3.67252349e-05  3.67308597e-05  3.67364767e-05 ... -8.05874231e-05\n",
      "  -8.05887815e-05 -8.05901379e-05]\n",
      " [ 3.63911619e-05  3.63854691e-05  3.63797818e-05 ... -8.01581525e-05\n",
      "  -8.01567060e-05 -8.01552608e-05]]\n",
      "[[0. 0. 0. ... 0. 0. 0.]\n",
      " [0. 0. 0. ... 0. 0. 0.]]\n"
     ]
    }
   ],
   "source": [
    "# Let's use cmb_sky for the TOD cmb_signal\n",
    "sim.fill_tods(cmb_sky, component=\"cmb_signal\")\n",
    "\n",
    "print(obs.cmb_signal)\n",
    "print(obs.fg_signal)"
   ]
  },
  {
   "cell_type": "code",
   "execution_count": 21,
   "id": "f7e4f3fd",
   "metadata": {},
   "outputs": [
    {
     "name": "stdout",
     "output_type": "stream",
     "text": [
      "[[ 3.67252349e-05  3.67308597e-05  3.67364767e-05 ... -8.05874231e-05\n",
      "  -8.05887815e-05 -8.05901379e-05]\n",
      " [ 3.63911619e-05  3.63854691e-05  3.63797818e-05 ... -8.01581525e-05\n",
      "  -8.01567060e-05 -8.01552608e-05]]\n",
      "[[7.00081353e-05 7.00209087e-05 7.00336220e-05 ... 9.20991999e-04\n",
      "  9.20971754e-04 9.20951484e-04]\n",
      " [6.29411783e-05 6.29269867e-05 6.29128508e-05 ... 9.19848643e-04\n",
      "  9.19868658e-04 9.19888706e-04]]\n"
     ]
    }
   ],
   "source": [
    "# and the foreground for fg_signal\n",
    "sim.fill_tods(fg_sky, component=\"fg_signal\")\n",
    "\n",
    "print(obs.cmb_signal)\n",
    "print(obs.fg_signal)"
   ]
  },
  {
   "cell_type": "markdown",
   "id": "e16549b3",
   "metadata": {},
   "source": [
    "### Ideal HWP"
   ]
  },
  {
   "cell_type": "markdown",
   "id": "d1d276eb",
   "metadata": {},
   "source": [
    "When an ideal HWP (Half-Wave Plate) is initialized in the simulation, the following algebra is used to compute the TOD:\n",
    "\n",
    "$ d_t = T + \\gamma \\left(Q\\cos(4\\alpha_t - 2\\theta + 2\\psi_t)+U\\sin(4\\alpha_t - 2\\theta + 2\\psi_t)\\right) $\n",
    "\n",
    "$\\psi_t$ and $\\alpha_t$ are respectively the pointing information and the HWP angle, again the polarization angle $\\theta$ per detector is taken from observation\n",
    "\n",
    "Now let’s initialize the HWP and set up the observation again."
   ]
  },
  {
   "cell_type": "code",
   "execution_count": 22,
   "id": "5a525346",
   "metadata": {},
   "outputs": [
    {
     "name": "stderr",
     "output_type": "stream",
     "text": [
      "[2025-06-29 16:39:41,361 WARNING MPI#0000] Detector layer is already initialized. Reinitializing the entire RNG hierarchy.\n"
     ]
    }
   ],
   "source": [
    "(obs,) = sim.create_observations(\n",
    "    detectors=dets,\n",
    "    n_blocks_det=1,\n",
    "    n_blocks_time=1,\n",
    ")\n",
    "\n",
    "sim.set_hwp(\n",
    "    lbs.IdealHWP(\n",
    "        sim.instrument.hwp_rpm * 2 * np.pi / 60,\n",
    "    ),  # sets the hwp\n",
    ")\n",
    "sim.prepare_pointings()\n",
    "sim.precompute_pointings()"
   ]
  },
  {
   "cell_type": "code",
   "execution_count": 23,
   "id": "806c8959",
   "metadata": {},
   "outputs": [
    {
     "data": {
      "text/plain": [
       "array([array([[ 1.,  0.,  0.,  0.],\n",
       "              [ 0.,  1.,  0.,  0.],\n",
       "              [ 0.,  0., -1.,  0.],\n",
       "              [ 0.,  0.,  0., -1.]]), array([[ 1.,  0.,  0.,  0.],\n",
       "                                             [ 0.,  1.,  0.,  0.],\n",
       "                                             [ 0.,  0., -1.,  0.],\n",
       "                                             [ 0.,  0.,  0., -1.]])],\n",
       "      dtype=object)"
      ]
     },
     "execution_count": 23,
     "metadata": {},
     "output_type": "execute_result"
    }
   ],
   "source": [
    "obs.mueller_hwp\n",
    "# sim.nullify_tod?"
   ]
  },
  {
   "cell_type": "code",
   "execution_count": 24,
   "id": "064e9dda",
   "metadata": {},
   "outputs": [],
   "source": [
    "sim.fill_tods(cmb_sky)"
   ]
  },
  {
   "cell_type": "markdown",
   "id": "ebadb35e",
   "metadata": {},
   "source": [
    "### Non-ideal HWP"
   ]
  },
  {
   "cell_type": "markdown",
   "id": "977a32a3",
   "metadata": {},
   "source": [
    "When an non-ideal HWP is initialized in the simulation, the following algebra is used to compute the TOD:\n",
    "\n",
    "$ d_t = (1,0,0,0) \\times M_{\\rm pol} \\times R(\\theta) \\times R^T(\\alpha_t) \\times M_{\\rm HWP} \\times R(\\alpha_t) \\times R(\\psi_t) \\times \\vec{S}, $\n",
    "\n",
    "where\n",
    "   - $M_{\\rm pol}$ is mueller matrix of the polarimeter;\n",
    "   - $M_{\\rm HWP}$ is mueller matrix of the HWP;\n",
    "   - $R$ is a rotation matrix;\n",
    "   - $\\vec{S}$ is the Stokes vector.\n",
    "   \n",
    "Now let’s initialize the HWP and set up the observation again.\n",
    "Here in the initialization we specify a different mueller hwp per detector"
   ]
  },
  {
   "cell_type": "code",
   "execution_count": 25,
   "id": "b073aafe",
   "metadata": {},
   "outputs": [
    {
     "name": "stderr",
     "output_type": "stream",
     "text": [
      "[2025-06-29 16:39:50,692 WARNING MPI#0000] Detector layer is already initialized. Reinitializing the entire RNG hierarchy.\n"
     ]
    }
   ],
   "source": [
    "dets = []\n",
    "for n_det in detlist:\n",
    "    det = lbs.DetectorInfo.from_imo(\n",
    "        url=f\"/releases/{imo_version}/satellite/{telescope}/{channel}/{n_det}/detector_info\",\n",
    "        imo=imo,\n",
    "    )\n",
    "\n",
    "    det.sampling_rate_hz = 2\n",
    "    det.mueller_hwp = np.random.normal(0, 1, (4, 4))\n",
    "\n",
    "    dets.append(det)\n",
    "\n",
    "(obs,) = sim.create_observations(\n",
    "    detectors=dets,\n",
    "    n_blocks_det=1,\n",
    "    n_blocks_time=1,\n",
    ")\n",
    "\n",
    "sim.set_hwp(\n",
    "    lbs.IdealHWP(\n",
    "        sim.instrument.hwp_rpm * 2 * np.pi / 60,\n",
    "    ),  # sets the hwp\n",
    ")\n",
    "sim.prepare_pointings()\n",
    "sim.precompute_pointings()"
   ]
  },
  {
   "cell_type": "code",
   "execution_count": 26,
   "id": "afcee6b0",
   "metadata": {},
   "outputs": [],
   "source": [
    "sim.fill_tods(cmb_sky)"
   ]
  },
  {
   "cell_type": "markdown",
   "id": "27c625ea",
   "metadata": {},
   "source": [
    "### Interpolation"
   ]
  },
  {
   "cell_type": "markdown",
   "id": "d9e4a123",
   "metadata": {},
   "source": [
    "The interpolation parameter allows to use the bi-linear interpolation value of map(s) using 4 nearest neighbours.\n",
    "This is activated passing interpolation = \"linear\" to either `sim.fill_tods`, `lbs.scan_map_in_observations` or `lbs.scan_map`"
   ]
  },
  {
   "cell_type": "code",
   "execution_count": 27,
   "id": "d310c95f",
   "metadata": {},
   "outputs": [
    {
     "name": "stderr",
     "output_type": "stream",
     "text": [
      "[2025-06-29 16:40:20,119 WARNING MPI#0000] Detector layer is already initialized. Reinitializing the entire RNG hierarchy.\n"
     ]
    }
   ],
   "source": [
    "dets = []\n",
    "for n_det in detlist:\n",
    "    det = lbs.DetectorInfo.from_imo(\n",
    "        url=f\"/releases/{imo_version}/satellite/{telescope}/{channel}/{n_det}/detector_info\",\n",
    "        imo=imo,\n",
    "    )\n",
    "    det.sampling_rate_hz = 2\n",
    "    dets.append(det)\n",
    "\n",
    "(obs,) = sim.create_observations(\n",
    "    detectors=dets,\n",
    "    n_blocks_det=1,\n",
    "    n_blocks_time=1,\n",
    "    tods=[\n",
    "        lbs.TodDescription(\n",
    "            name=\"tod\",\n",
    "            description=\"CMB\",\n",
    "            dtype=np.float64,\n",
    "        ),\n",
    "        lbs.TodDescription(\n",
    "            name=\"tod_interpolated\",\n",
    "            description=\"CMB iterpolated\",\n",
    "            dtype=np.float64,\n",
    "        ),\n",
    "    ],\n",
    ")\n",
    "\n",
    "sim.set_hwp(\n",
    "    lbs.IdealHWP(\n",
    "        sim.instrument.hwp_rpm * 2 * np.pi / 60,\n",
    "    ),  # sets the hwp\n",
    ")\n",
    "sim.prepare_pointings()\n",
    "sim.precompute_pointings()"
   ]
  },
  {
   "cell_type": "code",
   "execution_count": 28,
   "id": "a9e65fc2",
   "metadata": {},
   "outputs": [],
   "source": [
    "sim.fill_tods(cmb_sky, interpolation=\"\", component=\"tod\")\n",
    "\n",
    "sim.fill_tods(cmb_sky, interpolation=\"linear\", component=\"tod_interpolated\")"
   ]
  },
  {
   "cell_type": "code",
   "execution_count": 29,
   "id": "4c95e6f7",
   "metadata": {},
   "outputs": [
    {
     "data": {
      "text/plain": [
       "[<matplotlib.lines.Line2D at 0x38af3c750>]"
      ]
     },
     "execution_count": 29,
     "metadata": {},
     "output_type": "execute_result"
    },
    {
     "data": {
      "image/png": "[encoded data removed]",
      "text/plain": [
       "<Figure size 640x480 with 1 Axes>"
      ]
     },
     "metadata": {},
     "output_type": "display_data"
    }
   ],
   "source": [
    "plt.plot(obs.tod[0,0:100])\n",
    "plt.plot(obs.tod_interpolated[0,0:100])"
   ]
  }
 ],
 "metadata": {
  "kernelspec": {
   "display_name": "litebird_sim",
   "language": "python",
   "name": "python3"
  },
  "language_info": {
   "codemirror_mode": {
    "name": "ipython",
    "version": 3
   },
   "file_extension": ".py",
   "mimetype": "text/x-python",
   "name": "python",
   "nbconvert_exporter": "python",
   "pygments_lexer": "ipython3",
   "version": "3.11.12"
  }
 },
 "nbformat": 4,
 "nbformat_minor": 5
}
