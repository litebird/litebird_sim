{
 "cells": [
  {
   "cell_type": "markdown",
   "id": "69ec0e6d",
   "metadata": {},
   "source": [
    "# How to generate a simulated timeline and produce a map with `litebird_sim`"
   ]
  },
  {
   "cell_type": "markdown",
   "id": "2a18aafd",
   "metadata": {},
   "source": [
    "To run this notebook, you should create and activate a new virtual environment with the commands\n",
    "\n",
    "```\n",
    "python -m venv ./my_venv\n",
    "source ./my_venv/bin/activate\n",
    "```\n",
    "\n",
    "(you can use Conda environments, if you prefer) and install Jupyter and litebird_sim in it:\n",
    "\n",
    "```\n",
    "pip install jupyter litebird_sim\n",
    "```\n",
    "\n",
    "If you have a local copy of the `litebird_sim` repository cloned from <https://github.com/litebird/litebird_sim> (e.g., because you're part of the Simulation Team!), you can use a *development install* instead:\n",
    "\n",
    "```\n",
    "cd /my/local/copy/litebird_sim\n",
    "pip install .\n",
    "```"
   ]
  },
  {
   "cell_type": "markdown",
   "id": "7f079e74",
   "metadata": {},
   "source": [
    "## Set up the environment"
   ]
  },
  {
   "cell_type": "code",
   "execution_count": 1,
   "id": "698d41ef-809e-4c9d-9aa5-2cff3856b351",
   "metadata": {},
   "outputs": [],
   "source": [
    "# Using this file, we can use \"import litebird_sim\" even if it is not installed system-wide"
   ]
  },
  {
   "cell_type": "markdown",
   "id": "9b1bc592",
   "metadata": {},
   "source": [
    "We start by importing a few libraries that will be useful in this notebook."
   ]
  },
  {
   "cell_type": "code",
   "execution_count": 2,
   "id": "5f8f13bd",
   "metadata": {},
   "outputs": [],
   "source": [
    "import litebird_sim as lbs\n",
    "import numpy as np\n",
    "import matplotlib.pylab as plt\n",
    "import healpy as hp\n",
    "from astropy.time import Time\n",
    "\n",
    "%matplotlib inline"
   ]
  },
  {
   "cell_type": "markdown",
   "id": "1571d1c7",
   "metadata": {},
   "source": [
    "# Produce a simulated timeline\n",
    "\n",
    "\n",
    "We will simulate 4 detectors of 140 GHz MFT. Their definition will be taken from the LiteBIRD Instrument MOdel (IMO) version vPTEP (**new!**), and we will simulate 2 hours of observation. See the [documentation](https://litebird-sim.readthedocs.io/en/latest/simulations.html#simulations) for more details about the input parameters."
   ]
  },
  {
   "cell_type": "code",
   "execution_count": 3,
   "id": "07d2aab3",
   "metadata": {},
   "outputs": [],
   "source": [
    "telescope = \"MFT\"\n",
    "channel = \"M1-140\"\n",
    "detlist = [\n",
    "    \"001_004_060_30A_140_T\",\n",
    "    \"001_003_000_00A_140_B\",\n",
    "    \"001_003_001_00B_140_T\",\n",
    "    \"001_003_002_45A_140_B\",\n",
    "]\n",
    "\n",
    "start_time = Time(\"2025-01-01T00:00:00\")\n",
    "mission_time_hours = 1\n",
    "\n",
    "imo_version = \"vPTEP\"\n",
    "\n",
    "# Resolution of the input maps\n",
    "nside = 256"
   ]
  },
  {
   "cell_type": "markdown",
   "id": "9139c42d",
   "metadata": {},
   "source": [
    "To use the IMO bundled in `litebird_sim`, one needs to do the following:"
   ]
  },
  {
   "cell_type": "code",
   "execution_count": 4,
   "id": "a9df35df",
   "metadata": {},
   "outputs": [],
   "source": [
    "# This is the folder where the final report with the results of the simulation will be saved\n",
    "base_path = \".test\"\n",
    "\n",
    "imo = lbs.Imo(flatfile_location=lbs.PTEP_IMO_LOCATION)\n",
    "\n",
    "# initializing the simulation\n",
    "sim = lbs.Simulation(\n",
    "    base_path=base_path,\n",
    "    imo=imo,\n",
    "    # mpi_comm=comm,  <--- needed if parallelizing\n",
    "    start_time=start_time,\n",
    "    duration_s=mission_time_hours * 3600.0,\n",
    "    random_seed=12345,  # seed for the random number generator (MANDATORY parameter!!!)\n",
    ")"
   ]
  },
  {
   "cell_type": "markdown",
   "id": "94f6338e",
   "metadata": {},
   "source": [
    "Otherwise, if you want to install the IMO, follow the instructions [in the IMO documentation](https://litebird-sim.readthedocs.io/en/master/imo.html#configuring-the-imo). You can install the IMO with the command `python -m litebird_sim.install_imo` with the [schema.json](https://github.com/litebird/litebird_sim/tree/master/default_imo) in `litebird_sim` or with any other local copy. In this case, use the following:"
   ]
  },
  {
   "cell_type": "code",
   "execution_count": 5,
   "id": "ea6efe2c",
   "metadata": {},
   "outputs": [],
   "source": [
    "# This is the folder where the final report with the results of the simulation will be saved\n",
    "base_path = \".test\"\n",
    "\n",
    "# This loads the full IMO (not only the version specified by `imo_version`!)\n",
    "imo = lbs.Imo()\n",
    "\n",
    "# initializing the simulation\n",
    "sim = lbs.Simulation(\n",
    "    base_path=base_path,\n",
    "    start_time=start_time,\n",
    "    duration_s=mission_time_hours * 3600.0,\n",
    "    random_seed=12345,\n",
    ")"
   ]
  },
  {
   "cell_type": "markdown",
   "id": "3bdb6a86",
   "metadata": {},
   "source": [
    "The following instructions load from the IMO the information about the [instrument](https://litebird-sim.readthedocs.io/en/latest/detectors.html#detectors-channels-and-instruments) and the [detectors](https://litebird-sim.readthedocs.io/en/latest/detectors.html#detectors-channels-and-instruments) used in the simulation."
   ]
  },
  {
   "cell_type": "code",
   "execution_count": 6,
   "id": "113035aa",
   "metadata": {},
   "outputs": [
    {
     "name": "stderr",
     "output_type": "stream",
     "text": [
      "OMP: Info #276: omp_set_nested routine deprecated, please use omp_set_max_active_levels instead.\n"
     ]
    }
   ],
   "source": [
    "# Load the definition of the instrument (MFT)\n",
    "sim.set_instrument(\n",
    "    lbs.InstrumentInfo.from_imo(\n",
    "        imo,\n",
    "        f\"/releases/{imo_version}/satellite/{telescope}/instrument_info\",\n",
    "    )\n",
    ")\n",
    "\n",
    "dets = []\n",
    "for n_det in detlist:\n",
    "    det = lbs.DetectorInfo.from_imo(\n",
    "        url=f\"/releases/{imo_version}/satellite/{telescope}/{channel}/{n_det}/detector_info\",\n",
    "        imo=imo,\n",
    "    )\n",
    "    dets.append(det)"
   ]
  },
  {
   "cell_type": "markdown",
   "id": "bd29ca1a",
   "metadata": {},
   "source": [
    "Now we set the scanning strategy retriving the parameters from the IMO"
   ]
  },
  {
   "cell_type": "code",
   "execution_count": 7,
   "id": "e7506cdd",
   "metadata": {},
   "outputs": [],
   "source": [
    "# Generate the quaternions describing how the instrument moves in the Ecliptic reference frame\n",
    "sim.set_scanning_strategy(\n",
    "    imo_url=f\"/releases/{imo_version}/satellite/scanning_parameters/\"\n",
    ")"
   ]
  },
  {
   "cell_type": "markdown",
   "id": "1528a6bd",
   "metadata": {},
   "source": [
    "Let's now create a set of «[observations](https://litebird-sim.readthedocs.io/en/latest/observations.html#observations)». For the sake of simplicity, we create just *one* observation, but of course in realistic simulations you will have several observations spread among the available MPI processes."
   ]
  },
  {
   "cell_type": "code",
   "execution_count": 8,
   "id": "6c72bda1",
   "metadata": {},
   "outputs": [
    {
     "data": {
      "text/plain": [
       "[<litebird_sim.observations.Observation at 0x34268ba60>]"
      ]
     },
     "execution_count": 8,
     "metadata": {},
     "output_type": "execute_result"
    }
   ],
   "source": [
    "# creating one observation\n",
    "sim.create_observations(\n",
    "    detectors=dets,\n",
    "    n_blocks_det=1,\n",
    "    n_blocks_time=1,  # blocks different from one if parallelizing\n",
    ")"
   ]
  },
  {
   "cell_type": "markdown",
   "id": "a2c73481",
   "metadata": {},
   "source": [
    "The call above allocated the memory necessary to hold the TOD samples.\n",
    "\n",
    "TODs are not enough to produce maps, as we need *pointing information* too: this is the direction and orientation of each receiver as a function of time.\n",
    "\n",
    "Before, we set the HWP and then we compute the pointing information that is stored in the observations."
   ]
  },
  {
   "cell_type": "code",
   "execution_count": null,
   "id": "2be84c1f",
   "metadata": {},
   "outputs": [],
   "source": [
    "sim.set_hwp(\n",
    "    lbs.IdealHWP(\n",
    "        sim.instrument.hwp_rpm * 2 * np.pi / 60,\n",
    "    ),  # applies hwp rotation angle to the polarization angle\n",
    ")\n",
    "sim.prepare_pointings()"
   ]
  },
  {
   "cell_type": "markdown",
   "id": "fd84369c",
   "metadata": {},
   "source": [
    "Now we know where the detectors are looking at. Let's produce a synthetic image of the sky at the frequencies sampled by the two detectors we're simulating; for this, we need the information about the [frequency channel](https://litebird-sim.readthedocs.io/en/latest/detectors.html#detectors-channels-and-instruments) we are simulating (140 GHz), so we retrieve them from the IMO again:"
   ]
  },
  {
   "cell_type": "code",
   "execution_count": null,
   "id": "7c7b4b7a",
   "metadata": {},
   "outputs": [],
   "source": [
    "# loading channel info\n",
    "ch_info = []\n",
    "ch_info.append(\n",
    "    lbs.FreqChannelInfo.from_imo(\n",
    "        url=f\"/releases/{imo_version}/satellite/{telescope}/{channel}/channel_info\",\n",
    "        imo=imo,\n",
    "    )\n",
    ")"
   ]
  },
  {
   "cell_type": "markdown",
   "id": "470cb530",
   "metadata": {},
   "source": [
    "The LiteBIRD Simulation Framework provides [MBS](https://litebird-sim.readthedocs.io/en/latest/sky_maps.html#synthetic-sky-maps), which is a wrapper to PySM; we use it to produce a map of the sky including synchrotron, free-free, and dust, and we smooth the map according to the FWHM specified in the IMO. (Note that we do not need to pass this information explicitly, as MBS is able to extract it from `ch_info`.)"
   ]
  },
  {
   "cell_type": "code",
   "execution_count": null,
   "id": "fd61c3ee",
   "metadata": {},
   "outputs": [],
   "source": [
    "# let's make an input CMB+foreground map\n",
    "\n",
    "# this sets the parameters for the generation of the map\n",
    "Mbsparams = lbs.MbsParameters(\n",
    "    make_cmb=True,\n",
    "    make_fg=True,\n",
    "    fg_models=[\n",
    "        \"pysm_synch_0\",\n",
    "        \"pysm_freefree_1\",\n",
    "        \"pysm_dust_0\",\n",
    "    ],  # set the FG models you want\n",
    "    nside=nside,\n",
    "    units=\"K_CMB\",\n",
    ")\n",
    "\n",
    "mbs = lbs.Mbs(simulation=sim, parameters=Mbsparams, channel_list=ch_info)\n",
    "maps = mbs.run_all()[0]  # generates the map as a dictionary"
   ]
  },
  {
   "cell_type": "markdown",
   "id": "f92b4493",
   "metadata": {},
   "source": [
    "It's time to fill tods of the observations, with the `signal` we want, in this case CMB and Foreground just generated, dipole (orbital and solar) and noise."
   ]
  },
  {
   "cell_type": "code",
   "execution_count": null,
   "id": "25cf6699",
   "metadata": {},
   "outputs": [],
   "source": [
    "sim.fill_tods(maps)\n",
    "sim.add_dipole()\n",
    "sim.add_noise(random=sim.random)"
   ]
  },
  {
   "cell_type": "code",
   "execution_count": null,
   "id": "108da2e3",
   "metadata": {},
   "outputs": [],
   "source": [
    "times_min = (\n",
    "    sim.observations[0].get_times() - sim.observations[0].start_time.cxcsec\n",
    ") / 60.0\n",
    "plt.figure(figsize=(14, 8))\n",
    "plt.plot(times_min, sim.observations[0].tod[0])\n",
    "plt.plot(times_min, sim.observations[0].tod[1])\n",
    "plt.plot(times_min, sim.observations[0].tod[2])\n",
    "plt.plot(times_min, sim.observations[0].tod[3])\n",
    "\n",
    "plt.xlabel(\"Time [min]\")\n",
    "plt.ylabel(\"Signal [K]\")"
   ]
  },
  {
   "cell_type": "markdown",
   "id": "cfbe7656",
   "metadata": {},
   "source": [
    "# Produce a simulated map\n",
    "\n",
    "In this part, instead, we will simulate 2 detectors of 140 GHz MFT. Their definition will be taken from the LiteBIRD Instrument MOdel (IMO) version 1.3 (**new!**), and we will simulate 1 year of observation at a lower sampling rate for reduce the memory requrements."
   ]
  },
  {
   "cell_type": "code",
   "execution_count": null,
   "id": "99a92502",
   "metadata": {},
   "outputs": [],
   "source": [
    "telescope = \"MFT\"\n",
    "channel = \"M1-140\"\n",
    "detlist = [\n",
    "    \"001_004_060_30A_140_T\",\n",
    "    \"001_003_000_00A_140_B\",\n",
    "]\n",
    "\n",
    "start_time = 0\n",
    "mission_time_days = 365\n",
    "\n",
    "imo_version = \"vPTEP\"\n",
    "\n",
    "# Resolution of the input maps\n",
    "nside = 256"
   ]
  },
  {
   "cell_type": "code",
   "execution_count": null,
   "id": "30d10ec6",
   "metadata": {},
   "outputs": [],
   "source": [
    "# This is the folder where the final report with the results of the simulation will be saved\n",
    "base_path = \".test\"\n",
    "\n",
    "# This loads the full IMO (not only the version specified by `imo_version`!)\n",
    "imo = lbs.Imo()\n",
    "\n",
    "# initializing the simulation\n",
    "sim = lbs.Simulation(\n",
    "    base_path=base_path,\n",
    "    start_time=start_time,\n",
    "    duration_s=mission_time_days * 24 * 3600.0,\n",
    "    random_seed=12345,\n",
    ")"
   ]
  },
  {
   "cell_type": "code",
   "execution_count": null,
   "id": "4323e375",
   "metadata": {},
   "outputs": [],
   "source": [
    "# Load the definition of the instrument (MFT)\n",
    "sim.set_instrument(\n",
    "    lbs.InstrumentInfo.from_imo(\n",
    "        imo,\n",
    "        f\"/releases/{imo_version}/satellite/{telescope}/instrument_info\",\n",
    "    )\n",
    ")\n",
    "\n",
    "dets = []\n",
    "for n_det in detlist:\n",
    "    det = lbs.DetectorInfo.from_imo(\n",
    "        url=f\"/releases/{imo_version}/satellite/{telescope}/{channel}/{n_det}/detector_info\",\n",
    "        imo=imo,\n",
    "    )\n",
    "    det.sampling_rate_hz = 1.0  # we reduce the sampling to reduce computation time\n",
    "    dets.append(det)"
   ]
  },
  {
   "cell_type": "code",
   "execution_count": null,
   "id": "00d6804f",
   "metadata": {},
   "outputs": [],
   "source": [
    "# let's make an input CMB+foreground map\n",
    "# this sets the parameters for the generation of the map\n",
    "Mbsparams = lbs.MbsParameters(\n",
    "    make_cmb=True,\n",
    "    make_fg=True,\n",
    "    fg_models=[\n",
    "        \"pysm_synch_0\",\n",
    "        \"pysm_freefree_1\",\n",
    "        \"pysm_dust_0\",\n",
    "    ],  # set the FG models you want\n",
    "    nside=nside,\n",
    ")\n",
    "\n",
    "mbs = lbs.Mbs(simulation=sim, parameters=Mbsparams, detector_list=dets)\n",
    "maps = mbs.run_all()[0]  # generates the map as a dictionary"
   ]
  },
  {
   "cell_type": "code",
   "execution_count": null,
   "id": "ccf1f953",
   "metadata": {},
   "outputs": [],
   "source": [
    "sim.set_scanning_strategy(\n",
    "    imo_url=f\"/releases/{imo_version}/satellite/scanning_parameters/\"\n",
    ")\n",
    "\n",
    "sim.create_observations(\n",
    "    detectors=dets,\n",
    "    n_blocks_det=1,\n",
    "    n_blocks_time=1,\n",
    ")\n",
    "\n",
    "sim.set_hwp(\n",
    "    lbs.IdealHWP(\n",
    "        sim.instrument.hwp_rpm * 2 * np.pi / 60,\n",
    "    ),  # applies hwp rotation angle to the polarization angle\n",
    ")\n",
    "sim.prepare_pointings()"
   ]
  },
  {
   "cell_type": "markdown",
   "id": "81c450f1",
   "metadata": {},
   "source": [
    "In this case we fill the tods with only CMB, Foreground and white noise."
   ]
  },
  {
   "cell_type": "code",
   "execution_count": null,
   "id": "e5e240d4",
   "metadata": {},
   "outputs": [],
   "source": [
    "sim.fill_tods(maps)\n",
    "sim.add_noise(random=sim.random, noise_type=\"white\")"
   ]
  },
  {
   "cell_type": "markdown",
   "id": "102292e7",
   "metadata": {},
   "source": [
    "Then we simply bin the observations into maps."
   ]
  },
  {
   "cell_type": "code",
   "execution_count": null,
   "id": "16ca350c",
   "metadata": {},
   "outputs": [],
   "source": [
    "binner_results = sim.make_binned_map(nside=nside)\n",
    "binned = binner_results.binned_map"
   ]
  },
  {
   "cell_type": "code",
   "execution_count": null,
   "id": "3539fd30",
   "metadata": {},
   "outputs": [],
   "source": [
    "plt.figure(figsize=(15, 8))\n",
    "hp.mollview(binned[0], sub=131, title=\"T\", unit=r\"[K]\")\n",
    "hp.mollview(binned[1], sub=132, title=\"Q\", unit=r\"[K]\")\n",
    "hp.mollview(binned[2], sub=133, title=\"U\", unit=r\"[K]\")"
   ]
  }
 ],
 "metadata": {
  "kernelspec": {
   "display_name": "Python 3 (ipykernel)",
   "language": "python",
   "name": "python3"
  },
  "language_info": {
   "codemirror_mode": {
    "name": "ipython",
    "version": 3
   },
   "file_extension": ".py",
   "mimetype": "text/x-python",
   "name": "python",
   "nbconvert_exporter": "python",
   "pygments_lexer": "ipython3",
   "version": "3.10.13"
  }
 },
 "nbformat": 4,
 "nbformat_minor": 5
}
