{
 "cells": [
  {
   "cell_type": "code",
   "execution_count": null,
   "metadata": {},
   "outputs": [],
   "source": [
    "# Colab Setup (Run this first)"
   ]
  },
  {
   "cell_type": "code",
   "execution_count": 2,
   "metadata": {},
   "outputs": [
    {
     "name": "stdout",
     "output_type": "stream",
     "text": [
      "Requirement already satisfied: litebird_sim in /automnt/data83/LiteBIRD/mgomes/lbs/lib/python3.12/site-packages (0.16.0)\n",
      "Requirement already satisfied: rich in /automnt/data83/LiteBIRD/mgomes/lbs/lib/python3.12/site-packages (14.1.0)\n",
      "Requirement already satisfied: PyGithub<3.0.0,>=2.6.1 in /automnt/data83/LiteBIRD/mgomes/lbs/lib/python3.12/site-packages (from litebird_sim) (2.8.1)\n",
      "Requirement already satisfied: asciimatics<2.0.0,>=1.15.0 in /automnt/data83/LiteBIRD/mgomes/lbs/lib/python3.12/site-packages (from litebird_sim) (1.15.0)\n",
      "Requirement already satisfied: astropy==6.1.7 in /automnt/data83/LiteBIRD/mgomes/lbs/lib/python3.12/site-packages (from litebird_sim) (6.1.7)\n",
      "Requirement already satisfied: deprecation<3.0.0,>=2.1.0 in /automnt/data83/LiteBIRD/mgomes/lbs/lib/python3.12/site-packages (from litebird_sim) (2.1.0)\n",
      "Requirement already satisfied: ducc0<0.39.0,>=0.38.0 in /automnt/data83/LiteBIRD/mgomes/lbs/lib/python3.12/site-packages (from litebird_sim) (0.38.0)\n",
      "Requirement already satisfied: h5py<4.0,>=3.9 in /automnt/data83/LiteBIRD/mgomes/lbs/lib/python3.12/site-packages (from litebird_sim) (3.14.0)\n",
      "Requirement already satisfied: healpy<2.0.0,>=1.18.1 in /automnt/data83/LiteBIRD/mgomes/lbs/lib/python3.12/site-packages (from litebird_sim) (1.18.1)\n",
      "Requirement already satisfied: jinja2<4.0,>=3.1 in /automnt/data83/LiteBIRD/mgomes/lbs/lib/python3.12/site-packages (from litebird_sim) (3.1.6)\n",
      "Requirement already satisfied: jplephem<3.0,>=2.22 in /automnt/data83/LiteBIRD/mgomes/lbs/lib/python3.12/site-packages (from litebird_sim) (2.23)\n",
      "Requirement already satisfied: libinsdb<0.10.0,>=0.9.0 in /automnt/data83/LiteBIRD/mgomes/lbs/lib/python3.12/site-packages (from litebird_sim) (0.9.0)\n",
      "Requirement already satisfied: markdown<4.0,>=3.8 in /automnt/data83/LiteBIRD/mgomes/lbs/lib/python3.12/site-packages (from litebird_sim) (3.9)\n",
      "Requirement already satisfied: markdown-katex<202407.0,>=202406.1035 in /automnt/data83/LiteBIRD/mgomes/lbs/lib/python3.12/site-packages (from litebird_sim) (202406.1035)\n",
      "Requirement already satisfied: matplotlib<4.0.0,>=3.10.3 in /automnt/data83/LiteBIRD/mgomes/lbs/lib/python3.12/site-packages (from litebird_sim) (3.10.6)\n",
      "Requirement already satisfied: numba<0.62.0,>=0.61.2 in /automnt/data83/LiteBIRD/mgomes/lbs/lib/python3.12/site-packages (from litebird_sim) (0.61.2)\n",
      "Requirement already satisfied: numpy<2.0.0,>=1.26.4 in /automnt/data83/LiteBIRD/mgomes/lbs/lib/python3.12/site-packages (from litebird_sim) (1.26.4)\n",
      "Requirement already satisfied: poetry-plugin-export<2.0.0,>=1.9.0 in /automnt/data83/LiteBIRD/mgomes/lbs/lib/python3.12/site-packages (from litebird_sim) (1.9.0)\n",
      "Requirement already satisfied: pre-commit<5.0.0,>=4.2.0 in /automnt/data83/LiteBIRD/mgomes/lbs/lib/python3.12/site-packages (from litebird_sim) (4.3.0)\n",
      "Requirement already satisfied: pydata-sphinx-theme<0.17.0,>=0.16.1 in /automnt/data83/LiteBIRD/mgomes/lbs/lib/python3.12/site-packages (from litebird_sim) (0.16.1)\n",
      "Requirement already satisfied: pyperclip<2.0.0,>=1.9.0 in /automnt/data83/LiteBIRD/mgomes/lbs/lib/python3.12/site-packages (from litebird_sim) (1.9.0)\n",
      "Requirement already satisfied: pysm3<4.0.0,>=3.4.2 in /automnt/data83/LiteBIRD/mgomes/lbs/lib/python3.12/site-packages (from litebird_sim) (3.4.2)\n",
      "Requirement already satisfied: pytest<9.0.0,>=8.3.5 in /automnt/data83/LiteBIRD/mgomes/lbs/lib/python3.12/site-packages (from litebird_sim) (8.4.2)\n",
      "Requirement already satisfied: pyyaml<7.0,>=6.0 in /automnt/data83/LiteBIRD/mgomes/lbs/lib/python3.12/site-packages (from litebird_sim) (6.0.2)\n",
      "Requirement already satisfied: requests<3.0.0,>=2.32.0 in /automnt/data83/LiteBIRD/mgomes/lbs/lib/python3.12/site-packages (from litebird_sim) (2.32.5)\n",
      "Requirement already satisfied: ruff<0.12.0,>=0.11.11 in /automnt/data83/LiteBIRD/mgomes/lbs/lib/python3.12/site-packages (from litebird_sim) (0.11.13)\n",
      "Requirement already satisfied: scipy<2.0.0,>=1.14.0 in /automnt/data83/LiteBIRD/mgomes/lbs/lib/python3.12/site-packages (from litebird_sim) (1.14.1)\n",
      "Requirement already satisfied: sphinx<9.0.0,>=8.1.3 in /automnt/data83/LiteBIRD/mgomes/lbs/lib/python3.12/site-packages (from litebird_sim) (8.2.3)\n",
      "Requirement already satisfied: sphinxcontrib-bibtex<3.0.0,>=2.6.3 in /automnt/data83/LiteBIRD/mgomes/lbs/lib/python3.12/site-packages (from litebird_sim) (2.6.5)\n",
      "Requirement already satisfied: sphinxcontrib-contentui<0.3.0,>=0.2.5 in /automnt/data83/LiteBIRD/mgomes/lbs/lib/python3.12/site-packages (from litebird_sim) (0.2.5)\n",
      "Requirement already satisfied: sphinxcontrib.asciinema<0.4.0,>=0.3.7 in /automnt/data83/LiteBIRD/mgomes/lbs/lib/python3.12/site-packages (from litebird_sim) (0.3.8)\n",
      "Requirement already satisfied: tomlkit<0.13.0,>=0.12.1 in /automnt/data83/LiteBIRD/mgomes/lbs/lib/python3.12/site-packages (from litebird_sim) (0.12.5)\n",
      "Requirement already satisfied: pyerfa>=2.0.1.1 in /automnt/data83/LiteBIRD/mgomes/lbs/lib/python3.12/site-packages (from astropy==6.1.7->litebird_sim) (2.0.1.5)\n",
      "Requirement already satisfied: astropy-iers-data>=0.2024.10.28.0.34.7 in /automnt/data83/LiteBIRD/mgomes/lbs/lib/python3.12/site-packages (from astropy==6.1.7->litebird_sim) (0.2025.9.15.0.37.0)\n",
      "Requirement already satisfied: packaging>=19.0 in /automnt/data83/LiteBIRD/mgomes/lbs/lib/python3.12/site-packages (from astropy==6.1.7->litebird_sim) (25.0)\n",
      "Requirement already satisfied: markdown-it-py>=2.2.0 in /automnt/data83/LiteBIRD/mgomes/lbs/lib/python3.12/site-packages (from rich) (4.0.0)\n",
      "Requirement already satisfied: pygments<3.0.0,>=2.13.0 in /automnt/data83/LiteBIRD/mgomes/lbs/lib/python3.12/site-packages (from rich) (2.19.2)\n",
      "Requirement already satisfied: pyfiglet>=0.7.2 in /automnt/data83/LiteBIRD/mgomes/lbs/lib/python3.12/site-packages (from asciimatics<2.0.0,>=1.15.0->litebird_sim) (1.0.4)\n",
      "Requirement already satisfied: Pillow>=2.7.0 in /automnt/data83/LiteBIRD/mgomes/lbs/lib/python3.12/site-packages (from asciimatics<2.0.0,>=1.15.0->litebird_sim) (11.3.0)\n",
      "Requirement already satisfied: wcwidth in /automnt/data83/LiteBIRD/mgomes/lbs/lib/python3.12/site-packages (from asciimatics<2.0.0,>=1.15.0->litebird_sim) (0.2.13)\n",
      "Requirement already satisfied: MarkupSafe>=2.0 in /automnt/data83/LiteBIRD/mgomes/lbs/lib/python3.12/site-packages (from jinja2<4.0,>=3.1->litebird_sim) (3.0.2)\n",
      "Requirement already satisfied: coverage<8,>=7.3.0 in /automnt/data83/LiteBIRD/mgomes/lbs/lib/python3.12/site-packages (from libinsdb<0.10.0,>=0.9.0->litebird_sim) (7.10.6)\n",
      "Requirement already satisfied: python-dateutil<3,>=2.8.2 in /automnt/data83/LiteBIRD/mgomes/lbs/lib/python3.12/site-packages (from libinsdb<0.10.0,>=0.9.0->litebird_sim) (2.9.0.post0)\n",
      "Requirement already satisfied: requests-mock<2,>=1.11.0 in /automnt/data83/LiteBIRD/mgomes/lbs/lib/python3.12/site-packages (from libinsdb<0.10.0,>=0.9.0->litebird_sim) (1.12.1)\n",
      "Requirement already satisfied: types-pyyaml<7,>=6.0.12.12 in /automnt/data83/LiteBIRD/mgomes/lbs/lib/python3.12/site-packages (from libinsdb<0.10.0,>=0.9.0->litebird_sim) (6.0.12.20250915)\n",
      "Requirement already satisfied: mdurl~=0.1 in /automnt/data83/LiteBIRD/mgomes/lbs/lib/python3.12/site-packages (from markdown-it-py>=2.2.0->rich) (0.1.2)\n",
      "Requirement already satisfied: setuptools in /automnt/data83/LiteBIRD/mgomes/lbs/lib/python3.12/site-packages (from markdown-katex<202407.0,>=202406.1035->litebird_sim) (80.9.0)\n",
      "Requirement already satisfied: contourpy>=1.0.1 in /automnt/data83/LiteBIRD/mgomes/lbs/lib/python3.12/site-packages (from matplotlib<4.0.0,>=3.10.3->litebird_sim) (1.3.3)\n",
      "Requirement already satisfied: cycler>=0.10 in /automnt/data83/LiteBIRD/mgomes/lbs/lib/python3.12/site-packages (from matplotlib<4.0.0,>=3.10.3->litebird_sim) (0.12.1)\n",
      "Requirement already satisfied: fonttools>=4.22.0 in /automnt/data83/LiteBIRD/mgomes/lbs/lib/python3.12/site-packages (from matplotlib<4.0.0,>=3.10.3->litebird_sim) (4.59.2)\n",
      "Requirement already satisfied: kiwisolver>=1.3.1 in /automnt/data83/LiteBIRD/mgomes/lbs/lib/python3.12/site-packages (from matplotlib<4.0.0,>=3.10.3->litebird_sim) (1.4.9)\n",
      "Requirement already satisfied: pyparsing>=2.3.1 in /automnt/data83/LiteBIRD/mgomes/lbs/lib/python3.12/site-packages (from matplotlib<4.0.0,>=3.10.3->litebird_sim) (3.2.4)\n",
      "Requirement already satisfied: llvmlite<0.45,>=0.44.0dev0 in /automnt/data83/LiteBIRD/mgomes/lbs/lib/python3.12/site-packages (from numba<0.62.0,>=0.61.2->litebird_sim) (0.44.0)\n",
      "Requirement already satisfied: poetry<3.0.0,>=2.0.0 in /automnt/data83/LiteBIRD/mgomes/lbs/lib/python3.12/site-packages (from poetry-plugin-export<2.0.0,>=1.9.0->litebird_sim) (2.2.0)\n",
      "Requirement already satisfied: poetry-core<3.0.0,>=1.7.0 in /automnt/data83/LiteBIRD/mgomes/lbs/lib/python3.12/site-packages (from poetry-plugin-export<2.0.0,>=1.9.0->litebird_sim) (2.2.0)\n",
      "Requirement already satisfied: cfgv>=2.0.0 in /automnt/data83/LiteBIRD/mgomes/lbs/lib/python3.12/site-packages (from pre-commit<5.0.0,>=4.2.0->litebird_sim) (3.4.0)\n",
      "Requirement already satisfied: identify>=1.0.0 in /automnt/data83/LiteBIRD/mgomes/lbs/lib/python3.12/site-packages (from pre-commit<5.0.0,>=4.2.0->litebird_sim) (2.6.14)\n",
      "Requirement already satisfied: nodeenv>=0.11.1 in /automnt/data83/LiteBIRD/mgomes/lbs/lib/python3.12/site-packages (from pre-commit<5.0.0,>=4.2.0->litebird_sim) (1.9.1)\n",
      "Requirement already satisfied: virtualenv>=20.10.0 in /automnt/data83/LiteBIRD/mgomes/lbs/lib/python3.12/site-packages (from pre-commit<5.0.0,>=4.2.0->litebird_sim) (20.34.0)\n",
      "Requirement already satisfied: beautifulsoup4 in /automnt/data83/LiteBIRD/mgomes/lbs/lib/python3.12/site-packages (from pydata-sphinx-theme<0.17.0,>=0.16.1->litebird_sim) (4.13.5)\n",
      "Requirement already satisfied: docutils!=0.17.0 in /automnt/data83/LiteBIRD/mgomes/lbs/lib/python3.12/site-packages (from pydata-sphinx-theme<0.17.0,>=0.16.1->litebird_sim) (0.21.2)\n",
      "Requirement already satisfied: Babel in /automnt/data83/LiteBIRD/mgomes/lbs/lib/python3.12/site-packages (from pydata-sphinx-theme<0.17.0,>=0.16.1->litebird_sim) (2.17.0)\n",
      "Requirement already satisfied: accessible-pygments in /automnt/data83/LiteBIRD/mgomes/lbs/lib/python3.12/site-packages (from pydata-sphinx-theme<0.17.0,>=0.16.1->litebird_sim) (0.0.5)\n",
      "Requirement already satisfied: typing-extensions in /automnt/data83/LiteBIRD/mgomes/lbs/lib/python3.12/site-packages (from pydata-sphinx-theme<0.17.0,>=0.16.1->litebird_sim) (4.15.0)\n",
      "Requirement already satisfied: pynacl>=1.4.0 in /automnt/data83/LiteBIRD/mgomes/lbs/lib/python3.12/site-packages (from PyGithub<3.0.0,>=2.6.1->litebird_sim) (1.6.0)\n",
      "Requirement already satisfied: pyjwt>=2.4.0 in /automnt/data83/LiteBIRD/mgomes/lbs/lib/python3.12/site-packages (from pyjwt[crypto]>=2.4.0->PyGithub<3.0.0,>=2.6.1->litebird_sim) (2.10.1)\n",
      "Requirement already satisfied: urllib3>=1.26.0 in /automnt/data83/LiteBIRD/mgomes/lbs/lib/python3.12/site-packages (from PyGithub<3.0.0,>=2.6.1->litebird_sim) (2.5.0)\n",
      "Requirement already satisfied: toml in /automnt/data83/LiteBIRD/mgomes/lbs/lib/python3.12/site-packages (from pysm3<4.0.0,>=3.4.2->litebird_sim) (0.10.2)\n",
      "Requirement already satisfied: iniconfig>=1 in /automnt/data83/LiteBIRD/mgomes/lbs/lib/python3.12/site-packages (from pytest<9.0.0,>=8.3.5->litebird_sim) (2.1.0)\n",
      "Requirement already satisfied: pluggy<2,>=1.5 in /automnt/data83/LiteBIRD/mgomes/lbs/lib/python3.12/site-packages (from pytest<9.0.0,>=8.3.5->litebird_sim) (1.6.0)\n",
      "Requirement already satisfied: charset_normalizer<4,>=2 in /automnt/data83/LiteBIRD/mgomes/lbs/lib/python3.12/site-packages (from requests<3.0.0,>=2.32.0->litebird_sim) (3.4.3)\n",
      "Requirement already satisfied: idna<4,>=2.5 in /automnt/data83/LiteBIRD/mgomes/lbs/lib/python3.12/site-packages (from requests<3.0.0,>=2.32.0->litebird_sim) (3.10)\n",
      "Requirement already satisfied: certifi>=2017.4.17 in /automnt/data83/LiteBIRD/mgomes/lbs/lib/python3.12/site-packages (from requests<3.0.0,>=2.32.0->litebird_sim) (2025.8.3)\n",
      "Requirement already satisfied: sphinxcontrib-applehelp>=1.0.7 in /automnt/data83/LiteBIRD/mgomes/lbs/lib/python3.12/site-packages (from sphinx<9.0.0,>=8.1.3->litebird_sim) (2.0.0)\n",
      "Requirement already satisfied: sphinxcontrib-devhelp>=1.0.6 in /automnt/data83/LiteBIRD/mgomes/lbs/lib/python3.12/site-packages (from sphinx<9.0.0,>=8.1.3->litebird_sim) (2.0.0)\n",
      "Requirement already satisfied: sphinxcontrib-htmlhelp>=2.0.6 in /automnt/data83/LiteBIRD/mgomes/lbs/lib/python3.12/site-packages (from sphinx<9.0.0,>=8.1.3->litebird_sim) (2.1.0)\n",
      "Requirement already satisfied: sphinxcontrib-jsmath>=1.0.1 in /automnt/data83/LiteBIRD/mgomes/lbs/lib/python3.12/site-packages (from sphinx<9.0.0,>=8.1.3->litebird_sim) (1.0.1)\n",
      "Requirement already satisfied: sphinxcontrib-qthelp>=1.0.6 in /automnt/data83/LiteBIRD/mgomes/lbs/lib/python3.12/site-packages (from sphinx<9.0.0,>=8.1.3->litebird_sim) (2.0.0)\n",
      "Requirement already satisfied: sphinxcontrib-serializinghtml>=1.1.9 in /automnt/data83/LiteBIRD/mgomes/lbs/lib/python3.12/site-packages (from sphinx<9.0.0,>=8.1.3->litebird_sim) (2.0.0)\n",
      "Requirement already satisfied: snowballstemmer>=2.2 in /automnt/data83/LiteBIRD/mgomes/lbs/lib/python3.12/site-packages (from sphinx<9.0.0,>=8.1.3->litebird_sim) (3.0.1)\n",
      "Requirement already satisfied: alabaster>=0.7.14 in /automnt/data83/LiteBIRD/mgomes/lbs/lib/python3.12/site-packages (from sphinx<9.0.0,>=8.1.3->litebird_sim) (1.0.0)\n",
      "Requirement already satisfied: imagesize>=1.3 in /automnt/data83/LiteBIRD/mgomes/lbs/lib/python3.12/site-packages (from sphinx<9.0.0,>=8.1.3->litebird_sim) (1.4.1)\n",
      "Requirement already satisfied: roman-numerals-py>=1.0.0 in /automnt/data83/LiteBIRD/mgomes/lbs/lib/python3.12/site-packages (from sphinx<9.0.0,>=8.1.3->litebird_sim) (3.1.0)\n",
      "Requirement already satisfied: pybtex>=0.25 in /automnt/data83/LiteBIRD/mgomes/lbs/lib/python3.12/site-packages (from sphinxcontrib-bibtex<3.0.0,>=2.6.3->litebird_sim) (0.25.1)\n",
      "Requirement already satisfied: pybtex-docutils>=1.0.0 in /automnt/data83/LiteBIRD/mgomes/lbs/lib/python3.12/site-packages (from sphinxcontrib-bibtex<3.0.0,>=2.6.3->litebird_sim) (1.0.3)\n",
      "Requirement already satisfied: build<2.0.0,>=1.2.1 in /automnt/data83/LiteBIRD/mgomes/lbs/lib/python3.12/site-packages (from poetry<3.0.0,>=2.0.0->poetry-plugin-export<2.0.0,>=1.9.0->litebird_sim) (1.3.0)\n",
      "Requirement already satisfied: cachecontrol<0.15.0,>=0.14.0 in /automnt/data83/LiteBIRD/mgomes/lbs/lib/python3.12/site-packages (from cachecontrol[filecache]<0.15.0,>=0.14.0->poetry<3.0.0,>=2.0.0->poetry-plugin-export<2.0.0,>=1.9.0->litebird_sim) (0.14.3)\n",
      "Requirement already satisfied: cleo<3.0.0,>=2.1.0 in /automnt/data83/LiteBIRD/mgomes/lbs/lib/python3.12/site-packages (from poetry<3.0.0,>=2.0.0->poetry-plugin-export<2.0.0,>=1.9.0->litebird_sim) (2.1.0)\n",
      "Requirement already satisfied: dulwich<0.25.0,>=0.24.0 in /automnt/data83/LiteBIRD/mgomes/lbs/lib/python3.12/site-packages (from poetry<3.0.0,>=2.0.0->poetry-plugin-export<2.0.0,>=1.9.0->litebird_sim) (0.24.1)\n",
      "Requirement already satisfied: fastjsonschema<3.0.0,>=2.18.0 in /automnt/data83/LiteBIRD/mgomes/lbs/lib/python3.12/site-packages (from poetry<3.0.0,>=2.0.0->poetry-plugin-export<2.0.0,>=1.9.0->litebird_sim) (2.21.2)\n",
      "Requirement already satisfied: findpython<0.8.0,>=0.6.2 in /automnt/data83/LiteBIRD/mgomes/lbs/lib/python3.12/site-packages (from poetry<3.0.0,>=2.0.0->poetry-plugin-export<2.0.0,>=1.9.0->litebird_sim) (0.7.0)\n",
      "Requirement already satisfied: installer<0.8.0,>=0.7.0 in /automnt/data83/LiteBIRD/mgomes/lbs/lib/python3.12/site-packages (from poetry<3.0.0,>=2.0.0->poetry-plugin-export<2.0.0,>=1.9.0->litebird_sim) (0.7.0)\n",
      "Requirement already satisfied: keyring<26.0.0,>=25.1.0 in /automnt/data83/LiteBIRD/mgomes/lbs/lib/python3.12/site-packages (from poetry<3.0.0,>=2.0.0->poetry-plugin-export<2.0.0,>=1.9.0->litebird_sim) (25.6.0)\n",
      "Requirement already satisfied: pbs-installer<2026.0.0,>=2025.1.6 in /automnt/data83/LiteBIRD/mgomes/lbs/lib/python3.12/site-packages (from pbs-installer[download,install]<2026.0.0,>=2025.1.6->poetry<3.0.0,>=2.0.0->poetry-plugin-export<2.0.0,>=1.9.0->litebird_sim) (2025.9.2)\n",
      "Requirement already satisfied: pkginfo<2.0,>=1.12 in /automnt/data83/LiteBIRD/mgomes/lbs/lib/python3.12/site-packages (from poetry<3.0.0,>=2.0.0->poetry-plugin-export<2.0.0,>=1.9.0->litebird_sim) (1.12.1.2)\n",
      "Requirement already satisfied: platformdirs<5,>=3.0.0 in /automnt/data83/LiteBIRD/mgomes/lbs/lib/python3.12/site-packages (from poetry<3.0.0,>=2.0.0->poetry-plugin-export<2.0.0,>=1.9.0->litebird_sim) (4.4.0)\n",
      "Requirement already satisfied: pyproject-hooks<2.0.0,>=1.0.0 in /automnt/data83/LiteBIRD/mgomes/lbs/lib/python3.12/site-packages (from poetry<3.0.0,>=2.0.0->poetry-plugin-export<2.0.0,>=1.9.0->litebird_sim) (1.2.0)\n",
      "Requirement already satisfied: requests-toolbelt<2.0.0,>=1.0.0 in /automnt/data83/LiteBIRD/mgomes/lbs/lib/python3.12/site-packages (from poetry<3.0.0,>=2.0.0->poetry-plugin-export<2.0.0,>=1.9.0->litebird_sim) (1.0.0)\n",
      "Requirement already satisfied: shellingham<2.0,>=1.5 in /automnt/data83/LiteBIRD/mgomes/lbs/lib/python3.12/site-packages (from poetry<3.0.0,>=2.0.0->poetry-plugin-export<2.0.0,>=1.9.0->litebird_sim) (1.5.4)\n",
      "Requirement already satisfied: trove-classifiers>=2022.5.19 in /automnt/data83/LiteBIRD/mgomes/lbs/lib/python3.12/site-packages (from poetry<3.0.0,>=2.0.0->poetry-plugin-export<2.0.0,>=1.9.0->litebird_sim) (2025.9.11.17)\n",
      "Requirement already satisfied: latexcodec>=1.0.4 in /automnt/data83/LiteBIRD/mgomes/lbs/lib/python3.12/site-packages (from pybtex>=0.25->sphinxcontrib-bibtex<3.0.0,>=2.6.3->litebird_sim) (3.0.1)\n",
      "Requirement already satisfied: cryptography>=3.4.0 in /automnt/data83/LiteBIRD/mgomes/lbs/lib/python3.12/site-packages (from pyjwt[crypto]>=2.4.0->PyGithub<3.0.0,>=2.6.1->litebird_sim) (45.0.7)\n",
      "Requirement already satisfied: cffi>=1.4.1 in /automnt/data83/LiteBIRD/mgomes/lbs/lib/python3.12/site-packages (from pynacl>=1.4.0->PyGithub<3.0.0,>=2.6.1->litebird_sim) (2.0.0)\n",
      "Requirement already satisfied: six>=1.5 in /automnt/data83/LiteBIRD/mgomes/lbs/lib/python3.12/site-packages (from python-dateutil<3,>=2.8.2->libinsdb<0.10.0,>=0.9.0->litebird_sim) (1.17.0)\n",
      "Requirement already satisfied: distlib<1,>=0.3.7 in /automnt/data83/LiteBIRD/mgomes/lbs/lib/python3.12/site-packages (from virtualenv>=20.10.0->pre-commit<5.0.0,>=4.2.0->litebird_sim) (0.4.0)\n",
      "Requirement already satisfied: filelock<4,>=3.12.2 in /automnt/data83/LiteBIRD/mgomes/lbs/lib/python3.12/site-packages (from virtualenv>=20.10.0->pre-commit<5.0.0,>=4.2.0->litebird_sim) (3.19.1)\n",
      "Requirement already satisfied: soupsieve>1.2 in /automnt/data83/LiteBIRD/mgomes/lbs/lib/python3.12/site-packages (from beautifulsoup4->pydata-sphinx-theme<0.17.0,>=0.16.1->litebird_sim) (2.8)\n",
      "Requirement already satisfied: msgpack<2.0.0,>=0.5.2 in /automnt/data83/LiteBIRD/mgomes/lbs/lib/python3.12/site-packages (from cachecontrol<0.15.0,>=0.14.0->cachecontrol[filecache]<0.15.0,>=0.14.0->poetry<3.0.0,>=2.0.0->poetry-plugin-export<2.0.0,>=1.9.0->litebird_sim) (1.1.1)\n",
      "Requirement already satisfied: pycparser in /automnt/data83/LiteBIRD/mgomes/lbs/lib/python3.12/site-packages (from cffi>=1.4.1->pynacl>=1.4.0->PyGithub<3.0.0,>=2.6.1->litebird_sim) (2.23)\n",
      "Requirement already satisfied: crashtest<0.5.0,>=0.4.1 in /automnt/data83/LiteBIRD/mgomes/lbs/lib/python3.12/site-packages (from cleo<3.0.0,>=2.1.0->poetry<3.0.0,>=2.0.0->poetry-plugin-export<2.0.0,>=1.9.0->litebird_sim) (0.4.1)\n",
      "Requirement already satisfied: rapidfuzz<4.0.0,>=3.0.0 in /automnt/data83/LiteBIRD/mgomes/lbs/lib/python3.12/site-packages (from cleo<3.0.0,>=2.1.0->poetry<3.0.0,>=2.0.0->poetry-plugin-export<2.0.0,>=1.9.0->litebird_sim) (3.14.1)\n",
      "Requirement already satisfied: SecretStorage>=3.2 in /automnt/data83/LiteBIRD/mgomes/lbs/lib/python3.12/site-packages (from keyring<26.0.0,>=25.1.0->poetry<3.0.0,>=2.0.0->poetry-plugin-export<2.0.0,>=1.9.0->litebird_sim) (3.4.0)\n",
      "Requirement already satisfied: jeepney>=0.4.2 in /automnt/data83/LiteBIRD/mgomes/lbs/lib/python3.12/site-packages (from keyring<26.0.0,>=25.1.0->poetry<3.0.0,>=2.0.0->poetry-plugin-export<2.0.0,>=1.9.0->litebird_sim) (0.9.0)\n",
      "Requirement already satisfied: jaraco.classes in /automnt/data83/LiteBIRD/mgomes/lbs/lib/python3.12/site-packages (from keyring<26.0.0,>=25.1.0->poetry<3.0.0,>=2.0.0->poetry-plugin-export<2.0.0,>=1.9.0->litebird_sim) (3.4.0)\n",
      "Requirement already satisfied: jaraco.functools in /automnt/data83/LiteBIRD/mgomes/lbs/lib/python3.12/site-packages (from keyring<26.0.0,>=25.1.0->poetry<3.0.0,>=2.0.0->poetry-plugin-export<2.0.0,>=1.9.0->litebird_sim) (4.3.0)\n",
      "Requirement already satisfied: jaraco.context in /automnt/data83/LiteBIRD/mgomes/lbs/lib/python3.12/site-packages (from keyring<26.0.0,>=25.1.0->poetry<3.0.0,>=2.0.0->poetry-plugin-export<2.0.0,>=1.9.0->litebird_sim) (6.0.1)\n",
      "Requirement already satisfied: httpx<1,>=0.27.0 in /automnt/data83/LiteBIRD/mgomes/lbs/lib/python3.12/site-packages (from pbs-installer[download,install]<2026.0.0,>=2025.1.6->poetry<3.0.0,>=2.0.0->poetry-plugin-export<2.0.0,>=1.9.0->litebird_sim) (0.28.1)\n",
      "Requirement already satisfied: zstandard>=0.21.0 in /automnt/data83/LiteBIRD/mgomes/lbs/lib/python3.12/site-packages (from pbs-installer[download,install]<2026.0.0,>=2025.1.6->poetry<3.0.0,>=2.0.0->poetry-plugin-export<2.0.0,>=1.9.0->litebird_sim) (0.25.0)\n",
      "Requirement already satisfied: anyio in /automnt/data83/LiteBIRD/mgomes/lbs/lib/python3.12/site-packages (from httpx<1,>=0.27.0->pbs-installer[download,install]<2026.0.0,>=2025.1.6->poetry<3.0.0,>=2.0.0->poetry-plugin-export<2.0.0,>=1.9.0->litebird_sim) (4.10.0)\n",
      "Requirement already satisfied: httpcore==1.* in /automnt/data83/LiteBIRD/mgomes/lbs/lib/python3.12/site-packages (from httpx<1,>=0.27.0->pbs-installer[download,install]<2026.0.0,>=2025.1.6->poetry<3.0.0,>=2.0.0->poetry-plugin-export<2.0.0,>=1.9.0->litebird_sim) (1.0.9)\n",
      "Requirement already satisfied: h11>=0.16 in /automnt/data83/LiteBIRD/mgomes/lbs/lib/python3.12/site-packages (from httpcore==1.*->httpx<1,>=0.27.0->pbs-installer[download,install]<2026.0.0,>=2025.1.6->poetry<3.0.0,>=2.0.0->poetry-plugin-export<2.0.0,>=1.9.0->litebird_sim) (0.16.0)\n",
      "Requirement already satisfied: more-itertools in /automnt/data83/LiteBIRD/mgomes/lbs/lib/python3.12/site-packages (from jaraco.classes->keyring<26.0.0,>=25.1.0->poetry<3.0.0,>=2.0.0->poetry-plugin-export<2.0.0,>=1.9.0->litebird_sim) (10.8.0)\n",
      "Requirement already satisfied: sniffio>=1.1 in /automnt/data83/LiteBIRD/mgomes/lbs/lib/python3.12/site-packages (from anyio->httpx<1,>=0.27.0->pbs-installer[download,install]<2026.0.0,>=2025.1.6->poetry<3.0.0,>=2.0.0->poetry-plugin-export<2.0.0,>=1.9.0->litebird_sim) (1.3.1)\n",
      "\n",
      "\u001b[1m[\u001b[0m\u001b[34;49mnotice\u001b[0m\u001b[1;39;49m]\u001b[0m\u001b[39;49m A new release of pip is available: \u001b[0m\u001b[31;49m24.3.1\u001b[0m\u001b[39;49m -> \u001b[0m\u001b[32;49m25.2\u001b[0m\n",
      "\u001b[1m[\u001b[0m\u001b[34;49mnotice\u001b[0m\u001b[1;39;49m]\u001b[0m\u001b[39;49m To update, run: \u001b[0m\u001b[32;49mpip install --upgrade pip\u001b[0m\n"
     ]
    }
   ],
   "source": [
    "!pip install litebird_sim rich"
   ]
  },
  {
   "cell_type": "markdown",
   "metadata": {},
   "source": [
    "To run this notebook, you have several options:\n",
    "\n",
    "-   If you are running this under Binder, you should already be set!\n",
    "-   If you are running this under Google Colab, be sure to run the cell with `!pip install…` that is right above the title.\n",
    "-   If you are running this locally, you should first create and activate a new virtual environment with the commands\n",
    "\n",
    "    ```\n",
    "    python -m venv ./my_venv\n",
    "    source ./my_venv/bin/activate\n",
    "    ```\n",
    "\n",
    "    (you can use Conda environments, if you prefer) and install Jupyter and litebird_sim in it:\n",
    "\n",
    "    ```\n",
    "    pip install jupyter litebird_sim\n",
    "    ```\n",
    "\n",
    "    If you have a local copy of the `litebird_sim` repository cloned from <https://github.com/litebird/litebird_sim> (e.g., because you're part of the Simulation Team!), you can use a _development install_ instead:\n",
    "\n",
    "    ```\n",
    "    cd /my/local/copy/litebird_sim\n",
    "    pip install -e .\n",
    "    ```\n"
   ]
  },
  {
   "cell_type": "markdown",
   "metadata": {},
   "source": [
    "## Import Modules"
   ]
  },
  {
   "cell_type": "code",
   "execution_count": 3,
   "metadata": {},
   "outputs": [],
   "source": [
    "import healpy as hp\n",
    "import matplotlib.pyplot as plt\n",
    "import numpy as np\n",
    "\n",
    "import litebird_sim as lbs\n",
    "from litebird_sim import mpi\n",
    "from litebird_sim.hwp.hwp_harmonics import mueller_interpolation"
   ]
  },
  {
   "cell_type": "markdown",
   "metadata": {},
   "source": [
    "## Define Parameters"
   ]
  },
  {
   "cell_type": "code",
   "execution_count": 4,
   "metadata": {},
   "outputs": [],
   "source": [
    "start_time = 0\n",
    "time_span_s = 365 * 24 * 3600\n",
    "nside = 64\n",
    "sampling = 1\n",
    "hwp_radpsec = lbs.IdealHWP(\n",
    "    46 * 2 * np.pi / 60,\n",
    ").ang_speed_radpsec\n",
    "\n",
    "lbs.PTEP_IMO_LOCATION = \"schema.json\"\n",
    "imo = lbs.Imo(flatfile_location=lbs.PTEP_IMO_LOCATION)\n",
    "imo_version = \"IMo_vReformationPlan_Option2M\""
   ]
  },
  {
   "cell_type": "markdown",
   "metadata": {},
   "source": [
    "## Create Simulation"
   ]
  },
  {
   "cell_type": "code",
   "execution_count": 5,
   "metadata": {},
   "outputs": [],
   "source": [
    "sim = lbs.Simulation(\n",
    "    start_time=start_time, duration_s=time_span_s, random_seed=0, imo=imo\n",
    ")\n",
    "\n",
    "comm = sim.mpi_comm"
   ]
  },
  {
   "cell_type": "markdown",
   "metadata": {},
   "source": [
    "## Define Frequency Channel"
   ]
  },
  {
   "cell_type": "code",
   "execution_count": 6,
   "metadata": {},
   "outputs": [],
   "source": [
    "channel = \"MF1_140\"\n",
    "\n",
    "channelinfo = lbs.FreqChannelInfo.from_imo(\n",
    "    url=f\"/releases/{imo_version}/LMHFT/{channel}/channel_info\",\n",
    "    imo=imo,\n",
    ")"
   ]
  },
  {
   "cell_type": "markdown",
   "metadata": {},
   "source": [
    "## Define Scanning Strategy"
   ]
  },
  {
   "cell_type": "code",
   "execution_count": 7,
   "metadata": {},
   "outputs": [],
   "source": [
    "sim.set_scanning_strategy(\n",
    "    imo_url=f\"/releases/{imo_version}/Observation/Scanning_Strategy\"\n",
    ")"
   ]
  },
  {
   "cell_type": "markdown",
   "metadata": {},
   "source": [
    "## Define Instrument"
   ]
  },
  {
   "cell_type": "code",
   "execution_count": 8,
   "metadata": {},
   "outputs": [],
   "source": [
    "sim.set_instrument(\n",
    "    lbs.InstrumentInfo.from_imo(\n",
    "        imo,\n",
    "        f\"/releases/{imo_version}/LMHFT/instrument_info\",\n",
    "    )\n",
    ")"
   ]
  },
  {
   "cell_type": "markdown",
   "metadata": {},
   "source": [
    "## Set HWP"
   ]
  },
  {
   "cell_type": "code",
   "execution_count": 9,
   "metadata": {},
   "outputs": [],
   "source": [
    "sim.set_hwp(lbs.NonIdealHWP(hwp_radpsec, harmonic_expansion=True, formalism=\"mueller\"))"
   ]
  },
  {
   "cell_type": "markdown",
   "metadata": {},
   "source": [
    "## Define Detectors"
   ]
  },
  {
   "cell_type": "code",
   "execution_count": 10,
   "metadata": {},
   "outputs": [
    {
     "name": "stderr",
     "output_type": "stream",
     "text": [
      "[2025-09-22 15:00:59,223 WARNING MPI#0000] Detector '999_007_000_XX_140_T': mueller_hwp is not a 4x4 numpy array (found type <class 'dict'>, shape None)\n"
     ]
    }
   ],
   "source": [
    "det = lbs.DetectorInfo.from_imo(\n",
    "    url=f\"/releases/{imo_version}/LMHFT/{channel}/{channelinfo.detector_names[0]}/detector_info\",\n",
    "    imo=imo,\n",
    ")\n",
    "\n",
    "theta = det.pointing_theta_phi_psi_deg[0]\n",
    "\n",
    "det.mueller_hwp = {\n",
    "    \"0f\": np.array([[1, 0, 0], [0, 0, 0], [0, 0, 0]], dtype=np.float64),\n",
    "    \"2f\": np.array([[0, 0, 0], [0, 0, 0], [0, 0, 0]], dtype=np.float64),\n",
    "    \"4f\": np.array(\n",
    "        [\n",
    "            [0, 0, 0],\n",
    "            [mueller_interpolation(theta, \"4f\", 1, 0), 1, 1],\n",
    "            [mueller_interpolation(theta, \"4f\", 2, 0), 1, 1],\n",
    "        ],\n",
    "        dtype=np.float64,\n",
    "    ),\n",
    "}"
   ]
  },
  {
   "cell_type": "markdown",
   "metadata": {},
   "source": [
    "## Create Observations and Prepare Pointings"
   ]
  },
  {
   "cell_type": "code",
   "execution_count": 11,
   "metadata": {},
   "outputs": [],
   "source": [
    "(obs,) = sim.create_observations(\n",
    "    detectors=[det],\n",
    ")\n",
    "\n",
    "sim.prepare_pointings(append_to_report=False)"
   ]
  },
  {
   "cell_type": "markdown",
   "metadata": {},
   "source": [
    "## Generate Input Sky Maps"
   ]
  },
  {
   "cell_type": "code",
   "execution_count": 12,
   "metadata": {},
   "outputs": [
    {
     "name": "stderr",
     "output_type": "stream",
     "text": [
      "[2025-09-22 15:01:01,649 INFO MPI#0000] generating and saving cmb simulations\n",
      "[2025-09-22 15:01:01,661 INFO MPI#0000] Sigma is 0.000000 arcmin (0.000000 rad) \n",
      "[2025-09-22 15:01:01,662 INFO MPI#0000] -> fwhm is 0.000000 arcmin\n",
      "[2025-09-22 15:01:01,922 INFO MPI#0000] Sigma is 0.000000 arcmin (0.000000 rad) \n",
      "[2025-09-22 15:01:01,922 INFO MPI#0000] -> fwhm is 0.000000 arcmin\n",
      "[2025-09-22 15:01:01,939 INFO MPI#0000] Sigma is 6.878626 arcmin (0.002001 rad) \n",
      "[2025-09-22 15:01:01,943 INFO MPI#0000] -> fwhm is 16.197927 arcmin\n",
      "[2025-09-22 15:01:01,946 INFO MPI#0000] Sigma is 0.000000 arcmin (0.000000 rad) \n",
      "[2025-09-22 15:01:01,946 INFO MPI#0000] -> fwhm is 0.000000 arcmin\n",
      "[2025-09-22 15:01:01,949 INFO MPI#0000] generating and saving fg simulations\n",
      "[2025-09-22 15:01:01,955 INFO MPI#0000] Retrieve data for pysm_2/synch_t_new.fits (if not cached already)\n",
      "[2025-09-22 15:01:01,983 INFO MPI#0000] NSIDE = 512\n",
      "[2025-09-22 15:01:01,984 INFO MPI#0000] ORDERING = RING in fits file\n",
      "[2025-09-22 15:01:01,984 INFO MPI#0000] INDXSCHM = IMPLICIT\n",
      "[2025-09-22 15:01:02,072 INFO MPI#0000] Retrieve data for pysm_2/synch_q_new.fits (if not cached already)\n",
      "[2025-09-22 15:01:02,075 INFO MPI#0000] NSIDE = 512\n",
      "[2025-09-22 15:01:02,075 INFO MPI#0000] ORDERING = RING in fits file\n",
      "[2025-09-22 15:01:02,075 INFO MPI#0000] INDXSCHM = IMPLICIT\n",
      "[2025-09-22 15:01:02,159 INFO MPI#0000] Retrieve data for pysm_2/synch_u_new.fits (if not cached already)\n",
      "[2025-09-22 15:01:02,162 INFO MPI#0000] NSIDE = 512\n",
      "[2025-09-22 15:01:02,162 INFO MPI#0000] ORDERING = RING in fits file\n",
      "[2025-09-22 15:01:02,162 INFO MPI#0000] INDXSCHM = IMPLICIT\n",
      "[2025-09-22 15:01:03,299 INFO MPI#0000] Sigma is 6.878626 arcmin (0.002001 rad) \n",
      "[2025-09-22 15:01:03,305 INFO MPI#0000] -> fwhm is 16.197927 arcmin\n",
      "[2025-09-22 15:01:03,306 INFO MPI#0000] Sigma is 0.000000 arcmin (0.000000 rad) \n",
      "[2025-09-22 15:01:03,306 INFO MPI#0000] -> fwhm is 0.000000 arcmin\n",
      "[2025-09-22 15:01:03,347 INFO MPI#0000] Sigma is 0.000000 arcmin (0.000000 rad) \n",
      "[2025-09-22 15:01:03,348 INFO MPI#0000] -> fwhm is 0.000000 arcmin\n",
      "[2025-09-22 15:01:03,351 INFO MPI#0000] Retrieve data for pysm_2/dust_t_new.fits (if not cached already)\n",
      "[2025-09-22 15:01:03,357 INFO MPI#0000] NSIDE = 512\n",
      "[2025-09-22 15:01:03,357 INFO MPI#0000] ORDERING = RING in fits file\n",
      "[2025-09-22 15:01:03,358 INFO MPI#0000] INDXSCHM = IMPLICIT\n",
      "[2025-09-22 15:01:03,444 INFO MPI#0000] Retrieve data for pysm_2/dust_q_new.fits (if not cached already)\n",
      "[2025-09-22 15:01:03,447 INFO MPI#0000] NSIDE = 512\n",
      "[2025-09-22 15:01:03,448 INFO MPI#0000] ORDERING = RING in fits file\n",
      "[2025-09-22 15:01:03,448 INFO MPI#0000] INDXSCHM = IMPLICIT\n",
      "[2025-09-22 15:01:03,530 INFO MPI#0000] Retrieve data for pysm_2/dust_u_new.fits (if not cached already)\n",
      "[2025-09-22 15:01:03,533 INFO MPI#0000] NSIDE = 512\n",
      "[2025-09-22 15:01:03,533 INFO MPI#0000] ORDERING = RING in fits file\n",
      "[2025-09-22 15:01:03,533 INFO MPI#0000] INDXSCHM = IMPLICIT\n",
      "[2025-09-22 15:01:05,000 INFO MPI#0000] Sigma is 6.878626 arcmin (0.002001 rad) \n",
      "[2025-09-22 15:01:05,004 INFO MPI#0000] -> fwhm is 16.197927 arcmin\n",
      "[2025-09-22 15:01:05,007 INFO MPI#0000] Sigma is 0.000000 arcmin (0.000000 rad) \n",
      "[2025-09-22 15:01:05,007 INFO MPI#0000] -> fwhm is 0.000000 arcmin\n",
      "[2025-09-22 15:01:05,049 INFO MPI#0000] Sigma is 0.000000 arcmin (0.000000 rad) \n",
      "[2025-09-22 15:01:05,050 INFO MPI#0000] -> fwhm is 0.000000 arcmin\n",
      "[2025-09-22 15:01:05,052 INFO MPI#0000] Retrieve data for pysm_2/ff_t_new.fits (if not cached already)\n",
      "[2025-09-22 15:01:05,058 INFO MPI#0000] NSIDE = 512\n",
      "[2025-09-22 15:01:05,059 INFO MPI#0000] ORDERING = RING in fits file\n",
      "[2025-09-22 15:01:05,059 INFO MPI#0000] INDXSCHM = IMPLICIT\n",
      "[2025-09-22 15:01:05,565 INFO MPI#0000] Sigma is 6.878626 arcmin (0.002001 rad) \n",
      "[2025-09-22 15:01:05,568 INFO MPI#0000] -> fwhm is 16.197927 arcmin\n",
      "[2025-09-22 15:01:05,572 INFO MPI#0000] Sigma is 0.000000 arcmin (0.000000 rad) \n",
      "[2025-09-22 15:01:05,572 INFO MPI#0000] -> fwhm is 0.000000 arcmin\n",
      "[2025-09-22 15:01:05,618 INFO MPI#0000] Sigma is 0.000000 arcmin (0.000000 rad) \n",
      "[2025-09-22 15:01:05,619 INFO MPI#0000] -> fwhm is 0.000000 arcmin\n",
      "[2025-09-22 15:01:05,625 INFO MPI#0000] generating and saving dipole\n",
      "[2025-09-22 15:01:05,723 INFO MPI#0000] Sigma is 0.000000 arcmin (0.000000 rad) \n",
      "[2025-09-22 15:01:05,724 INFO MPI#0000] -> fwhm is 0.000000 arcmin\n"
     ]
    }
   ],
   "source": [
    "if comm.rank == 0:\n",
    "    mbs_params = lbs.MbsParameters(\n",
    "        make_cmb=True,\n",
    "        seed_cmb=1234,\n",
    "        make_noise=False,\n",
    "        make_dipole=True,\n",
    "        make_fg=True,\n",
    "        fg_models=[\"pysm_synch_0\", \"pysm_dust_0\", \"pysm_freefree_1\"],\n",
    "        gaussian_smooth=True,\n",
    "        bandpass_int=False,\n",
    "        maps_in_ecliptic=True,\n",
    "        nside=nside,\n",
    "        units=\"K_CMB\",\n",
    "    )\n",
    "\n",
    "    mbs = lbs.Mbs(simulation=sim, parameters=mbs_params, channel_list=[channelinfo])\n",
    "\n",
    "    input_maps = mbs.run_all()[0][\"MF1_140\"]\n",
    "\n",
    "    # add monopole\n",
    "    # input_maps[0] += 2.7255\n",
    "\n",
    "\n",
    "else:\n",
    "    input_maps = None\n",
    "\n",
    "if mpi.MPI_ENABLED:\n",
    "    input_maps = comm.bcast(input_maps, root=0)"
   ]
  },
  {
   "cell_type": "markdown",
   "metadata": {},
   "source": [
    "## Generate HwpSys object and Set its parameters"
   ]
  },
  {
   "cell_type": "markdown",
   "metadata": {},
   "source": [
    "## Fill TOD and perform Mapmaking on-the-fly"
   ]
  },
  {
   "cell_type": "code",
   "execution_count": 13,
   "metadata": {},
   "outputs": [
    {
     "name": "stdout",
     "output_type": "stream",
     "text": [
      "[[-1.09245782e-03 -5.95634614e-07 -1.29045684e-06]\n",
      " [-1.05897826e-03  4.38209215e-07 -8.12875036e-07]\n",
      " [-9.89642032e-04 -7.55587311e-07  1.78996805e-06]\n",
      " ...\n",
      " [ 1.23987229e-03 -3.24191733e-06 -8.96590826e-07]\n",
      " [ 1.14099442e-03 -6.96849898e-07  6.57385554e-07]\n",
      " [ 1.01595705e-03 -7.32710634e-07 -2.17227112e-06]]\n"
     ]
    }
   ],
   "source": [
    "output_map = lbs.scan_map_in_observations(\n",
    "    maps=input_maps,\n",
    "    observations=[obs],\n",
    "    input_map_in_galactic=False,\n",
    "    build_map_on_the_fly=True,\n",
    ")"
   ]
  },
  {
   "cell_type": "code",
   "execution_count": 14,
   "metadata": {},
   "outputs": [
    {
     "name": "stdout",
     "output_type": "stream",
     "text": [
      "None\n"
     ]
    }
   ],
   "source": [
    "print(output_map)"
   ]
  },
  {
   "cell_type": "markdown",
   "metadata": {},
   "source": [
    "## Show Leakage Maps"
   ]
  },
  {
   "cell_type": "code",
   "execution_count": 15,
   "metadata": {},
   "outputs": [
    {
     "ename": "TypeError",
     "evalue": "'NoneType' object is not subscriptable",
     "output_type": "error",
     "traceback": [
      "\u001b[31m---------------------------------------------------------------------------\u001b[39m",
      "\u001b[31mTypeError\u001b[39m                                 Traceback (most recent call last)",
      "\u001b[36mCell\u001b[39m\u001b[36m \u001b[39m\u001b[32mIn[15]\u001b[39m\u001b[32m, line 5\u001b[39m\n\u001b[32m      2\u001b[39m stokes_parameters = [\u001b[33m\"\u001b[39m\u001b[33mT\u001b[39m\u001b[33m\"\u001b[39m, \u001b[33m\"\u001b[39m\u001b[33mQ\u001b[39m\u001b[33m\"\u001b[39m, \u001b[33m\"\u001b[39m\u001b[33mU\u001b[39m\u001b[33m\"\u001b[39m]\n\u001b[32m      3\u001b[39m \u001b[38;5;28;01mfor\u001b[39;00m i \u001b[38;5;129;01min\u001b[39;00m \u001b[38;5;28mrange\u001b[39m(\u001b[32m3\u001b[39m):\n\u001b[32m      4\u001b[39m     hp.mollview(\n\u001b[32m----> \u001b[39m\u001b[32m5\u001b[39m         (\u001b[43moutput_map\u001b[49m\u001b[43m[\u001b[49m\u001b[43mi\u001b[49m\u001b[43m]\u001b[49m - input_maps[i]) * \u001b[32m1e6\u001b[39m,\n\u001b[32m      6\u001b[39m         cmap=\u001b[33m\"\u001b[39m\u001b[33mjet\u001b[39m\u001b[33m\"\u001b[39m,\n\u001b[32m      7\u001b[39m         \u001b[38;5;28mmin\u001b[39m=-\u001b[32m0.025\u001b[39m,\n\u001b[32m      8\u001b[39m         \u001b[38;5;28mmax\u001b[39m=\u001b[32m0.025\u001b[39m,\n\u001b[32m      9\u001b[39m         sub=(\u001b[32m1\u001b[39m, \u001b[32m3\u001b[39m, i + \u001b[32m1\u001b[39m),\n\u001b[32m     10\u001b[39m         title=\u001b[33m\"\u001b[39m\u001b[33mLeakage \u001b[39m\u001b[33m\"\u001b[39m + stokes_parameters[i],\n\u001b[32m     11\u001b[39m     )\n",
      "\u001b[31mTypeError\u001b[39m: 'NoneType' object is not subscriptable"
     ]
    },
    {
     "data": {
      "text/plain": [
       "<Figure size 3200x1000 with 0 Axes>"
      ]
     },
     "metadata": {},
     "output_type": "display_data"
    }
   ],
   "source": [
    "plt.figure(figsize=(32, 10))\n",
    "stokes_parameters = [\"T\", \"Q\", \"U\"]\n",
    "for i in range(3):\n",
    "    hp.mollview(\n",
    "        (output_map[i] - input_maps[i]) * 1e6,\n",
    "        cmap=\"jet\",\n",
    "        min=-0.025,\n",
    "        max=0.025,\n",
    "        sub=(1, 3, i + 1),\n",
    "        title=\"Leakage \" + stokes_parameters[i],\n",
    "    )"
   ]
  }
 ],
 "metadata": {
  "kernelspec": {
   "display_name": "lbs (3.12.8)",
   "language": "python",
   "name": "python3"
  },
  "language_info": {
   "codemirror_mode": {
    "name": "ipython",
    "version": 3
   },
   "file_extension": ".py",
   "mimetype": "text/x-python",
   "name": "python",
   "nbconvert_exporter": "python",
   "pygments_lexer": "ipython3",
   "version": "3.12.8"
  }
 },
 "nbformat": 4,
 "nbformat_minor": 2
}
