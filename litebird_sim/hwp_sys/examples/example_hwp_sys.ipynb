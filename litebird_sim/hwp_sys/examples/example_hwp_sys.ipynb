{
 "cells": [
  {
   "cell_type": "markdown",
   "metadata": {},
   "source": [
    "## Import Modules"
   ]
  },
  {
   "cell_type": "code",
   "execution_count": 1,
   "metadata": {},
   "outputs": [],
   "source": [
    "import litebird_sim as lbs\n",
    "import numpy as np\n",
    "from litebird_sim.hwp_sys.hwp_sys import compute_orientation_from_detquat\n",
    "from litebird_sim import mpi\n",
    "import matplotlib.pyplot as plt\n",
    "import healpy as hp"
   ]
  },
  {
   "cell_type": "markdown",
   "metadata": {},
   "source": [
    "## Define Parameters"
   ]
  },
  {
   "cell_type": "code",
   "execution_count": null,
   "metadata": {},
   "outputs": [],
   "source": [
    "start_time = 0\n",
    "time_span_s = 365 * 24 * 3600\n",
    "nside = 128\n",
    "sampling = 19\n",
    "hwp_radpsec = lbs.IdealHWP(\n",
    "    46 * 2 * np.pi / 60,\n",
    ").ang_speed_radpsec\n",
    "\n",
    "lbs.PTEP_IMO_LOCATION = \"/.path/to/schema.json\"\n",
    "imo = lbs.Imo(flatfile_location=lbs.PTEP_IMO_LOCATION)"
   ]
  },
  {
   "cell_type": "markdown",
   "metadata": {},
   "source": [
    "## Create Simulation"
   ]
  },
  {
   "cell_type": "code",
   "execution_count": 3,
   "metadata": {},
   "outputs": [],
   "source": [
    "sim = lbs.Simulation(\n",
    "    start_time=start_time, duration_s=time_span_s, random_seed=0, imo=imo\n",
    ")\n",
    "\n",
    "comm = sim.mpi_comm"
   ]
  },
  {
   "cell_type": "markdown",
   "metadata": {},
   "source": [
    "## Define Frequency Channel"
   ]
  },
  {
   "cell_type": "code",
   "execution_count": 4,
   "metadata": {},
   "outputs": [],
   "source": [
    "channelinfo = lbs.FreqChannelInfo(\n",
    "    bandcenter_ghz=140.0,\n",
    "    channel=\"L4-140\",\n",
    "    bandwidth_ghz=42.0,\n",
    "    net_detector_ukrts=38.44,\n",
    "    net_channel_ukrts=3.581435543962163,\n",
    "    pol_sensitivity_channel_ukarcmin=7.24525963532118,\n",
    ")"
   ]
  },
  {
   "cell_type": "markdown",
   "metadata": {},
   "source": [
    "## Define Scanning Strategy"
   ]
  },
  {
   "cell_type": "code",
   "execution_count": 5,
   "metadata": {},
   "outputs": [],
   "source": [
    "scan_strat = lbs.SpinningScanningStrategy(\n",
    "    spin_sun_angle_rad=np.deg2rad(45.0),\n",
    "    precession_rate_hz=1.0 / (60.0 * 192.348),\n",
    "    spin_rate_hz=0.05 / 60.0,\n",
    ")\n",
    "\n",
    "sim.set_scanning_strategy(append_to_report=False, scanning_strategy=scan_strat)"
   ]
  },
  {
   "cell_type": "markdown",
   "metadata": {},
   "source": [
    "## Define Instrument"
   ]
  },
  {
   "cell_type": "code",
   "execution_count": 6,
   "metadata": {},
   "outputs": [],
   "source": [
    "instr = lbs.InstrumentInfo(\n",
    "    name=\"LFT\",\n",
    "    boresight_rotangle_rad=0.0,\n",
    "    spin_boresight_angle_rad=0.8726646259971648,\n",
    "    spin_rotangle_rad=0.0,\n",
    "    hwp_rpm=46.0,\n",
    "    number_of_channels=1,\n",
    ")\n",
    "\n",
    "sim.set_instrument(instr)"
   ]
  },
  {
   "cell_type": "markdown",
   "metadata": {},
   "source": [
    "## Set HWP"
   ]
  },
  {
   "cell_type": "code",
   "execution_count": 7,
   "metadata": {},
   "outputs": [],
   "source": [
    "sim.set_hwp(lbs.IdealHWP(hwp_radpsec))"
   ]
  },
  {
   "cell_type": "markdown",
   "metadata": {},
   "source": [
    "## Define Detectors"
   ]
  },
  {
   "cell_type": "code",
   "execution_count": 8,
   "metadata": {},
   "outputs": [],
   "source": [
    "dets = []\n",
    "\n",
    "quats = [\n",
    "    [0.03967584136504414, 0.03725809501267564, 0.0, 0.9985177324254199],\n",
    "    [0.05440050811606006, -0.001709604840948807, 0.706058659733029, 0.7060586597330291],\n",
    "]\n",
    "\n",
    "\n",
    "for d in range(1):\n",
    "    det = lbs.DetectorInfo.from_dict(\n",
    "        {\n",
    "            \"channel\": channelinfo,\n",
    "            \"bandcenter_ghz\": 140.0,\n",
    "            \"sampling_rate_hz\": sampling,\n",
    "            \"quat\": quats[d],\n",
    "        }\n",
    "    )\n",
    "    det.phi = 0\n",
    "    det.pol_angle_rad = compute_orientation_from_detquat(quats[d]) % (2 * np.pi)\n",
    "    det.mueller_hwp = {\n",
    "        \"0f\": np.array([[1, 0, 0], [0, 0, 0], [0, 0, 0]], dtype=np.float32),\n",
    "        \"2f\": np.array([[0, 0, 0], [0, 0, 0], [0, 0, 0]], dtype=np.float32),\n",
    "        \"4f\": np.array([[0, 0, 0], [1.65e-5, 1, 1], [1.65e-5, 1, 1]], dtype=np.float32),\n",
    "    }\n",
    "    # In this case we don't define mueller_hwp_solver, so the matrix for the mapmaking on-the-fly will be\n",
    "    # the one for the ideal rotating hwp.\n",
    "\n",
    "    dets.append(det)"
   ]
  },
  {
   "cell_type": "markdown",
   "metadata": {},
   "source": [
    "## Create Observations and Prepare Pointings"
   ]
  },
  {
   "cell_type": "code",
   "execution_count": 9,
   "metadata": {},
   "outputs": [],
   "source": [
    "(obs,) = sim.create_observations(\n",
    "    detectors=dets,\n",
    ")\n",
    "\n",
    "sim.prepare_pointings(append_to_report=False)"
   ]
  },
  {
   "cell_type": "markdown",
   "metadata": {},
   "source": [
    "## Generate Input Sky Maps"
   ]
  },
  {
   "cell_type": "code",
   "execution_count": 11,
   "metadata": {},
   "outputs": [
    {
     "name": "stderr",
     "output_type": "stream",
     "text": [
      "[2025-03-05 14:03:30,204 INFO MPI#0000] generating and saving cmb simulations\n",
      "[2025-03-05 14:03:30,230 INFO MPI#0000] Sigma is 0.000000 arcmin (0.000000 rad) \n",
      "[2025-03-05 14:03:30,231 INFO MPI#0000] -> fwhm is 0.000000 arcmin\n",
      "[2025-03-05 14:03:30,353 INFO MPI#0000] Access data from /home/mgomes/litebird/litebird_sim/litebird_sim/hwp_sys/cmb/0000/cmb_0000_date_250305.fits\n",
      "[2025-03-05 14:03:30,355 INFO MPI#0000] NSIDE = 128\n",
      "[2025-03-05 14:03:30,356 INFO MPI#0000] ORDERING = RING in fits file\n",
      "[2025-03-05 14:03:30,356 INFO MPI#0000] INDXSCHM = IMPLICIT\n",
      "[2025-03-05 14:03:30,542 INFO MPI#0000] Sigma is 0.000000 arcmin (0.000000 rad) \n",
      "[2025-03-05 14:03:30,543 INFO MPI#0000] -> fwhm is 0.000000 arcmin\n",
      "[2025-03-05 14:03:30,544 INFO MPI#0000] Sigma is 0.000000 arcmin (0.000000 rad) \n",
      "[2025-03-05 14:03:30,544 INFO MPI#0000] -> fwhm is 0.000000 arcmin\n",
      "[2025-03-05 14:03:30,552 INFO MPI#0000] generating and saving fg simulations\n",
      "[2025-03-05 14:03:30,556 INFO MPI#0000] Retrieve data for pysm_2/synch_t_new.fits (if not cached already)\n",
      "[2025-03-05 14:03:30,576 INFO MPI#0000] NSIDE = 512\n",
      "[2025-03-05 14:03:30,576 INFO MPI#0000] ORDERING = RING in fits file\n",
      "[2025-03-05 14:03:30,576 INFO MPI#0000] INDXSCHM = IMPLICIT\n",
      "[2025-03-05 14:03:30,675 INFO MPI#0000] Retrieve data for pysm_2/synch_q_new.fits (if not cached already)\n",
      "[2025-03-05 14:03:30,678 INFO MPI#0000] NSIDE = 512\n",
      "[2025-03-05 14:03:30,679 INFO MPI#0000] ORDERING = RING in fits file\n",
      "[2025-03-05 14:03:30,679 INFO MPI#0000] INDXSCHM = IMPLICIT\n",
      "[2025-03-05 14:03:30,774 INFO MPI#0000] Retrieve data for pysm_2/synch_u_new.fits (if not cached already)\n",
      "[2025-03-05 14:03:30,778 INFO MPI#0000] NSIDE = 512\n",
      "[2025-03-05 14:03:30,778 INFO MPI#0000] ORDERING = RING in fits file\n",
      "[2025-03-05 14:03:30,778 INFO MPI#0000] INDXSCHM = IMPLICIT\n",
      "[2025-03-05 14:03:32,913 INFO MPI#0000] Sigma is 0.000000 arcmin (0.000000 rad) \n",
      "[2025-03-05 14:03:32,915 INFO MPI#0000] -> fwhm is 0.000000 arcmin\n",
      "[2025-03-05 14:03:32,924 INFO MPI#0000] Sigma is 0.000000 arcmin (0.000000 rad) \n",
      "[2025-03-05 14:03:32,924 INFO MPI#0000] -> fwhm is 0.000000 arcmin\n",
      "[2025-03-05 14:03:33,017 INFO MPI#0000] Retrieve data for pysm_2/dust_t_new.fits (if not cached already)\n",
      "[2025-03-05 14:03:33,027 INFO MPI#0000] NSIDE = 512\n",
      "[2025-03-05 14:03:33,027 INFO MPI#0000] ORDERING = RING in fits file\n",
      "[2025-03-05 14:03:33,027 INFO MPI#0000] INDXSCHM = IMPLICIT\n",
      "[2025-03-05 14:03:33,128 INFO MPI#0000] Retrieve data for pysm_2/dust_q_new.fits (if not cached already)\n",
      "[2025-03-05 14:03:33,131 INFO MPI#0000] NSIDE = 512\n",
      "[2025-03-05 14:03:33,131 INFO MPI#0000] ORDERING = RING in fits file\n",
      "[2025-03-05 14:03:33,132 INFO MPI#0000] INDXSCHM = IMPLICIT\n",
      "[2025-03-05 14:03:33,225 INFO MPI#0000] Retrieve data for pysm_2/dust_u_new.fits (if not cached already)\n",
      "[2025-03-05 14:03:33,228 INFO MPI#0000] NSIDE = 512\n",
      "[2025-03-05 14:03:33,228 INFO MPI#0000] ORDERING = RING in fits file\n",
      "[2025-03-05 14:03:33,229 INFO MPI#0000] INDXSCHM = IMPLICIT\n",
      "[2025-03-05 14:03:35,322 INFO MPI#0000] Sigma is 0.000000 arcmin (0.000000 rad) \n",
      "[2025-03-05 14:03:35,323 INFO MPI#0000] -> fwhm is 0.000000 arcmin\n",
      "[2025-03-05 14:03:35,323 INFO MPI#0000] Sigma is 0.000000 arcmin (0.000000 rad) \n",
      "[2025-03-05 14:03:35,324 INFO MPI#0000] -> fwhm is 0.000000 arcmin\n",
      "[2025-03-05 14:03:35,403 INFO MPI#0000] Retrieve data for pysm_2/ff_t_new.fits (if not cached already)\n",
      "[2025-03-05 14:03:35,406 INFO MPI#0000] NSIDE = 512\n",
      "[2025-03-05 14:03:35,407 INFO MPI#0000] ORDERING = RING in fits file\n",
      "[2025-03-05 14:03:35,407 INFO MPI#0000] INDXSCHM = IMPLICIT\n",
      "[2025-03-05 14:03:36,510 INFO MPI#0000] Sigma is 0.000000 arcmin (0.000000 rad) \n",
      "[2025-03-05 14:03:36,515 INFO MPI#0000] -> fwhm is 0.000000 arcmin\n",
      "[2025-03-05 14:03:36,515 INFO MPI#0000] Sigma is 0.000000 arcmin (0.000000 rad) \n",
      "[2025-03-05 14:03:36,516 INFO MPI#0000] -> fwhm is 0.000000 arcmin\n",
      "[2025-03-05 14:03:36,598 INFO MPI#0000] generating and saving dipole\n",
      "[2025-03-05 14:03:37,309 INFO MPI#0000] Sigma is 0.000000 arcmin (0.000000 rad) \n",
      "[2025-03-05 14:03:37,309 INFO MPI#0000] -> fwhm is 0.000000 arcmin\n"
     ]
    }
   ],
   "source": [
    "if comm.rank == 0:\n",
    "    Mbsparams = lbs.MbsParameters(\n",
    "        make_cmb=True,\n",
    "        seed_cmb=1234,\n",
    "        make_noise=False,\n",
    "        make_dipole=True,\n",
    "        make_fg=True,\n",
    "        fg_models=[\"pysm_synch_0\", \"pysm_dust_0\", \"pysm_freefree_1\"],\n",
    "        gaussian_smooth=True,\n",
    "        bandpass_int=False,\n",
    "        maps_in_ecliptic=True,\n",
    "        nside=nside,\n",
    "        units=\"K_CMB\",\n",
    "    )\n",
    "\n",
    "    mbs = lbs.Mbs(simulation=sim, parameters=Mbsparams, channel_list=[channelinfo])\n",
    "\n",
    "    input_maps = mbs.run_all()[0][\"L4-140\"]\n",
    "\n",
    "else:\n",
    "    input_maps = None\n",
    "\n",
    "if mpi.MPI_ENABLED:\n",
    "    input_maps = comm.bcast(input_maps, root=0)"
   ]
  },
  {
   "cell_type": "markdown",
   "metadata": {},
   "source": [
    "## Generate HwpSys object and Set its parameters"
   ]
  },
  {
   "cell_type": "code",
   "execution_count": 12,
   "metadata": {},
   "outputs": [],
   "source": [
    "hwp_sys = lbs.HwpSys(sim)\n",
    "\n",
    "hwp_sys.set_parameters(\n",
    "    nside=nside,\n",
    "    maps=input_maps,\n",
    "    Channel=channelinfo,\n",
    "    Mbsparams=Mbsparams,\n",
    "    integrate_in_band=False,\n",
    "    integrate_in_band_solver=False,\n",
    "    build_map_on_the_fly=True,\n",
    "    comm=comm,\n",
    ")"
   ]
  },
  {
   "cell_type": "markdown",
   "metadata": {},
   "source": [
    "## Fill TOD and perform Mapmaking on-the-fly"
   ]
  },
  {
   "cell_type": "code",
   "execution_count": null,
   "metadata": {},
   "outputs": [],
   "source": [
    "hwp_sys.fill_tod(\n",
    "    observations=[obs],\n",
    "    input_map_in_galactic=False,\n",
    ")\n",
    "\n",
    "output_maps = hwp_sys.make_map([obs])"
   ]
  },
  {
   "cell_type": "markdown",
   "metadata": {},
   "source": [
    "## Show Leakage Maps"
   ]
  },
  {
   "cell_type": "code",
   "execution_count": null,
   "metadata": {},
   "outputs": [],
   "source": [
    "plt.figure(figsize=(32, 10))\n",
    "stokes_parameters = [\"T\", \"Q\", \"U\"]\n",
    "for i in range(3):\n",
    "    hp.mollview(\n",
    "        (output_maps[i] - input_maps[i]) * 1e6,\n",
    "        cmap=\"jet\",\n",
    "        min=-0.025,\n",
    "        max=0.025,\n",
    "        sub=(1, 3, i + 1),\n",
    "        title=\"Leakage \" + stokes_parameters[i],\n",
    "    )"
   ]
  }
 ],
 "metadata": {
  "kernelspec": {
   "display_name": "venvPy12",
   "language": "python",
   "name": "venvpy12"
  },
  "language_info": {
   "codemirror_mode": {
    "name": "ipython",
    "version": 3
   },
   "file_extension": ".py",
   "mimetype": "text/x-python",
   "name": "python",
   "nbconvert_exporter": "python",
   "pygments_lexer": "ipython3",
   "version": "3.12.5"
  }
 },
 "nbformat": 4,
 "nbformat_minor": 2
}
