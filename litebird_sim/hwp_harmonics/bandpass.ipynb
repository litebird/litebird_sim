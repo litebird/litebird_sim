{
 "cells": [
  {
   "cell_type": "code",
   "execution_count": 1,
   "id": "21172572",
   "metadata": {},
   "outputs": [],
   "source": [
    "import litebird_sim as lbs\n",
    "import numpy as np\n",
    "import healpy as hp\n",
    "import matplotlib.pyplot as plt\n",
    "import warnings\n",
    "\n",
    "%matplotlib inline\n",
    "plt.rcParams.update({\"font.size\": 16})\n",
    "warnings.filterwarnings(\"ignore\")"
   ]
  },
  {
   "cell_type": "code",
   "execution_count": 2,
   "id": "969621a7",
   "metadata": {},
   "outputs": [],
   "source": [
    "# general\n",
    "nside = 64\n",
    "n_months = 3\n",
    "sim_days = 30 * n_months\n",
    "channel = \"M1-100\"\n",
    "instrument = channel[0] + \"FT\"\n",
    "sampling = 1  # this replaces channelinfo.sampling_rate_hz\n",
    "imo_version = \"vPTEP\"  # \"v1.3\"\n",
    "\n",
    "# simulation parameters\n",
    "base_path = \"./HWP_tutorial\"\n",
    "start_time = \"2030-04-01T00:00:00\"\n",
    "\n",
    "# hwp_sys parameters\n",
    "integrate_in_band = \"true\"\n",
    "integrate_in_band_solver = \"true\"\n",
    "built_map_on_the_fly = \"true\"\n",
    "correct_in_solver = \"true\"\n",
    "# del hwp_sys\n",
    "\n",
    "\n",
    "# for band-integration, HWP systematics are passed through txt files\n",
    "# order of the fields: frequency[GHz] h1 h2 beta[deg] z1 z2\n",
    "# remember to set integrate_in_band and integrate_in_band_solver to 'true'\n",
    "band_filename = \"./HWP_systematics.txt\"  # tod filling\n",
    "band_filename_solver = \"./HWP_systematics.txt\"  # map-making"
   ]
  },
  {
   "cell_type": "code",
   "execution_count": 3,
   "id": "d59db14b",
   "metadata": {},
   "outputs": [],
   "source": [
    "# creation of a parameter (.toml) file\n",
    "toml_filename = \"./HWP_tutorial.toml\"\n",
    "with open(toml_filename, \"w\") as f:\n",
    "    f.write(\"[general]\\n\")  # --------------- GENERAL ---------------\n",
    "    f.write(\"imo_version       = '\" + imo_version + \"'\\n\")\n",
    "    f.write(\"instrument        = '\" + instrument + \"'\\n\")\n",
    "    f.write(\"channel           = '\" + channel + \"'\\n\")\n",
    "    f.write(\"nside             = \" + str(nside) + \"\\n\")\n",
    "    f.write(\"mission_time_days = '\" + str(sim_days) + \"'\\n\\n\")\n",
    "\n",
    "    f.write(\"[simulation]\\n\")  # --------------- SIMULATION ---------------\n",
    "    f.write(\"base_path  = '\" + base_path + \"'\\n\")\n",
    "    f.write(\"start_time = '\" + start_time + \"'\\n\")\n",
    "    f.write(\"duration_s = '\" + str(sim_days) + \" days'\\n\")\n",
    "    f.write(\"name       = '\" + \"HWP_tutorial'\\n\\n\")\n",
    "\n",
    "    f.write(\"[hwp_sys]\\n\")  # --------------- HWP_SYS ---------------\n",
    "    f.write(f\"integrate_in_band        = {integrate_in_band}\\n\")\n",
    "    f.write(f\"integrate_in_band_solver = {integrate_in_band_solver}\\n\")\n",
    "    f.write(f\"built_map_on_the_fly     = {built_map_on_the_fly}\\n\")\n",
    "    f.write(f\"correct_in_solver        = {correct_in_solver}\\n\")\n",
    "    f.write(\n",
    "        \"band_filename        = '\" + band_filename + \"'\\n\"\n",
    "    )  # FUNDAMENTAL FOR READING HWP SYSTEMATICS PARAMETERS\n",
    "    f.write(\n",
    "        \"band_filename_solver = '\" + band_filename_solver + \"'\\n\"\n",
    "    )  # FUNDAMENTAL FOR READING HWP SYSTEMATICS PARAMETERS\n",
    "    f.close()"
   ]
  },
  {
   "cell_type": "code",
   "execution_count": 4,
   "id": "d8ba4ce1",
   "metadata": {},
   "outputs": [],
   "source": [
    "imo = lbs.Imo(flatfile_location=lbs.PTEP_IMO_LOCATION)\n",
    "sim_band_int = lbs.Simulation(\n",
    "    parameter_file=toml_filename,\n",
    "    random_seed=0,\n",
    ")"
   ]
  },
  {
   "cell_type": "code",
   "execution_count": 5,
   "id": "e2b3228f",
   "metadata": {},
   "outputs": [],
   "source": [
    "# emptying the tod\n",
    "# obs.tod = np.zeros_like(obs.tod)\n",
    "instrumentinfo = lbs.InstrumentInfo.from_imo(\n",
    "    imo, f\"/releases/{imo_version}/satellite/{instrument}/instrument_info\"\n",
    ")\n",
    "\n",
    "sim_band_int.set_instrument(instrumentinfo)\n",
    "\n",
    "sim_band_int.set_scanning_strategy(\n",
    "    imo_url=f\"/releases/{imo_version}/satellite/scanning_parameters/\"\n",
    ")\n",
    "\n",
    "channelinfo = lbs.FreqChannelInfo.from_imo(\n",
    "    url=f\"/releases/{imo_version}/satellite/{instrument}/{channel}/channel_info\",\n",
    "    imo=imo,\n",
    ")\n",
    "\n",
    "hwp_radpsec = lbs.IdealHWP(\n",
    "    instrumentinfo.hwp_rpm * 2 * np.pi / 60,\n",
    ").ang_speed_radpsec\n",
    "\n",
    "sim_band_int.set_hwp(lbs.IdealHWP(hwp_radpsec))\n",
    "dets = []\n",
    "\n",
    "for detname in (\n",
    "    \"001_003_030_00A_100_T\",\n",
    "    \"001_003_030_00A_100_B\",\n",
    "):  # we choose the couple of detector at the MFT boresight\n",
    "    det = lbs.DetectorInfo.from_imo(\n",
    "        url=f\"/releases/{imo_version}/satellite/{instrument}/{channel}/{detname}/detector_info\",\n",
    "        imo=imo,\n",
    "    )\n",
    "    det.sampling_rate_hz = sampling\n",
    "    dets.append(det)\n",
    "\n",
    "(obs,) = sim_band_int.create_observations(dets)\n",
    "sim_band_int.prepare_pointings()"
   ]
  },
  {
   "cell_type": "code",
   "execution_count": null,
   "id": "b21fa211",
   "metadata": {},
   "outputs": [
    {
     "name": "stderr",
     "output_type": "stream",
     "text": [
      "[2025-07-09 10:02:38,940 INFO MPI#0000] generating and saving cmb simulations\n",
      "[2025-07-09 10:02:38,952 INFO MPI#0000] Sigma is 0.000000 arcmin (0.000000 rad) \n",
      "[2025-07-09 10:02:38,953 INFO MPI#0000] -> fwhm is 0.000000 arcmin\n",
      "[2025-07-09 10:02:39,577 INFO MPI#0000] Sigma is 16.052182 arcmin (0.004669 rad) \n",
      "[2025-07-09 10:02:39,578 INFO MPI#0000] -> fwhm is 37.800000 arcmin\n",
      "[2025-07-09 10:02:39,579 INFO MPI#0000] Sigma is 0.000000 arcmin (0.000000 rad) \n",
      "[2025-07-09 10:02:39,579 INFO MPI#0000] -> fwhm is 0.000000 arcmin\n"
     ]
    },
    {
     "name": "stdout",
     "output_type": "stream",
     "text": [
      "True True True True\n",
      "[1.1887 1.1887 1.1887]\n"
     ]
    }
   ],
   "source": [
    "hwp_sys = lbs.OldHwpSys(sim_band_int)\n",
    "\n",
    "Mbsparams = lbs.MbsParameters(\n",
    "    make_cmb=True,\n",
    "    seed_cmb=1234,\n",
    "    cmb_r=0.0,\n",
    "    make_fg=False,\n",
    "    gaussian_smooth=True,\n",
    "    bandpass_int=False,\n",
    "    maps_in_ecliptic=False,\n",
    "    nside=nside,\n",
    "    units=\"K_CMB\",\n",
    ")\n",
    "\n",
    "mbs = lbs.Mbs(\n",
    "    simulation=sim_band_int,\n",
    "    parameters=Mbsparams,\n",
    "    channel_list=channelinfo,\n",
    ")\n",
    "input_map = mbs.run_all()[0][channel]\n",
    "# in principle one should produce as many input maps as the number of frequencies of the band_width\n",
    "# for simplicity and to save memory we scan only CMB, so we can re-use the same CMB map for the band_width\n",
    "hwp_sys.set_parameters(\n",
    "    nside=nside,\n",
    "    mueller_or_jones=\"jones\",\n",
    "    maps=[input_map, input_map, input_map],\n",
    "    Channel=channelinfo,\n",
    "    #     integrate_in_band=integrate_in_band,\n",
    "    #     integrate_in_band_solver=integrate_in_band_solver,\n",
    "    #     correct_in_solver=correct_in_solver,\n",
    "    #     built_map_on_the_fly=built_map_on_the_fly,\n",
    ")\n",
    "# same as before for the previous 4 lines\n",
    "print(\n",
    "    hwp_sys.integrate_in_band,\n",
    "    hwp_sys.integrate_in_band_solver,\n",
    "    hwp_sys.correct_in_solver,\n",
    "    hwp_sys.built_map_on_the_fly,\n",
    ")\n",
    "print(hwp_sys.mII)"
   ]
  },
  {
   "cell_type": "code",
   "execution_count": null,
   "id": "96e33689",
   "metadata": {},
   "outputs": [
    {
     "name": "stdout",
     "output_type": "stream",
     "text": [
      "(3, 49152)\n"
     ]
    },
    {
     "ename": "IndexError",
     "evalue": "too many indices for array: array is 2-dimensional, but 3 were indexed",
     "output_type": "error",
     "traceback": [
      "\u001b[31m---------------------------------------------------------------------------\u001b[39m",
      "\u001b[31mIndexError\u001b[39m                                Traceback (most recent call last)",
      "\u001b[36mCell\u001b[39m\u001b[36m \u001b[39m\u001b[32mIn[9]\u001b[39m\u001b[32m, line 5\u001b[39m\n\u001b[32m      1\u001b[39m \u001b[38;5;66;03m# we do not pass pointings, they are computed on the fly\u001b[39;00m\n\u001b[32m      2\u001b[39m \u001b[38;5;66;03m# (i.e. for all time-samples but for 1 detector at a time)\u001b[39;00m\n\u001b[32m      3\u001b[39m \u001b[38;5;66;03m# this reduces memory allocation without really slowing down the code\u001b[39;00m\n\u001b[32m      4\u001b[39m \u001b[38;5;28mprint\u001b[39m(hwp_sys.maps.shape)\n\u001b[32m----> \u001b[39m\u001b[32m5\u001b[39m \u001b[38;5;28mprint\u001b[39m(\u001b[43mhwp_sys\u001b[49m\u001b[43m.\u001b[49m\u001b[43mmaps\u001b[49m\u001b[43m[\u001b[49m\u001b[43m:\u001b[49m\u001b[43m,\u001b[49m\u001b[43m \u001b[49m\u001b[32;43m0\u001b[39;49m\u001b[43m,\u001b[49m\u001b[43m \u001b[49m\u001b[32;43m0\u001b[39;49m\u001b[43m]\u001b[49m) \n\u001b[32m      6\u001b[39m hwp_sys.fill_tod(\n\u001b[32m      7\u001b[39m     observations=obs,\n\u001b[32m      8\u001b[39m     input_map_in_galactic=\u001b[38;5;28;01mTrue\u001b[39;00m,\n\u001b[32m      9\u001b[39m     \u001b[38;5;66;03m# pointings=pointings,\u001b[39;00m\n\u001b[32m     10\u001b[39m     \u001b[38;5;66;03m# hwp_angle=hwp_angle,\u001b[39;00m\n\u001b[32m     11\u001b[39m )\n",
      "\u001b[31mIndexError\u001b[39m: too many indices for array: array is 2-dimensional, but 3 were indexed"
     ]
    }
   ],
   "source": [
    "# we do not pass pointings, they are computed on the fly\n",
    "# (i.e. for all time-samples but for 1 detector at a time)\n",
    "# this reduces memory allocation without really slowing down the code\n",
    "print(hwp_sys.maps.shape)\n",
    "\n",
    "hwp_sys.fill_tod(\n",
    "    observations=obs,\n",
    "    input_map_in_galactic=True,\n",
    "    # pointings=pointings,\n",
    "    # hwp_angle=hwp_angle,\n",
    ")"
   ]
  },
  {
   "cell_type": "code",
   "execution_count": null,
   "id": "5a10d6d2",
   "metadata": {},
   "outputs": [],
   "source": [
    "# again, we do not pass pointings, they are computed on the fly\n",
    "m_lbs = lbs.make_binned_map(\n",
    "    nside,\n",
    "    [obs],\n",
    ")"
   ]
  },
  {
   "cell_type": "code",
   "execution_count": null,
   "id": "e9b5c773",
   "metadata": {},
   "outputs": [],
   "source": [
    "plt.figure(figsize=(16, 10))\n",
    "ranges = 30\n",
    "hp.mollview(\n",
    "    (m_lbs.binned_map[0] - input_map[0]) * 1e6,\n",
    "    unit=\"$\\mu$K\",\n",
    "    sub=(1, 3, 1),\n",
    "    title=\"residual T\",\n",
    "    coord=[\"G\"],\n",
    "    min=-ranges,\n",
    "    max=ranges,\n",
    ")\n",
    "hp.mollview(\n",
    "    (m_lbs.binned_map[1] - input_map[1]) * 1e6,\n",
    "    unit=\"$\\mu$K\",\n",
    "    sub=(1, 3, 2),\n",
    "    title=\"residual Q\",\n",
    "    coord=[\"G\"],\n",
    "    min=-ranges * 1e-1,\n",
    "    max=ranges * 1e-1,\n",
    ")\n",
    "hp.mollview(\n",
    "    (m_lbs.binned_map[2] - input_map[2]) * 1e6,\n",
    "    unit=\"$\\mu$K\",\n",
    "    sub=(1, 3, 3),\n",
    "    title=\"residual U\",\n",
    "    coord=[\"G\"],\n",
    "    min=-ranges * 1e-1,\n",
    "    max=ranges * 1e-1,\n",
    ")\n",
    "plt.tight_layout()"
   ]
  }
 ],
 "metadata": {
  "kernelspec": {
   "display_name": "venv",
   "language": "python",
   "name": "python3"
  },
  "language_info": {
   "codemirror_mode": {
    "name": "ipython",
    "version": 3
   },
   "file_extension": ".py",
   "mimetype": "text/x-python",
   "name": "python",
   "nbconvert_exporter": "python",
   "pygments_lexer": "ipython3",
   "version": "3.12.8"
  }
 },
 "nbformat": 4,
 "nbformat_minor": 5
}
